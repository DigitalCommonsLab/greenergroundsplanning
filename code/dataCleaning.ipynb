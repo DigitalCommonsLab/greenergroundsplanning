{
 "cells": [
  {
   "cell_type": "markdown",
   "metadata": {},
   "source": [
    "# Title: Data cleaning\n",
    "\n",
    "## Description:\n",
    "In this file we are going to load the open data of the trees under maintenance in Bologna and clean it to be able to use it in i-Tree Eco.\n",
    "\n",
    "Mainly we are going to:\n",
    "- Load the data from the opendata website\n",
    "- Clean the data\n",
    "    - Calculate the diameter at breast height (dbh)\n",
    "    - Calculate the height of each tree\n",
    "    - Split the \"GeoPoint\" column into latitude and longitude\n",
    "    - Calculate the crown size from the species name and height\n",
    "- Save the data in a xlsx file\n",
    "\n",
    "The data will be then used in the i-Tree Eco model to calculate the ecobenefit provided by the trees.\n",
    "The resulting data will be managed in the file dataModeling.ipynb\n",
    "[]: # Path: dataModeling.ipynb"
   ]
  },
  {
   "cell_type": "code",
   "execution_count": 1,
   "metadata": {},
   "outputs": [
    {
     "name": "stderr",
     "output_type": "stream",
     "text": [
      "/Users/luca/opt/anaconda3/envs/geo_env/lib/python3.10/site-packages/fuzzywuzzy/fuzz.py:11: UserWarning: Using slow pure-python SequenceMatcher. Install python-Levenshtein to remove this warning\n",
      "  warnings.warn('Using slow pure-python SequenceMatcher. Install python-Levenshtein to remove this warning')\n"
     ]
    }
   ],
   "source": [
    "import pandas as pd\n",
    "import numpy as np\n",
    "import re\n",
    "from fuzzywuzzy import fuzz"
   ]
  },
  {
   "cell_type": "code",
   "execution_count": 2,
   "metadata": {},
   "outputs": [],
   "source": [
    "bologna_trees_url= \"https://opendata.comune.bologna.it/api/explore/v2.1/catalog/datasets/alberi-manutenzioni/exports/csv?lang=it&timezone=Europe%2FRome&use_labels=true&delimiter=%3B\"\n",
    "bologna_trees = pd.read_csv(bologna_trees_url, sep=\";\")"
   ]
  },
  {
   "cell_type": "code",
   "execution_count": 3,
   "metadata": {},
   "outputs": [
    {
     "name": "stdout",
     "output_type": "stream",
     "text": [
      "(85043, 19)\n"
     ]
    }
   ],
   "source": [
    "# print the number of rows and columns\n",
    "print(bologna_trees.shape)"
   ]
  },
  {
   "cell_type": "code",
   "execution_count": 3,
   "metadata": {},
   "outputs": [
    {
     "data": {
      "text/plain": [
       "array(['Cl2: 15 - 30 (5-10 cm)', 'Cl1: < 15 (5 cm)',\n",
       "       'Cl6: 90 - 110 (28-35cm)', 'Cl7: 110 - 140 (35-45 cm)',\n",
       "       'Cl3: 30 - 45 (10 – 15 cm)', 'Cl5: 60 - 90 (19-28 cm)',\n",
       "       'Cl8: 140 - 170 (45-54cm)', 'Cl11: 230 - 260 (73-80 cm)',\n",
       "       'Cl12: > 260 (> 80 cm)', 'Cl4: 45 - 60 (15-19 cm)',\n",
       "       'Cl9: 170 - 200 (54-64 cm)', 'Cl10: 200 - 230 (64-73 cm)', nan],\n",
       "      dtype=object)"
      ]
     },
     "execution_count": 3,
     "metadata": {},
     "output_type": "execute_result"
    }
   ],
   "source": [
    "bologna_trees['Classe circonferenza (diametro)'].unique()"
   ]
  },
  {
   "cell_type": "code",
   "execution_count": 4,
   "metadata": {},
   "outputs": [
    {
     "data": {
      "text/plain": [
       "44"
      ]
     },
     "execution_count": 4,
     "metadata": {},
     "output_type": "execute_result"
    }
   ],
   "source": [
    "# count the values that have nan is the column 'Classe circonferenza (diametro)'\n",
    "bologna_trees['Classe circonferenza (diametro)'].isna().sum()"
   ]
  },
  {
   "cell_type": "code",
   "execution_count": 5,
   "metadata": {},
   "outputs": [],
   "source": [
    "# Remove the 'Classe circonferenza (diametro)' column and create a new 'dbh' column, with the diameter at breast height\n",
    "def convert_diameter(value):\n",
    "    if isinstance(value, str):\n",
    "        parts = value.split(':')\n",
    "        if len(parts) == 2:\n",
    "            range_values = parts[1].strip().split('-')\n",
    "            if len(range_values) == 3:\n",
    "                min_value = re.search(r'\\((\\d+)', range_values[1])\n",
    "                min_value = min_value.group(1)\n",
    "                max_value = ''.join(filter(str.isdigit, range_values[2]))\n",
    "                if min_value.isdigit() and max_value.isdigit():\n",
    "                    min_value = int(min_value)\n",
    "                    max_value = int(max_value)\n",
    "                    return (min_value + max_value) / 2  # Taking the average+\n",
    "            else: \n",
    "                # that means is of class 'Cl12: > 260 (> 80 cm)\n",
    "                return 80\n",
    "    return None\n",
    "\n",
    "\n",
    "# Apply the conversion function to create a new 'dbh' column\n",
    "bologna_trees['dbh'] = bologna_trees['Classe circonferenza (diametro)'].apply(convert_diameter)"
   ]
  },
  {
   "cell_type": "code",
   "execution_count": 6,
   "metadata": {},
   "outputs": [
    {
     "data": {
      "text/plain": [
       "array(['Cl1: <6mt', 'Cl4: 16mt - 23mt', 'Cl2: 6mt - 12mt',\n",
       "       'Cl3: 12mt - 16mt', 'Cl5: >23mt', nan, 'ClCl1: <6mt: <6mt'],\n",
       "      dtype=object)"
      ]
     },
     "execution_count": 6,
     "metadata": {},
     "output_type": "execute_result"
    }
   ],
   "source": [
    "# find the unique values of the 'Classe di altezza' column\n",
    "bologna_trees['Classe di altezza'].unique()"
   ]
  },
  {
   "cell_type": "code",
   "execution_count": 7,
   "metadata": {},
   "outputs": [],
   "source": [
    "# Define a custom function to extract the mean height value\n",
    "def extract_mean_height_Bologna(value):\n",
    "    if isinstance(value, str):\n",
    "        parts = value.split(':')\n",
    "        if len(parts) == 2:\n",
    "            range_values = parts[1].strip().split('-')\n",
    "            if len(range_values) == 2:\n",
    "                min_value = float(range_values[0].strip()[:-2])  # Removing 'mt'\n",
    "                max_value = float(range_values[1].strip()[:-2])  # Removing 'mt'\n",
    "            # if we have the Cl 1 (Cl1: <6mt), put the heigth to 3\n",
    "            else:\n",
    "                min_value = 3\n",
    "                max_value = 3\n",
    "            return (min_value + max_value) / 2  # Taking the average\n",
    "    return None\n",
    "\n",
    "# Apply the custom function to create a new 'total_height' column\n",
    "bologna_trees['total_height'] = bologna_trees['Classe di altezza'].apply(extract_mean_height_Bologna)"
   ]
  },
  {
   "cell_type": "code",
   "execution_count": 8,
   "metadata": {},
   "outputs": [],
   "source": [
    "# Split the \"GeoPoint\" column into latitude and longitude\n",
    "bologna_trees[['Latitude', 'Longitude']] = bologna_trees['Geo Point'].str.split(',', expand=True).astype(float)"
   ]
  },
  {
   "cell_type": "markdown",
   "metadata": {},
   "source": [
    "# Title: Crown size\n",
    "## Description:\n",
    "Due to the problem that crown size is a reccomended field in i-Tree Eco we want to find a way to estimate it from other parameters. \n",
    "## Method:\n",
    "- We searched for datasets:\n",
    "    - In the italian government website: https://www.dati.gov.it/view-dataset?Cerca=alberi&page=1\n",
    "    - In the european website: https://data.europa.eu/data/datasets/c91a4635-8b7d-43fe-9b27-d95dec8392a7?locale=en\n",
    "- For these datasets we searched for the field crown size and for the ones that had it we downloaded them.\n",
    "- After that we matched the species inside our dataset with the ones in the downloaded datasets."
   ]
  },
  {
   "cell_type": "code",
   "execution_count": null,
   "metadata": {},
   "outputs": [],
   "source": [
    "vienna_trees = pd.read_csv('../data/crown_size/alberi_Vienna.csv', sep=\",\")"
   ]
  },
  {
   "cell_type": "code",
   "execution_count": 9,
   "metadata": {},
   "outputs": [
    {
     "name": "stderr",
     "output_type": "stream",
     "text": [
      "/var/folders/j8/fjrnp8w15sbf5q2fdgnpb0br0000gn/T/ipykernel_42984/3146187152.py:22: FutureWarning: The default value of regex will change from True to False in a future version.\n",
      "  vienna_trees['Specie arborea'] = vienna_trees['Specie arborea'].str.replace(r\"\\(.*\\)\",\"\")\n"
     ]
    }
   ],
   "source": [
    "# rename the columns to the italian names\n",
    "vienna_trees.rename(columns={'OBJECTID':'ID OGGETTO'}, inplace=True)\n",
    "vienna_trees.rename(columns={'SHAPE':'FORMA'}, inplace=True)\n",
    "vienna_trees.rename(columns={'BAUM_ID':'ID_ALBERO'}, inplace=True)\n",
    "vienna_trees.rename(columns={'DATENFUEHRUNG':'GUIDA DATI'}, inplace=True)\n",
    "vienna_trees.rename(columns={'BEZIRK':'DISTRICT'}, inplace=True)\n",
    "vienna_trees.rename(columns={'OBJEKT_STRASSE':'OBJECT_STREET'}, inplace=True)\n",
    "vienna_trees.rename(columns={'GEBIETSGRUPPE':'AREA GRUPPO'}, inplace=True)\n",
    "vienna_trees.rename(columns={'PFLANZJAHR':'ANNO DI PIANTATURA'}, inplace=True)\n",
    "vienna_trees.rename(columns={'PFLANZJAHR_TXT':'ANNO_TXT PIANTATURA'}, inplace=True)\n",
    "vienna_trees.rename(columns={'STAMMUMFANG':'CIRCONFERENZA TRUN'}, inplace=True)\n",
    "vienna_trees.rename(columns={'STAMMUMFANG_TXT':'CIRCUMFERENZA FIDUCIA_TXT'}, inplace=True)\n",
    "vienna_trees.rename(columns={'BAUMHOEHE':'ALTEZZA ALBERO'}, inplace=True)\n",
    "vienna_trees.rename(columns={'BAUMHOEHE_TXT':'ALTEZZA ALBERO_TXT'}, inplace=True)\n",
    "vienna_trees.rename(columns={'KRONENDURCHMESSER':'DIAMETRO CORONA'}, inplace=True)\n",
    "vienna_trees.rename(columns={'KRONENDURCHMESSER_TXT':'DIAMETRO CORONA_TXT'}, inplace=True)\n",
    "vienna_trees.rename(columns={'BAUMNUMMER':'NUMERO ALBERO'}, inplace=True)\n",
    "\n",
    "# change the column \"GATTUNG_ART\" in vienna_trees to \"Species arborea\" and change the values inside it, remove the () at the end\n",
    "# example: Quercus spec. (Eiche) -> Quercus spec.\n",
    "vienna_trees.rename(columns={'GATTUNG_ART':'Specie arborea'}, inplace=True)\n",
    "vienna_trees['Specie arborea'] = vienna_trees['Specie arborea'].str.replace(r\"\\(.*\\)\",\"\")\n"
   ]
  },
  {
   "cell_type": "markdown",
   "metadata": {},
   "source": [
    "We extract the unique values for the column 'Specie arborea' from the different datasets"
   ]
  },
  {
   "cell_type": "code",
   "execution_count": 4,
   "metadata": {},
   "outputs": [],
   "source": [
    "species_Bologna = bologna_trees['Specie arborea'].unique()\n",
    "species_Vienna = vienna_trees['Specie arborea'].unique()"
   ]
  },
  {
   "cell_type": "code",
   "execution_count": 6,
   "metadata": {},
   "outputs": [
    {
     "data": {
      "text/plain": [
       "(315,)"
      ]
     },
     "execution_count": 6,
     "metadata": {},
     "output_type": "execute_result"
    }
   ],
   "source": [
    "species_Bologna.shape"
   ]
  },
  {
   "cell_type": "code",
   "execution_count": 11,
   "metadata": {},
   "outputs": [
    {
     "data": {
      "text/plain": [
       "array(['Prunus cerasifera (var. Pissardi)', 'Fraxinus ornus',\n",
       "       'Fraxinus excelsior', 'Acer campestre', 'Aesculus hippocastanum'],\n",
       "      dtype=object)"
      ]
     },
     "execution_count": 11,
     "metadata": {},
     "output_type": "execute_result"
    }
   ],
   "source": [
    "# print a sample of the species in Bologna\n",
    "species_Bologna[0:5]"
   ]
  },
  {
   "cell_type": "code",
   "execution_count": 12,
   "metadata": {},
   "outputs": [
    {
     "data": {
      "text/plain": [
       "array([\"Acer platanoides 'Olmstedt' \", \"Tilia cordata 'Rancho' \",\n",
       "       \"Acer campestre 'Elsrijk' \", 'Populus x canadensis ',\n",
       "       'Acer platanoides '], dtype=object)"
      ]
     },
     "execution_count": 12,
     "metadata": {},
     "output_type": "execute_result"
    }
   ],
   "source": [
    "# print a sample of the species in Vienna\n",
    "species_Vienna[0:5]"
   ]
  },
  {
   "cell_type": "code",
   "execution_count": 13,
   "metadata": {},
   "outputs": [
    {
     "data": {
      "text/plain": [
       "array(['13-15 m', '19-21 m', '7-9 m', '16-18 m', '10-12 m', '4-6 m',\n",
       "       '0-3 m', '>21 m', 'nicht bekannt'], dtype=object)"
      ]
     },
     "execution_count": 13,
     "metadata": {},
     "output_type": "execute_result"
    }
   ],
   "source": [
    "# print the unique values of DIAMETRO CORONA_TXT for the species 'Populus x canadensis ' (Vienna)\n",
    "vienna_trees.loc[vienna_trees['Specie arborea'] == 'Populus x canadensis ', 'DIAMETRO CORONA_TXT'].unique()"
   ]
  },
  {
   "cell_type": "markdown",
   "metadata": {},
   "source": [
    "Now we write a function that compares the species in our dataset and return the best match for each one of them in the downloaded datasets.\n",
    "For the string similarity we use the fuzzywuzzy library. Fuzzy string matching like a boss. It uses Levenshtein Distance to calculate the differences between sequences in a simple-to-use package."
   ]
  },
  {
   "cell_type": "code",
   "execution_count": 14,
   "metadata": {},
   "outputs": [],
   "source": [
    "# Convert all elements to strings\n",
    "species_Bologna = np.array([str(item) for item in species_Bologna], dtype=object)\n",
    "species_Vienna = np.array([str(item) for item in species_Vienna], dtype=object)\n",
    "\n",
    "# Initialize lists to store results\n",
    "result_data = []\n",
    "no_matching_species = []\n",
    "\n",
    "# Iterate through each species in array_1\n",
    "for species_bol in species_Bologna:\n",
    "    best_match = None\n",
    "    best_score = 0\n",
    "\n",
    "    # Calculate similarity scores with species in array_2\n",
    "    for species_v in species_Vienna:\n",
    "        similarity_score = fuzz.token_sort_ratio(species_bol, species_v)\n",
    "        if similarity_score > best_score:\n",
    "            best_score = similarity_score\n",
    "            best_match = species_v\n",
    "\n",
    "    # Check if the similarity score is below 70, we just pick the family name of the species\n",
    "    if best_score < 70:\n",
    "        # Check if the first word of species_bol matches any first word in array_2\n",
    "        first_word_1 = species_bol.split()[0]\n",
    "        matching_family = None\n",
    "\n",
    "        # Iterate through the array\n",
    "        for item in species_Vienna:\n",
    "            if first_word_1 in item:\n",
    "                matching_family = item\n",
    "                break  # Exit the loop as soon as a match is found\n",
    "        \n",
    "        if matching_family:\n",
    "            # Include records with a family match in result_data\n",
    "            result_data.append({'Species_Bologna': species_bol, 'Closest_Species': best_match, 'Similarity_Score': best_score})\n",
    "        else:\n",
    "            # Save records with no matching family in no_matching_species\n",
    "            no_matching_species.append({'Species_Bologna': species_bol, 'Closest_Species': '', 'Similarity_Score': 0})\n",
    "    else:\n",
    "        # Include records with a similarity score above or equal to 70 in result_data\n",
    "        result_data.append({'Species_Bologna': species_bol, 'Closest_Species': best_match, 'Similarity_Score': best_score})\n",
    "\n",
    "# Create a DataFrame from the lists of dictionaries\n",
    "result_df = pd.DataFrame(result_data)\n",
    "no_matching_species_df = pd.DataFrame(no_matching_species)"
   ]
  },
  {
   "cell_type": "markdown",
   "metadata": {},
   "source": [
    "To summarize, we will have:\n",
    "- result_df: the dataframe with the species in our dataset and the best match for each one of them in the downloaded datasets. The ones with a similarity score lower than 70 are the ones with the family name in common (for family name we consider the first word of the species, example: \"Quercus spec. (Eiche)\" -> \"Quercus\" is the family name).\n",
    "- no_matching_species_df: the dataframe with the species in our dataset that had a similarity score lower than 70 with all the species in the downloaded datasets and no family name in common."
   ]
  },
  {
   "cell_type": "markdown",
   "metadata": {},
   "source": [
    "Here we can see the results of the function and the species that have been matched."
   ]
  },
  {
   "cell_type": "code",
   "execution_count": 15,
   "metadata": {},
   "outputs": [
    {
     "data": {
      "text/plain": [
       "array(['Lagestroemia', 'Olea', 'Zyziphus', 'Melia', 'Diospyros', 'Laurus',\n",
       "       'Sterculia', 'Libocedrus', 'Ligustrum', 'Eriobotrya', 'nan',\n",
       "       'Punica', 'Kalmia', 'Pyracantha', 'Arbutus', 'Forsythia', 'Acacia',\n",
       "       'Bignonia', 'Osmanthus', 'Nerium', 'Eleagnus', 'Chimonanthus',\n",
       "       'Pittosporum', 'Chamaerops', 'Viburnum', 'Yucca', 'Chaenomeles',\n",
       "       'Trachicarpus', 'Washingtonia', 'Vite', 'Vitex', 'Phyllirea',\n",
       "       'Actinidia', 'Deutzia'], dtype=object)"
      ]
     },
     "execution_count": 15,
     "metadata": {},
     "output_type": "execute_result"
    }
   ],
   "source": [
    "# find the unique values for the family names of the no matching species\n",
    "no_matching_species_df['Family'] = no_matching_species_df['Species_Bologna'].str.split().str[0]\n",
    "no_matching_species_df['Family'].unique()"
   ]
  },
  {
   "cell_type": "code",
   "execution_count": 16,
   "metadata": {},
   "outputs": [],
   "source": [
    "# Clean the column 'DIAMETRO CORONA_TXT' in vienna_trees\n",
    "\n",
    "# drop the rows where the value is 'nicht bekannt' in vienna_trees['DIAMETRO CORONA_TXT']\n",
    "vienna_trees = vienna_trees[vienna_trees['DIAMETRO CORONA_TXT'] != 'nicht bekannt']\n",
    "\n",
    "# if the value is '>21 ' replace it with 21\n",
    "vienna_trees['DIAMETRO CORONA_TXT'] = vienna_trees['DIAMETRO CORONA_TXT'].str.replace('>21 ','21')\n",
    "\n",
    "# the column 'DIAMETRO CORONA_TXT' contains values like: 0-3 m, 13-15 m, etc.. I want to:\n",
    "# 1) remove the 'm' at the end of the string\n",
    "# 2) split the string and take the mean of the two values\n",
    "# 3) convert the string to float\n",
    "vienna_trees['DIAMETRO CORONA_TXT'] = vienna_trees['DIAMETRO CORONA_TXT'].str.replace('m','')\n",
    "vienna_trees['DIAMETRO CORONA_TXT'] = vienna_trees['DIAMETRO CORONA_TXT'].str.split('-').apply(lambda x: (float(x[0]) + float(x[1])) / 2 if len(x) == 2 else float(x[0]))\n",
    "vienna_trees['DIAMETRO CORONA_TXT'] = vienna_trees['DIAMETRO CORONA_TXT'].astype(float)"
   ]
  },
  {
   "cell_type": "code",
   "execution_count": 17,
   "metadata": {},
   "outputs": [
    {
     "data": {
      "text/plain": [
       "array(['6-10 m', '0-5 m', '26-30 m', '11-15 m', '16-20 m', '21-25 m',\n",
       "       '> 35 m', 'nicht bekannt', '31-35 m'], dtype=object)"
      ]
     },
     "execution_count": 17,
     "metadata": {},
     "output_type": "execute_result"
    }
   ],
   "source": [
    "vienna_trees['ALTEZZA ALBERO_TXT'].unique()"
   ]
  },
  {
   "cell_type": "code",
   "execution_count": 18,
   "metadata": {},
   "outputs": [],
   "source": [
    "# Define a custom function to extract the mean height value\n",
    "def extract_mean_height_Vienna(value):\n",
    "    if isinstance(value, str) and value.strip():\n",
    "        # Extract the numeric parts\n",
    "        parts = value.split('-')\n",
    "        if len(parts) == 2:\n",
    "            min_value = float(parts[0]) # Convert to float\n",
    "            max_value = float(parts[1].strip()[:-2])  # Removing ' m'\n",
    "            return (min_value + max_value) / 2  # Taking the average\n",
    "        elif value == 'nicht bekannt':\n",
    "            return np.nan  # Handle 'nicht bekannt' (unknown) as NaN\n",
    "    # Return the value converted to float\n",
    "    return float(value)\n",
    "\n",
    "vienna_trees['ALTEZZA ALBERO_TXT'] = vienna_trees['ALTEZZA ALBERO_TXT'].str.replace('> 35 m','35')\n",
    "# Apply the custom function to create a new 'total_height' column\n",
    "vienna_trees['total_height'] = vienna_trees['ALTEZZA ALBERO_TXT'].apply(extract_mean_height_Vienna)"
   ]
  },
  {
   "cell_type": "code",
   "execution_count": 19,
   "metadata": {},
   "outputs": [],
   "source": [
    "# Map 'Species_Bologna' to 'Closest_Species' in result_df\n",
    "species_mapping = result_df.set_index('Species_Bologna')['Closest_Species'].to_dict()\n",
    "\n",
    "# Map 'Species_Bologna' in bologna_trees to 'Closest_Species'\n",
    "bologna_trees['Closest_Species'] = bologna_trees['Specie arborea'].map(species_mapping)\n",
    "\n",
    "# Initialize 'crown_width' column with NaN values\n",
    "bologna_trees['crown_width'] = np.nan\n",
    "\n",
    "# Iterate through each row in bologna_trees\n",
    "for index, bologna_row in bologna_trees.iterrows():\n",
    "    # Find the corresponding species in Vienna dataset (Closest_Species)\n",
    "    matching_species = bologna_row['Closest_Species']\n",
    "    \n",
    "    # Filter Vienna dataset to find matching trees\n",
    "    matching_trees_vienna = vienna_trees[vienna_trees['Specie arborea'] == matching_species]\n",
    "    \n",
    "    # Check if there are matching trees\n",
    "    if not matching_trees_vienna.empty:\n",
    "        # Calculate the absolute height difference\n",
    "        height_diff = np.abs(matching_trees_vienna['total_height'] - bologna_row['total_height'])\n",
    "        \n",
    "        # Find the index of the closest tree\n",
    "        closest_index = height_diff.idxmin()\n",
    "\n",
    "        # Update 'crown_width' for the current row with the value from Vienna dataset\n",
    "        # if closest_index is nan, skip\n",
    "        if pd.isna(closest_index) or matching_trees_vienna.at[closest_index, 'DIAMETRO CORONA_TXT'] == 'nicht bekannt':\n",
    "            continue\n",
    "        else:\n",
    "            bologna_trees.at[index, 'crown_width'] = matching_trees_vienna.at[closest_index, 'DIAMETRO CORONA_TXT']"
   ]
  },
  {
   "cell_type": "code",
   "execution_count": 20,
   "metadata": {},
   "outputs": [
    {
     "data": {
      "text/plain": [
       "2340"
      ]
     },
     "execution_count": 20,
     "metadata": {},
     "output_type": "execute_result"
    }
   ],
   "source": [
    "# count the values where the column 'crown_width' is nan\n",
    "bologna_trees['crown_width'].isna().sum()"
   ]
  },
  {
   "cell_type": "markdown",
   "metadata": {},
   "source": [
    "Here we are going to cover manually the species that have not been matched by the function. We will search in internet for the mean crown size of these species and we will add them to the dataset."
   ]
  },
  {
   "cell_type": "code",
   "execution_count": 21,
   "metadata": {},
   "outputs": [],
   "source": [
    "# create a dictionary with the mean values of the species, like Lagestroemia: 3.5, Olea: 3.5, etc.., we have to fill it manually\n",
    "mean_width_species = {'Lagestroemia': 3.5, 'Olea': 2, 'Zyziphus': 7, 'Melia': 5, 'Diospyros': 6, 'Laurus': 1,\n",
    "         'Sterculia': 5, 'Libocedrus': 6, 'Ligustrum': 1.5, 'Eriobotrya': 5.5,\n",
    "         'Punica': 2.5, 'Kalmia': 1, 'Pyracantha': 1.5, 'Arbutus': 4.5, 'Forsythia': 3, 'Acacia': 6.5,\n",
    "         'Bignonia': 2.5, 'Osmanthus': 8, 'Nerium': 2, 'Eleagnus': 6, 'Chimonanthus': 2.5,\n",
    "         'Pittosporum': 2.5, 'Chamaerops': 1, 'Viburnum': 3, 'Yucca': 2, 'Chaenomeles': 1.5,\n",
    "         'Trachicarpus': 1, 'Washingtonia': 1.5, 'Vite': 1, 'Vitex': 4, 'Phyllirea': 1.5,\n",
    "         'Actinidia': 2, 'Deutzia': 2}\n",
    "\n",
    "# replace the nan values in the column 'crown_width' with the mean of the values of the species\n",
    "bologna_trees['crown_width'] = bologna_trees['crown_width'].fillna(bologna_trees['Specie arborea'].map(mean_width_species))"
   ]
  },
  {
   "cell_type": "code",
   "execution_count": 23,
   "metadata": {},
   "outputs": [],
   "source": [
    "# save the new dataframe to a new excel file\n",
    "bologna_trees.to_excel('output_file_cleaned.xlsx', index=False)"
   ]
  },
  {
   "cell_type": "code",
   "execution_count": 30,
   "metadata": {},
   "outputs": [
    {
     "data": {
      "text/plain": [
       "(86088, 24)"
      ]
     },
     "execution_count": 30,
     "metadata": {},
     "output_type": "execute_result"
    }
   ],
   "source": [
    "bologna_trees.shape"
   ]
  },
  {
   "cell_type": "code",
   "execution_count": null,
   "metadata": {},
   "outputs": [],
   "source": []
  },
  {
   "cell_type": "code",
   "execution_count": null,
   "metadata": {},
   "outputs": [],
   "source": []
  },
  {
   "cell_type": "code",
   "execution_count": null,
   "metadata": {},
   "outputs": [],
   "source": []
  },
  {
   "cell_type": "markdown",
   "metadata": {},
   "source": [
    "Possible documentations:\n",
    "- http://www.fossilworks.org/cgi-bin/bridge.pl?a=taxonInfo&taxon_no=54594\n",
    "- Trees Vienna: https://data.europa.eu/data/datasets/c91a4635-8b7d-43fe-9b27-d95dec8392a7?locale=en\n",
    "- Tree eco evaluation: https://github.com/kodujdlapolski/tree-research/blob/master/documents/An%20evaluation%20of%20the%20ecosystem%20services%20provided%20by%20urban%20trees.pdf"
   ]
  },
  {
   "cell_type": "markdown",
   "metadata": {},
   "source": [
    "Links:\n",
    "- Messina: https://www.dati.gov.it/view-dataset/dataset?id=e53a56bd-5744-4334-b8fe-c81a8f5aabd4\n",
    "- Ferrara: https://dati.comune.fe.it/dataset/rilievo-alberature-ferraratua"
   ]
  },
  {
   "cell_type": "code",
   "execution_count": 25,
   "metadata": {},
   "outputs": [
    {
     "name": "stderr",
     "output_type": "stream",
     "text": [
      "/var/folders/j8/fjrnp8w15sbf5q2fdgnpb0br0000gn/T/ipykernel_42984/3445865149.py:2: DtypeWarning: Columns (9,10,14,18,31,34,39,40,41,42,43,44,45,46,47) have mixed types. Specify dtype option on import or set low_memory=False.\n",
      "  trees_Ferrara = pd.read_csv('../data/crown_size/alberi_Ferrara.csv', sep=\",\")\n"
     ]
    }
   ],
   "source": [
    "trees_Messina = pd.read_csv('../data/crown_size/alberi_Messina.csv', sep=\",\")\n",
    "trees_Ferrara = pd.read_csv('../data/crown_size/alberi_Ferrara.csv', sep=\",\")"
   ]
  },
  {
   "cell_type": "code",
   "execution_count": 26,
   "metadata": {},
   "outputs": [
    {
     "name": "stdout",
     "output_type": "stream",
     "text": [
      "FID                     Rilievo_alberature_FerraraTUA_preview.1\n",
      "the_geom              POINT (707819.73506861 4969150.947868596)\n",
      "GID                                                           1\n",
      "ID_FETUA_P                                                    1\n",
      "LAT                                                    44.84549\n",
      "LON                                                    11.62973\n",
      "TP                                                            1\n",
      "TS                                                            3\n",
      "CODICE                                               P 1 03 108\n",
      "ZONA                                                        NaN\n",
      "UBICAZIONE                                                  NaN\n",
      "INDIRIZZO                            Via delle Vigne 36 Ferrara\n",
      "AREA_RISCH                                                 Alto\n",
      "ISTATCODE                                                 38008\n",
      "PROTEZIONE                                                  NaN\n",
      "PIANTA_SPE                                     Celtis australis\n",
      "PIANTA_POS                                              ISOLATA\n",
      "F1_POLIFUS                                                    3\n",
      "INCLINAZ                                                    NaN\n",
      "QR_FOTO                                                     NaN\n",
      "F1_ID                                                         1\n",
      "DATA                                        2021-01-25T00:00:00\n",
      "F1_UTENTE                                                   973\n",
      "F1_D_S_FUS                                       DA 60 A 100 CM\n",
      "F1_H_S_ALB                                         DA 8 A 16 MT\n",
      "F1_H_S_IMP                                          DA 3 A 5 MT\n",
      "F1_D_S_CHI                                         DA 6 A 10 MT\n",
      "F1_SUP_IMP                                    BANCHINA STRADALE\n",
      "PIANTA_INT    LINEE ELETTRICHE,MANUFATTI/STRUTTURE MURARIE,V...\n",
      "NOTE                                                        NaN\n",
      "F2_ID                                                       NaN\n",
      "DATA2                                                       NaN\n",
      "F2_UTENTE                                                   NaN\n",
      "F2_RILEVAT                                                  NaN\n",
      "F2_MOT_MOD                                                  NaN\n",
      "F2_D_M_FUS                                                  NaN\n",
      "F2_H_M_ALB                                                  NaN\n",
      "F2_H_M_IMP                                                  NaN\n",
      "F2_D_M_CHI                                                  NaN\n",
      "F2_ST_SVIL                                                  NaN\n",
      "F2_ST_VEGE                                                  NaN\n",
      "F2_VAL_EST                                                  NaN\n",
      "F2_DIF_STR                                                  NaN\n",
      "DIF_STR                                                     NaN\n",
      "INTERV_NEC                                                  NaN\n",
      "VAL_STR_ST                                                  NaN\n",
      "DOCUMENTO                                                   NaN\n",
      "NOTE2                                                       NaN\n",
      "CHI_HA_FAT                      F1 Tecnograph - F2 non eseguita\n",
      "FAMIGLIA                                                 Celtis\n",
      "Name: 0, dtype: object\n"
     ]
    }
   ],
   "source": [
    "print(trees_Ferrara.iloc[0])"
   ]
  },
  {
   "cell_type": "code",
   "execution_count": 27,
   "metadata": {},
   "outputs": [
    {
     "name": "stdout",
     "output_type": "stream",
     "text": [
      "Olea\n",
      "Melia\n",
      "Diospyros\n",
      "Laurus\n",
      "Libocedrus\n",
      "Ligustrum\n",
      "Eriobotrya\n",
      "Punica\n",
      "Acacia\n",
      "Nerium\n",
      "Viburnum\n",
      "Yucca\n"
     ]
    }
   ],
   "source": [
    "trees_Ferrara['Family'] = trees_Ferrara['PIANTA_SPE'].str.split().str[0]\n",
    "\n",
    "match_Ferrara = []\n",
    "for no_match_family in no_matching_species_df['Family'].unique():\n",
    "    # check if the family name is in the column 'Family' of trees_Ferrara\n",
    "    if no_match_family in trees_Ferrara['Family'].unique():\n",
    "        # add the family name to the list\n",
    "        match_Ferrara.append(no_match_family)\n",
    "        # print the family name\n",
    "        print(no_match_family)"
   ]
  },
  {
   "cell_type": "code",
   "execution_count": 28,
   "metadata": {},
   "outputs": [],
   "source": [
    "# keep inside the dataset trees_Ferrara just the family names that are in match_Ferrara\n",
    "trees_Ferrara = trees_Ferrara[trees_Ferrara['Family'].isin(match_Ferrara)]"
   ]
  },
  {
   "cell_type": "code",
   "execution_count": 29,
   "metadata": {},
   "outputs": [
    {
     "ename": "KeyError",
     "evalue": "''",
     "output_type": "error",
     "traceback": [
      "\u001b[0;31m---------------------------------------------------------------------------\u001b[0m",
      "\u001b[0;31mKeyError\u001b[0m                                  Traceback (most recent call last)",
      "File \u001b[0;32m~/opt/anaconda3/envs/geo_env/lib/python3.10/site-packages/pandas/core/indexes/base.py:3621\u001b[0m, in \u001b[0;36mIndex.get_loc\u001b[0;34m(self, key, method, tolerance)\u001b[0m\n\u001b[1;32m   3620\u001b[0m \u001b[39mtry\u001b[39;00m:\n\u001b[0;32m-> 3621\u001b[0m     \u001b[39mreturn\u001b[39;00m \u001b[39mself\u001b[39;49m\u001b[39m.\u001b[39;49m_engine\u001b[39m.\u001b[39;49mget_loc(casted_key)\n\u001b[1;32m   3622\u001b[0m \u001b[39mexcept\u001b[39;00m \u001b[39mKeyError\u001b[39;00m \u001b[39mas\u001b[39;00m err:\n",
      "File \u001b[0;32m~/opt/anaconda3/envs/geo_env/lib/python3.10/site-packages/pandas/_libs/index.pyx:136\u001b[0m, in \u001b[0;36mpandas._libs.index.IndexEngine.get_loc\u001b[0;34m()\u001b[0m\n",
      "File \u001b[0;32m~/opt/anaconda3/envs/geo_env/lib/python3.10/site-packages/pandas/_libs/index.pyx:163\u001b[0m, in \u001b[0;36mpandas._libs.index.IndexEngine.get_loc\u001b[0;34m()\u001b[0m\n",
      "File \u001b[0;32mpandas/_libs/hashtable_class_helper.pxi:5198\u001b[0m, in \u001b[0;36mpandas._libs.hashtable.PyObjectHashTable.get_item\u001b[0;34m()\u001b[0m\n",
      "File \u001b[0;32mpandas/_libs/hashtable_class_helper.pxi:5206\u001b[0m, in \u001b[0;36mpandas._libs.hashtable.PyObjectHashTable.get_item\u001b[0;34m()\u001b[0m\n",
      "\u001b[0;31mKeyError\u001b[0m: ''",
      "\nThe above exception was the direct cause of the following exception:\n",
      "\u001b[0;31mKeyError\u001b[0m                                  Traceback (most recent call last)",
      "\u001b[1;32m/Users/luca/Documents/GitHub/greenergroundsplanning/code/crown_size.ipynb Cell 42\u001b[0m line \u001b[0;36m1\n\u001b[1;32m     <a href='vscode-notebook-cell:/Users/luca/Documents/GitHub/greenergroundsplanning/code/crown_size.ipynb#X62sZmlsZQ%3D%3D?line=11'>12</a>\u001b[0m     \u001b[39mreturn\u001b[39;00m np\u001b[39m.\u001b[39mnan  \u001b[39m# Return NaN for empty or invalid values\u001b[39;00m\n\u001b[1;32m     <a href='vscode-notebook-cell:/Users/luca/Documents/GitHub/greenergroundsplanning/code/crown_size.ipynb#X62sZmlsZQ%3D%3D?line=13'>14</a>\u001b[0m \u001b[39m# Apply the custom function to create a new 'total_height' column\u001b[39;00m\n\u001b[0;32m---> <a href='vscode-notebook-cell:/Users/luca/Documents/GitHub/greenergroundsplanning/code/crown_size.ipynb#X62sZmlsZQ%3D%3D?line=14'>15</a>\u001b[0m trees_Ferrara[\u001b[39m'\u001b[39m\u001b[39mtotal_height\u001b[39m\u001b[39m'\u001b[39m] \u001b[39m=\u001b[39m trees_Ferrara[\u001b[39m'\u001b[39;49m\u001b[39m'\u001b[39;49m]\u001b[39m.\u001b[39mapply(extract_mean_height_Ferrara)\n",
      "File \u001b[0;32m~/opt/anaconda3/envs/geo_env/lib/python3.10/site-packages/pandas/core/frame.py:3505\u001b[0m, in \u001b[0;36mDataFrame.__getitem__\u001b[0;34m(self, key)\u001b[0m\n\u001b[1;32m   3503\u001b[0m \u001b[39mif\u001b[39;00m \u001b[39mself\u001b[39m\u001b[39m.\u001b[39mcolumns\u001b[39m.\u001b[39mnlevels \u001b[39m>\u001b[39m \u001b[39m1\u001b[39m:\n\u001b[1;32m   3504\u001b[0m     \u001b[39mreturn\u001b[39;00m \u001b[39mself\u001b[39m\u001b[39m.\u001b[39m_getitem_multilevel(key)\n\u001b[0;32m-> 3505\u001b[0m indexer \u001b[39m=\u001b[39m \u001b[39mself\u001b[39;49m\u001b[39m.\u001b[39;49mcolumns\u001b[39m.\u001b[39;49mget_loc(key)\n\u001b[1;32m   3506\u001b[0m \u001b[39mif\u001b[39;00m is_integer(indexer):\n\u001b[1;32m   3507\u001b[0m     indexer \u001b[39m=\u001b[39m [indexer]\n",
      "File \u001b[0;32m~/opt/anaconda3/envs/geo_env/lib/python3.10/site-packages/pandas/core/indexes/base.py:3623\u001b[0m, in \u001b[0;36mIndex.get_loc\u001b[0;34m(self, key, method, tolerance)\u001b[0m\n\u001b[1;32m   3621\u001b[0m     \u001b[39mreturn\u001b[39;00m \u001b[39mself\u001b[39m\u001b[39m.\u001b[39m_engine\u001b[39m.\u001b[39mget_loc(casted_key)\n\u001b[1;32m   3622\u001b[0m \u001b[39mexcept\u001b[39;00m \u001b[39mKeyError\u001b[39;00m \u001b[39mas\u001b[39;00m err:\n\u001b[0;32m-> 3623\u001b[0m     \u001b[39mraise\u001b[39;00m \u001b[39mKeyError\u001b[39;00m(key) \u001b[39mfrom\u001b[39;00m \u001b[39merr\u001b[39;00m\n\u001b[1;32m   3624\u001b[0m \u001b[39mexcept\u001b[39;00m \u001b[39mTypeError\u001b[39;00m:\n\u001b[1;32m   3625\u001b[0m     \u001b[39m# If we have a listlike key, _check_indexing_error will raise\u001b[39;00m\n\u001b[1;32m   3626\u001b[0m     \u001b[39m#  InvalidIndexError. Otherwise we fall through and re-raise\u001b[39;00m\n\u001b[1;32m   3627\u001b[0m     \u001b[39m#  the TypeError.\u001b[39;00m\n\u001b[1;32m   3628\u001b[0m     \u001b[39mself\u001b[39m\u001b[39m.\u001b[39m_check_indexing_error(key)\n",
      "\u001b[0;31mKeyError\u001b[0m: ''"
     ]
    }
   ],
   "source": [
    "# Define a custom function to extract the mean height value\n",
    "def extract_mean_height_Ferrara(value):\n",
    "    if isinstance(value, str) and value.strip():\n",
    "        # Extract the numeric parts\n",
    "        parts = value.split('-')\n",
    "        if len(parts) == 2:\n",
    "            min_value = float(parts[0]) # Convert to float\n",
    "            max_value = float(parts[1].strip()[:-2])  # Removing ' m'\n",
    "            return (min_value + max_value) / 2  # Taking the average\n",
    "        elif value == 'nicht bekannt':\n",
    "            return np.nan  # Handle 'nicht bekannt' (unknown) as NaN\n",
    "    return np.nan  # Return NaN for empty or invalid values\n",
    "\n",
    "# Apply the custom function to create a new 'total_height' column\n",
    "trees_Ferrara['total_height'] = trees_Ferrara[''].apply(extract_mean_height_Ferrara)"
   ]
  },
  {
   "cell_type": "code",
   "execution_count": null,
   "metadata": {},
   "outputs": [],
   "source": []
  },
  {
   "cell_type": "code",
   "execution_count": null,
   "metadata": {},
   "outputs": [
    {
     "name": "stdout",
     "output_type": "stream",
     "text": [
      "Olea\n",
      "Melia\n",
      "Laurus\n",
      "Ligustrum\n",
      "Eriobotrya\n",
      "Acacia\n",
      "Nerium\n",
      "Pittosporum\n",
      "Yucca\n",
      "Washingtonia\n"
     ]
    }
   ],
   "source": [
    "# now do the same for trees_Messina\n",
    "trees_Messina['Family'] = trees_Messina['SPECIE_SC'].str.split().str[0]\n",
    "\n",
    "match_Messina = []\n",
    "for no_match_family in no_matching_species_df['Family'].unique():\n",
    "    # check if the family name is in the column 'Family' of trees_Messina\n",
    "    if no_match_family in trees_Messina['Family'].unique():\n",
    "        # add the family name to the list\n",
    "        match_Messina.append(no_match_family)\n",
    "        # print the family name\n",
    "        print(no_match_family)\n",
    "\n",
    "# keep inside the dataset trees_Messina just the family names that are in match_Messina\n",
    "trees_Messina = trees_Messina[trees_Messina['Family'].isin(match_Messina)]"
   ]
  },
  {
   "cell_type": "code",
   "execution_count": null,
   "metadata": {},
   "outputs": [],
   "source": [
    "# Define a custom function to extract the mean height value\n",
    "def extract_mean_height_Messina(value):\n",
    "    if isinstance(value, str) and value.strip():\n",
    "        # Extract the numeric parts\n",
    "        parts = value.split('-')\n",
    "        if len(parts) == 2:\n",
    "            min_value = float(parts[0]) # Convert to float\n",
    "            max_value = float(parts[1].strip()[:-2])  # Removing ' m'\n",
    "            return (min_value + max_value) / 2  # Taking the average\n",
    "        elif value == 'nan':\n",
    "            return np.nan  # Handle 'nicht bekannt' (unknown) as NaN\n",
    "    # Return the value converted to float\n",
    "    return float(value)\n",
    "\n",
    "trees_Messina['ALTEZZA'] = trees_Messina['ALTEZZA'].str.replace('>20 m','20')\n",
    "# Apply the custom function to create a new 'total_height' column\n",
    "trees_Messina['total_height'] = trees_Messina['ALTEZZA'].apply(extract_mean_height_Messina)"
   ]
  },
  {
   "cell_type": "code",
   "execution_count": null,
   "metadata": {},
   "outputs": [
    {
     "data": {
      "text/html": [
       "<div>\n",
       "<style scoped>\n",
       "    .dataframe tbody tr th:only-of-type {\n",
       "        vertical-align: middle;\n",
       "    }\n",
       "\n",
       "    .dataframe tbody tr th {\n",
       "        vertical-align: top;\n",
       "    }\n",
       "\n",
       "    .dataframe thead th {\n",
       "        text-align: right;\n",
       "    }\n",
       "</style>\n",
       "<table border=\"1\" class=\"dataframe\">\n",
       "  <thead>\n",
       "    <tr style=\"text-align: right;\">\n",
       "      <th></th>\n",
       "      <th>SPECIE_VL</th>\n",
       "      <th>VIGORIA</th>\n",
       "      <th>PROFILO1</th>\n",
       "      <th>PROFILO2</th>\n",
       "      <th>PROFILO3</th>\n",
       "      <th>PROFILO4</th>\n",
       "      <th>PROFILO5</th>\n",
       "      <th>PROFILO6</th>\n",
       "      <th>PROFILO7</th>\n",
       "      <th>PROFILO8</th>\n",
       "      <th>T_ERRE1</th>\n",
       "      <th>T_ERRE2</th>\n",
       "      <th>INCLINAZIO</th>\n",
       "      <th>HRILIEVO2</th>\n",
       "      <th>Family</th>\n",
       "      <th>total_height</th>\n",
       "    </tr>\n",
       "  </thead>\n",
       "  <tbody>\n",
       "    <tr>\n",
       "      <th>3</th>\n",
       "      <td>Albero dei rosari (Melia)</td>\n",
       "      <td>sufficiente</td>\n",
       "      <td>NaN</td>\n",
       "      <td>NaN</td>\n",
       "      <td>NaN</td>\n",
       "      <td>NaN</td>\n",
       "      <td>NaN</td>\n",
       "      <td>NaN</td>\n",
       "      <td>NaN</td>\n",
       "      <td>NaN</td>\n",
       "      <td>NaN</td>\n",
       "      <td>NaN</td>\n",
       "      <td>15.0</td>\n",
       "      <td>NaN</td>\n",
       "      <td>Melia</td>\n",
       "      <td>13.0</td>\n",
       "    </tr>\n",
       "    <tr>\n",
       "      <th>7</th>\n",
       "      <td>Olivo</td>\n",
       "      <td>sufficiente</td>\n",
       "      <td>NaN</td>\n",
       "      <td>NaN</td>\n",
       "      <td>NaN</td>\n",
       "      <td>NaN</td>\n",
       "      <td>NaN</td>\n",
       "      <td>NaN</td>\n",
       "      <td>NaN</td>\n",
       "      <td>NaN</td>\n",
       "      <td>NaN</td>\n",
       "      <td>NaN</td>\n",
       "      <td>NaN</td>\n",
       "      <td>NaN</td>\n",
       "      <td>Olea</td>\n",
       "      <td>2.5</td>\n",
       "    </tr>\n",
       "    <tr>\n",
       "      <th>47</th>\n",
       "      <td>Olivo</td>\n",
       "      <td>sufficiente</td>\n",
       "      <td>NaN</td>\n",
       "      <td>NaN</td>\n",
       "      <td>NaN</td>\n",
       "      <td>NaN</td>\n",
       "      <td>NaN</td>\n",
       "      <td>NaN</td>\n",
       "      <td>NaN</td>\n",
       "      <td>NaN</td>\n",
       "      <td>NaN</td>\n",
       "      <td>NaN</td>\n",
       "      <td>NaN</td>\n",
       "      <td>NaN</td>\n",
       "      <td>Olea</td>\n",
       "      <td>2.5</td>\n",
       "    </tr>\n",
       "    <tr>\n",
       "      <th>77</th>\n",
       "      <td>Ligustro giapponese</td>\n",
       "      <td>sufficiente</td>\n",
       "      <td>NaN</td>\n",
       "      <td>NaN</td>\n",
       "      <td>NaN</td>\n",
       "      <td>NaN</td>\n",
       "      <td>NaN</td>\n",
       "      <td>NaN</td>\n",
       "      <td>NaN</td>\n",
       "      <td>NaN</td>\n",
       "      <td>NaN</td>\n",
       "      <td>NaN</td>\n",
       "      <td>NaN</td>\n",
       "      <td>NaN</td>\n",
       "      <td>Ligustrum</td>\n",
       "      <td>2.5</td>\n",
       "    </tr>\n",
       "    <tr>\n",
       "      <th>124</th>\n",
       "      <td>Ligustro giapponese</td>\n",
       "      <td>sufficiente</td>\n",
       "      <td>NaN</td>\n",
       "      <td>NaN</td>\n",
       "      <td>NaN</td>\n",
       "      <td>NaN</td>\n",
       "      <td>NaN</td>\n",
       "      <td>NaN</td>\n",
       "      <td>NaN</td>\n",
       "      <td>NaN</td>\n",
       "      <td>NaN</td>\n",
       "      <td>NaN</td>\n",
       "      <td>NaN</td>\n",
       "      <td>NaN</td>\n",
       "      <td>Ligustrum</td>\n",
       "      <td>2.5</td>\n",
       "    </tr>\n",
       "  </tbody>\n",
       "</table>\n",
       "</div>"
      ],
      "text/plain": [
       "                     SPECIE_VL      VIGORIA PROFILO1 PROFILO2 PROFILO3  \\\n",
       "3    Albero dei rosari (Melia)  sufficiente      NaN      NaN      NaN   \n",
       "7                        Olivo  sufficiente      NaN      NaN      NaN   \n",
       "47                       Olivo  sufficiente      NaN      NaN      NaN   \n",
       "77         Ligustro giapponese  sufficiente      NaN      NaN      NaN   \n",
       "124        Ligustro giapponese  sufficiente      NaN      NaN      NaN   \n",
       "\n",
       "    PROFILO4  PROFILO5  PROFILO6  PROFILO7  PROFILO8 T_ERRE1 T_ERRE2  \\\n",
       "3        NaN       NaN       NaN       NaN       NaN     NaN     NaN   \n",
       "7        NaN       NaN       NaN       NaN       NaN     NaN     NaN   \n",
       "47       NaN       NaN       NaN       NaN       NaN     NaN     NaN   \n",
       "77       NaN       NaN       NaN       NaN       NaN     NaN     NaN   \n",
       "124      NaN       NaN       NaN       NaN       NaN     NaN     NaN   \n",
       "\n",
       "     INCLINAZIO  HRILIEVO2     Family  total_height  \n",
       "3          15.0        NaN      Melia          13.0  \n",
       "7           NaN        NaN       Olea           2.5  \n",
       "47          NaN        NaN       Olea           2.5  \n",
       "77          NaN        NaN  Ligustrum           2.5  \n",
       "124         NaN        NaN  Ligustrum           2.5  "
      ]
     },
     "execution_count": 116,
     "metadata": {},
     "output_type": "execute_result"
    }
   ],
   "source": [
    "#trees_Messina[['ID_SCHEDA', 'CODICE', 'DATA_ORA_M', 'DATA_RILIE', 'DESCRIZION','DIAMETRO', 'HRILIEVO1', 'ALTEZZA', 'ANNO', 'CABIFORCA', 'CACARIE']].head()\n",
    "\n",
    "#trees_Messina[['CACAVITA', 'CACORTECCI', 'CCARIE', 'CCARPOFORI', 'CCAVITA', 'CFERITE', 'CHAPICE', 'CHASIMME', 'CHBRANCA', 'CHCAPITOZZ', 'CHCARIE']].head()\n",
    "\n",
    "#trees_Messina[['CHCARPOFOR', 'CHDENSITA', 'CHLIMITI', 'CHRAMIS', 'CHTAGLIPOT','CLIMITI', 'CPC', 'DIMORA', 'DIREZIO1', 'DIREZIO2', 'DIREZIO3']].head()\n",
    "\n",
    "#trees_Messina[['DIREZIO4', 'DIREZIO5', 'DIREZIO6', 'DIREZIO7', 'DIREZIO8', 'FCARIE','FCARPOFORI', 'FCAVITA', 'FFERITE', 'FGETTI', 'FINCLINAZI', 'INABBA']].head()\n",
    "\n",
    "#trees_Messina[['INPOTATURA', 'INREIMPIA', 'INSETTI', 'INTECNICA', 'INTIPO','INURGENZA', 'LUOGO', 'POSIZIONE', 'RAFFIORANT', 'RCARIE', 'RCARPOFORI']].head()\n",
    "\n",
    "#trees_Messina[['RILEVATORE', 'RILIEVO', 'RLIMITI', 'RSTROZZANT', 'SPECIE_SC','SPECIE_VL', 'VIGORIA', 'PROFILO1', 'PROFILO2', 'PROFILO3', 'PROFILO4']].head()\n",
    "\n",
    "#trees_Messina[['SPECIE_VL', 'VIGORIA', 'PROFILO1', 'PROFILO2', 'PROFILO3', 'PROFILO4','PROFILO5', 'PROFILO6', 'PROFILO7', 'PROFILO8', 'T_ERRE1', 'T_ERRE2','INCLINAZIO', 'HRILIEVO2', 'Family', 'total_height']].head()"
   ]
  },
  {
   "cell_type": "code",
   "execution_count": null,
   "metadata": {},
   "outputs": [],
   "source": [
    "# Iterate through each row in bologna_trees\n",
    "for index, bologna_row in bologna_trees.iterrows():\n",
    "    if(bologna_trees['crown_width'].isna()):\n",
    "        # Find the corresponding species in Vienna dataset (Closest_Species)\n",
    "        family_species = bologna_row['Specie arborea'].split()[0]\n",
    "        \n",
    "        # Filter Vienna dataset to find matching trees\n",
    "        matching_trees_messina = trees_Messina[trees_Messina['Family'] == family_species]\n",
    "        \n",
    "        # Check if there are matching trees\n",
    "        if not matching_trees_messina.empty:\n",
    "            # Calculate the absolute height difference\n",
    "            height_diff = np.abs(matching_trees_messina['total_height'] - bologna_row['total_height'])\n",
    "            \n",
    "            # Find the index of the closest tree\n",
    "            closest_index = height_diff.idxmin()\n",
    "\n",
    "            # Update 'crown_width' for the current row with the value from Vienna dataset\n",
    "            # if closest_index is nan, skip\n",
    "            if pd.isna(closest_index) or matching_trees_messina.at[closest_index, 'DIAMETRO CORONA_TXT'] == 'nicht bekannt':\n",
    "                continue\n",
    "            else:\n",
    "                bologna_trees.at[index, 'crown_width'] = matching_trees_messina.at[closest_index, 'DIAMETRO CORONA_TXT']"
   ]
  },
  {
   "cell_type": "code",
   "execution_count": null,
   "metadata": {},
   "outputs": [
    {
     "name": "stdout",
     "output_type": "stream",
     "text": [
      "Olea\n",
      "Melia\n",
      "Laurus\n",
      "Ligustrum\n",
      "Eriobotrya\n",
      "Acacia\n",
      "Nerium\n",
      "Pittosporum\n",
      "Yucca\n",
      "Washingtonia\n"
     ]
    }
   ],
   "source": [
    "# now do the same for trees_Messina\n",
    "trees_Messina['Family'] = trees_Messina['SPECIE_SC'].str.split().str[0]\n",
    "\n",
    "match_Messina = []\n",
    "for no_match_family in no_matching_species_df['Family'].unique():\n",
    "    # check if the family name is in the column 'Family' of trees_Messina\n",
    "    if no_match_family in trees_Messina['Family'].unique():\n",
    "        # add the family name to the list\n",
    "        match_Messina.append(no_match_family)\n",
    "        # print the family name\n",
    "        print(no_match_family)"
   ]
  },
  {
   "cell_type": "code",
   "execution_count": null,
   "metadata": {},
   "outputs": [
    {
     "data": {
      "text/plain": [
       "['Washingtonia',\n",
       " 'Acacia',\n",
       " 'Libocedrus',\n",
       " 'Laurus',\n",
       " 'Melia',\n",
       " 'Viburnum',\n",
       " 'Olea',\n",
       " 'Ligustrum',\n",
       " 'Nerium',\n",
       " 'Eriobotrya',\n",
       " 'Yucca',\n",
       " 'Pittosporum',\n",
       " 'Punica',\n",
       " 'Diospyros']"
      ]
     },
     "execution_count": 25,
     "metadata": {},
     "output_type": "execute_result"
    }
   ],
   "source": [
    "# merge the two lists, without duplicates\n",
    "match = list(set(match_Ferrara + match_Messina))\n",
    "match"
   ]
  },
  {
   "cell_type": "code",
   "execution_count": null,
   "metadata": {},
   "outputs": [
    {
     "name": "stdout",
     "output_type": "stream",
     "text": [
      "Lagestroemia\n",
      "Zyziphus\n",
      "Sterculia\n",
      "nan\n",
      "Kalmia\n",
      "Pyracantha\n",
      "Arbutus\n",
      "Forsythia\n",
      "Bignonia\n",
      "Osmanthus\n",
      "Eleagnus\n",
      "Chimonanthus\n",
      "Chamaerops\n",
      "Chaenomeles\n",
      "Trachicarpus\n",
      "Vite\n",
      "Vitex\n",
      "Phyllirea\n",
      "Actinidia\n",
      "Deutzia\n"
     ]
    }
   ],
   "source": [
    "# find the unique values for the family names of the no matching species\n",
    "no_matching_species_df['Family'] = no_matching_species_df['Species_Bologna'].str.split().str[0]\n",
    "no_matching_species_df['Family'].unique()\n",
    "\n",
    "# find the value that are in no_matching_species_df['Family'] but not in match\n",
    "no_match = []\n",
    "for family in no_matching_species_df['Family'].unique():\n",
    "    if family not in match:\n",
    "        no_match.append(family)\n",
    "        print(family)"
   ]
  }
 ],
 "metadata": {
  "kernelspec": {
   "display_name": "geo_env",
   "language": "python",
   "name": "python3"
  },
  "language_info": {
   "codemirror_mode": {
    "name": "ipython",
    "version": 3
   },
   "file_extension": ".py",
   "mimetype": "text/x-python",
   "name": "python",
   "nbconvert_exporter": "python",
   "pygments_lexer": "ipython3",
   "version": "3.10.5"
  },
  "orig_nbformat": 4
 },
 "nbformat": 4,
 "nbformat_minor": 2
}
