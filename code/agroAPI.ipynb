{
 "cells": [
  {
   "cell_type": "code",
   "execution_count": 11,
   "metadata": {},
   "outputs": [],
   "source": [
    "import pyowm\n",
    "from pyowm.agroapi10.enums import SatelliteEnum, PresetEnum\n",
    "\n",
    "owm = pyowm.OWM('de95041357fb3e1d49e788dc391d13a6')\n",
    "mgr = owm.agro_manager()"
   ]
  },
  {
   "cell_type": "code",
   "execution_count": 12,
   "metadata": {},
   "outputs": [
    {
     "ename": "UnauthorizedError",
     "evalue": "Invalid API Key provided",
     "output_type": "error",
     "traceback": [
      "\u001b[0;31m---------------------------------------------------------------------------\u001b[0m",
      "\u001b[0;31mUnauthorizedError\u001b[0m                         Traceback (most recent call last)",
      "\u001b[1;32m/Users/luca/Documents/GitHub/greenergroundsplanning/code/agroAPI.ipynb Cell 2\u001b[0m line \u001b[0;36m1\n\u001b[0;32m----> <a href='vscode-notebook-cell:/Users/luca/Documents/GitHub/greenergroundsplanning/code/agroAPI.ipynb#W2sZmlsZQ%3D%3D?line=0'>1</a>\u001b[0m list_of_polygons \u001b[39m=\u001b[39m mgr\u001b[39m.\u001b[39;49mget_polygons()\n\u001b[1;32m      <a href='vscode-notebook-cell:/Users/luca/Documents/GitHub/greenergroundsplanning/code/agroAPI.ipynb#W2sZmlsZQ%3D%3D?line=1'>2</a>\u001b[0m list_of_polygons \n\u001b[1;32m      <a href='vscode-notebook-cell:/Users/luca/Documents/GitHub/greenergroundsplanning/code/agroAPI.ipynb#W2sZmlsZQ%3D%3D?line=2'>3</a>\u001b[0m \u001b[39m# Poligon ID Bologna ==> 654a67516352a3c72c2cc042\u001b[39;00m\n",
      "File \u001b[0;32m~/opt/anaconda3/envs/geo_env/lib/python3.10/site-packages/pyowm/agroapi10/agro_manager.py:82\u001b[0m, in \u001b[0;36mAgroManager.get_polygons\u001b[0;34m(self)\u001b[0m\n\u001b[1;32m     74\u001b[0m \u001b[39mdef\u001b[39;00m \u001b[39mget_polygons\u001b[39m(\u001b[39mself\u001b[39m):\n\u001b[1;32m     75\u001b[0m \u001b[39m    \u001b[39m\u001b[39m\"\"\"\u001b[39;00m\n\u001b[1;32m     76\u001b[0m \u001b[39m    Retrieves all of the user's polygons registered on the Agro API.\u001b[39;00m\n\u001b[1;32m     77\u001b[0m \n\u001b[1;32m     78\u001b[0m \u001b[39m    :returns: list of `pyowm.agro10.polygon.Polygon` objects\u001b[39;00m\n\u001b[1;32m     79\u001b[0m \n\u001b[1;32m     80\u001b[0m \u001b[39m    \"\"\"\u001b[39;00m\n\u001b[0;32m---> 82\u001b[0m     status, data \u001b[39m=\u001b[39m \u001b[39mself\u001b[39;49m\u001b[39m.\u001b[39;49mhttp_client\u001b[39m.\u001b[39;49mget_json(\n\u001b[1;32m     83\u001b[0m         POLYGONS_URI,\n\u001b[1;32m     84\u001b[0m         params\u001b[39m=\u001b[39;49m{\u001b[39m'\u001b[39;49m\u001b[39mappid\u001b[39;49m\u001b[39m'\u001b[39;49m: \u001b[39mself\u001b[39;49m\u001b[39m.\u001b[39;49mAPI_key},\n\u001b[1;32m     85\u001b[0m         headers\u001b[39m=\u001b[39;49m{\u001b[39m'\u001b[39;49m\u001b[39mContent-Type\u001b[39;49m\u001b[39m'\u001b[39;49m: \u001b[39m'\u001b[39;49m\u001b[39mapplication/json\u001b[39;49m\u001b[39m'\u001b[39;49m})\n\u001b[1;32m     86\u001b[0m     \u001b[39mreturn\u001b[39;00m [Polygon\u001b[39m.\u001b[39mfrom_dict(item) \u001b[39mfor\u001b[39;00m item \u001b[39min\u001b[39;00m data]\n",
      "File \u001b[0;32m~/opt/anaconda3/envs/geo_env/lib/python3.10/site-packages/pyowm/commons/http_client.py:158\u001b[0m, in \u001b[0;36mHttpClient.get_json\u001b[0;34m(self, path, params, headers)\u001b[0m\n\u001b[1;32m    156\u001b[0m \u001b[39mexcept\u001b[39;00m requests\u001b[39m.\u001b[39mexceptions\u001b[39m.\u001b[39mTimeout:\n\u001b[1;32m    157\u001b[0m     \u001b[39mraise\u001b[39;00m exceptions\u001b[39m.\u001b[39mTimeoutError(\u001b[39m'\u001b[39m\u001b[39mAPI call timeouted\u001b[39m\u001b[39m'\u001b[39m)\n\u001b[0;32m--> 158\u001b[0m HttpClient\u001b[39m.\u001b[39;49mcheck_status_code(resp\u001b[39m.\u001b[39;49mstatus_code, resp\u001b[39m.\u001b[39;49mtext)\n\u001b[1;32m    159\u001b[0m \u001b[39mtry\u001b[39;00m:\n\u001b[1;32m    160\u001b[0m     \u001b[39mreturn\u001b[39;00m resp\u001b[39m.\u001b[39mstatus_code, resp\u001b[39m.\u001b[39mjson()\n",
      "File \u001b[0;32m~/opt/anaconda3/envs/geo_env/lib/python3.10/site-packages/pyowm/commons/http_client.py:313\u001b[0m, in \u001b[0;36mHttpClient.check_status_code\u001b[0;34m(cls, status_code, payload)\u001b[0m\n\u001b[1;32m    311\u001b[0m     \u001b[39mraise\u001b[39;00m exceptions\u001b[39m.\u001b[39mAPIRequestError(payload)\n\u001b[1;32m    312\u001b[0m \u001b[39melif\u001b[39;00m status_code \u001b[39m==\u001b[39m \u001b[39m401\u001b[39m:\n\u001b[0;32m--> 313\u001b[0m     \u001b[39mraise\u001b[39;00m exceptions\u001b[39m.\u001b[39mUnauthorizedError(\u001b[39m'\u001b[39m\u001b[39mInvalid API Key provided\u001b[39m\u001b[39m'\u001b[39m)\n\u001b[1;32m    314\u001b[0m \u001b[39melif\u001b[39;00m status_code \u001b[39m==\u001b[39m \u001b[39m404\u001b[39m:\n\u001b[1;32m    315\u001b[0m     \u001b[39mraise\u001b[39;00m exceptions\u001b[39m.\u001b[39mNotFoundError(\u001b[39m'\u001b[39m\u001b[39mUnable to find the resource\u001b[39m\u001b[39m'\u001b[39m)\n",
      "\u001b[0;31mUnauthorizedError\u001b[0m: Invalid API Key provided"
     ]
    }
   ],
   "source": [
    "list_of_polygons = mgr.get_polygons()\n",
    "list_of_polygons \n",
    "# Poligon ID Bologna ==> 654a67516352a3c72c2cc042"
   ]
  },
  {
   "cell_type": "code",
   "execution_count": null,
   "metadata": {},
   "outputs": [],
   "source": [
    "#mgr.delete_polygon(list_of_polygons[0])"
   ]
  },
  {
   "cell_type": "code",
   "execution_count": null,
   "metadata": {},
   "outputs": [
    {
     "data": {
      "text/plain": [
       "\" pol_id = '654a67516352a3c72c2cc042'  # your polygon's ID\\nacq_from = 1500336000 + 189216000  # 18 July 2023 --> 1689552000\\nacq_to = 1508976000 + 189216000    # 26 October 2023 --> 1698192000\\n\\n# the most basic search ever: search all available images upon the polygon in the specified time frame \\nresults = mgr.search_satellite_imagery(pol_id, acq_from, acq_to, acquired_by=SatelliteEnum.SENTINEL_2.symbol,\\n                                       preset=PresetEnum.NDVI) \""
      ]
     },
     "execution_count": 8,
     "metadata": {},
     "output_type": "execute_result"
    }
   ],
   "source": [
    "# Example of how to take satellite imagery from a polygon\n",
    "\"\"\" pol_id = '654a67516352a3c72c2cc042'  # your polygon's ID\n",
    "acq_from = 1500336000 + 189216000  # 18 July 2023 --> 1689552000\n",
    "acq_to = 1508976000 + 189216000    # 26 October 2023 --> 1698192000\n",
    "\n",
    "# the most basic search ever: search all available images upon the polygon in the specified time frame \n",
    "results = mgr.search_satellite_imagery(pol_id, acq_from, acq_to, acquired_by=SatelliteEnum.SENTINEL_2.symbol,\n",
    "                                       preset=PresetEnum.NDVI) \"\"\""
   ]
  },
  {
   "cell_type": "code",
   "execution_count": null,
   "metadata": {},
   "outputs": [
    {
     "name": "stdout",
     "output_type": "stream",
     "text": [
      "{\n",
      "    \"title\": \"There is a problem upon receipt of the polygon\",\n",
      "    \"message\": \"Not Found\"\n",
      "}\n"
     ]
    }
   ],
   "source": [
    "# http://api.agromonitoring.com/agro/1.0/ndvi/history?start=1689552000&end=1698192000&polyid=654a67516352a3c72c2cc042&appid=221aefae29a0184792ac527d1d7f80fa\n",
    "import requests\n",
    "import json\n",
    "\n",
    "# Define the API endpoint\n",
    "url = \"http://api.agromonitoring.com/agro/1.0/ndvi/history\"\n",
    "\n",
    "# Define the query parameters\n",
    "params = {\n",
    "    \"start\": \"1689552000\",  # Start time (Unix timestamp)\n",
    "    \"end\": \"1698192000\",    # End time (Unix timestamp)\n",
    "    \"polyid\": \"654a67516352a3c72c2cc042\",  # ID of the polygon\n",
    "    \"appid\": \"de95041357fb3e1d49e788dc391d13a6\"  # Your API key\n",
    "}\n",
    "\n",
    "# Send a GET request to the API\n",
    "response = requests.get(url, params=params)\n",
    "\n",
    "# Parse the response as JSON\n",
    "data = response.json()\n",
    "\n",
    "# Print the data\n",
    "print(json.dumps(data, indent=4))"
   ]
  },
  {
   "cell_type": "markdown",
   "metadata": {},
   "source": [
    "We now want to create a new polygon for each circoscrizione of the city. \n",
    "\n",
    "Documentation: https://agromonitoring.com/api/history-ndvi"
   ]
  },
  {
   "cell_type": "code",
   "execution_count": null,
   "metadata": {},
   "outputs": [
    {
     "ename": "APIRequestError",
     "evalue": "{\"name\":\"PayloadTooLargeError\",\"message\":\"You can not create polygons anymore.\"}",
     "output_type": "error",
     "traceback": [
      "\u001b[0;31m---------------------------------------------------------------------------\u001b[0m",
      "\u001b[0;31mAPIRequestError\u001b[0m                           Traceback (most recent call last)",
      "\u001b[1;32m/Users/luca/Documents/GitHub/greenergroundsplanning/code/agroAPI.ipynb Cell 7\u001b[0m line \u001b[0;36m1\n\u001b[1;32m     <a href='vscode-notebook-cell:/Users/luca/Documents/GitHub/greenergroundsplanning/code/agroAPI.ipynb#X32sZmlsZQ%3D%3D?line=13'>14</a>\u001b[0m current_coords \u001b[39m=\u001b[39m feature[\u001b[39m'\u001b[39m\u001b[39mgeometry\u001b[39m\u001b[39m'\u001b[39m][\u001b[39m'\u001b[39m\u001b[39mcoordinates\u001b[39m\u001b[39m'\u001b[39m]\n\u001b[1;32m     <a href='vscode-notebook-cell:/Users/luca/Documents/GitHub/greenergroundsplanning/code/agroAPI.ipynb#X32sZmlsZQ%3D%3D?line=14'>15</a>\u001b[0m gp \u001b[39m=\u001b[39m GeoPolygon(current_coords)\n\u001b[0;32m---> <a href='vscode-notebook-cell:/Users/luca/Documents/GitHub/greenergroundsplanning/code/agroAPI.ipynb#X32sZmlsZQ%3D%3D?line=16'>17</a>\u001b[0m the_new_polygon \u001b[39m=\u001b[39m mgr\u001b[39m.\u001b[39;49mcreate_polygon(gp, \u001b[39m'\u001b[39;49m\u001b[39mnew_polygon\u001b[39;49m\u001b[39m'\u001b[39;49m)\n\u001b[1;32m     <a href='vscode-notebook-cell:/Users/luca/Documents/GitHub/greenergroundsplanning/code/agroAPI.ipynb#X32sZmlsZQ%3D%3D?line=18'>19</a>\u001b[0m params \u001b[39m=\u001b[39m {\n\u001b[1;32m     <a href='vscode-notebook-cell:/Users/luca/Documents/GitHub/greenergroundsplanning/code/agroAPI.ipynb#X32sZmlsZQ%3D%3D?line=19'>20</a>\u001b[0m     \u001b[39m\"\u001b[39m\u001b[39mstart\u001b[39m\u001b[39m\"\u001b[39m: \u001b[39m\"\u001b[39m\u001b[39m1689552000\u001b[39m\u001b[39m\"\u001b[39m,  \u001b[39m# Start time (Unix timestamp)\u001b[39;00m\n\u001b[1;32m     <a href='vscode-notebook-cell:/Users/luca/Documents/GitHub/greenergroundsplanning/code/agroAPI.ipynb#X32sZmlsZQ%3D%3D?line=20'>21</a>\u001b[0m     \u001b[39m\"\u001b[39m\u001b[39mend\u001b[39m\u001b[39m\"\u001b[39m: \u001b[39m\"\u001b[39m\u001b[39m1698192000\u001b[39m\u001b[39m\"\u001b[39m,    \u001b[39m# End time (Unix timestamp)\u001b[39;00m\n\u001b[1;32m     <a href='vscode-notebook-cell:/Users/luca/Documents/GitHub/greenergroundsplanning/code/agroAPI.ipynb#X32sZmlsZQ%3D%3D?line=21'>22</a>\u001b[0m     \u001b[39m\"\u001b[39m\u001b[39mpolyid\u001b[39m\u001b[39m\"\u001b[39m: the_new_polygon\u001b[39m.\u001b[39mid,  \u001b[39m# ID of the new polygon\u001b[39;00m\n\u001b[1;32m     <a href='vscode-notebook-cell:/Users/luca/Documents/GitHub/greenergroundsplanning/code/agroAPI.ipynb#X32sZmlsZQ%3D%3D?line=22'>23</a>\u001b[0m     \u001b[39m\"\u001b[39m\u001b[39mappid\u001b[39m\u001b[39m\"\u001b[39m: \u001b[39m\"\u001b[39m\u001b[39m221aefae29a0184792ac527d1d7f80fa\u001b[39m\u001b[39m\"\u001b[39m  \u001b[39m# Your API key\u001b[39;00m\n\u001b[1;32m     <a href='vscode-notebook-cell:/Users/luca/Documents/GitHub/greenergroundsplanning/code/agroAPI.ipynb#X32sZmlsZQ%3D%3D?line=23'>24</a>\u001b[0m }\n\u001b[1;32m     <a href='vscode-notebook-cell:/Users/luca/Documents/GitHub/greenergroundsplanning/code/agroAPI.ipynb#X32sZmlsZQ%3D%3D?line=25'>26</a>\u001b[0m \u001b[39m# Send a GET request to the API\u001b[39;00m\n",
      "File \u001b[0;32m~/opt/anaconda3/envs/geo_env/lib/python3.10/site-packages/pyowm/agroapi10/agro_manager.py:67\u001b[0m, in \u001b[0;36mAgroManager.create_polygon\u001b[0;34m(self, geopolygon, name)\u001b[0m\n\u001b[1;32m     65\u001b[0m \u001b[39mif\u001b[39;00m name \u001b[39mis\u001b[39;00m \u001b[39mnot\u001b[39;00m \u001b[39mNone\u001b[39;00m:\n\u001b[1;32m     66\u001b[0m     data[\u001b[39m'\u001b[39m\u001b[39mname\u001b[39m\u001b[39m'\u001b[39m] \u001b[39m=\u001b[39m name\n\u001b[0;32m---> 67\u001b[0m status, payload \u001b[39m=\u001b[39m \u001b[39mself\u001b[39;49m\u001b[39m.\u001b[39;49mhttp_client\u001b[39m.\u001b[39;49mpost(\n\u001b[1;32m     68\u001b[0m     POLYGONS_URI,\n\u001b[1;32m     69\u001b[0m     params\u001b[39m=\u001b[39;49m{\u001b[39m'\u001b[39;49m\u001b[39mappid\u001b[39;49m\u001b[39m'\u001b[39;49m: \u001b[39mself\u001b[39;49m\u001b[39m.\u001b[39;49mAPI_key},\n\u001b[1;32m     70\u001b[0m     data\u001b[39m=\u001b[39;49mdata,\n\u001b[1;32m     71\u001b[0m     headers\u001b[39m=\u001b[39;49m{\u001b[39m'\u001b[39;49m\u001b[39mContent-Type\u001b[39;49m\u001b[39m'\u001b[39;49m: \u001b[39m'\u001b[39;49m\u001b[39mapplication/json\u001b[39;49m\u001b[39m'\u001b[39;49m})\n\u001b[1;32m     72\u001b[0m \u001b[39mreturn\u001b[39;00m Polygon\u001b[39m.\u001b[39mfrom_dict(payload)\n",
      "File \u001b[0;32m~/opt/anaconda3/envs/geo_env/lib/python3.10/site-packages/pyowm/commons/http_client.py:246\u001b[0m, in \u001b[0;36mHttpClient.post\u001b[0;34m(self, path, params, data, headers)\u001b[0m\n\u001b[1;32m    244\u001b[0m \u001b[39mexcept\u001b[39;00m requests\u001b[39m.\u001b[39mexceptions\u001b[39m.\u001b[39mTimeout:\n\u001b[1;32m    245\u001b[0m     \u001b[39mraise\u001b[39;00m exceptions\u001b[39m.\u001b[39mTimeoutError(\u001b[39m'\u001b[39m\u001b[39mAPI call timeouted\u001b[39m\u001b[39m'\u001b[39m)\n\u001b[0;32m--> 246\u001b[0m HttpClient\u001b[39m.\u001b[39;49mcheck_status_code(resp\u001b[39m.\u001b[39;49mstatus_code, resp\u001b[39m.\u001b[39;49mtext)\n\u001b[1;32m    247\u001b[0m \u001b[39m# this is a defense against OWM API responses containing an empty body!\u001b[39;00m\n\u001b[1;32m    248\u001b[0m \u001b[39mtry\u001b[39;00m:\n",
      "File \u001b[0;32m~/opt/anaconda3/envs/geo_env/lib/python3.10/site-packages/pyowm/commons/http_client.py:311\u001b[0m, in \u001b[0;36mHttpClient.check_status_code\u001b[0;34m(cls, status_code, payload)\u001b[0m\n\u001b[1;32m    309\u001b[0m     \u001b[39mreturn\u001b[39;00m\n\u001b[1;32m    310\u001b[0m \u001b[39mif\u001b[39;00m status_code \u001b[39m==\u001b[39m \u001b[39m400\u001b[39m \u001b[39mor\u001b[39;00m status_code \u001b[39mnot\u001b[39;00m \u001b[39min\u001b[39;00m [\u001b[39m401\u001b[39m, \u001b[39m404\u001b[39m, \u001b[39m502\u001b[39m]:\n\u001b[0;32m--> 311\u001b[0m     \u001b[39mraise\u001b[39;00m exceptions\u001b[39m.\u001b[39mAPIRequestError(payload)\n\u001b[1;32m    312\u001b[0m \u001b[39melif\u001b[39;00m status_code \u001b[39m==\u001b[39m \u001b[39m401\u001b[39m:\n\u001b[1;32m    313\u001b[0m     \u001b[39mraise\u001b[39;00m exceptions\u001b[39m.\u001b[39mUnauthorizedError(\u001b[39m'\u001b[39m\u001b[39mInvalid API Key provided\u001b[39m\u001b[39m'\u001b[39m)\n",
      "\u001b[0;31mAPIRequestError\u001b[0m: {\"name\":\"PayloadTooLargeError\",\"message\":\"You can not create polygons anymore.\"}"
     ]
    }
   ],
   "source": [
    "import json\n",
    "from pyowm.utils.geo import Polygon as GeoPolygon\n",
    "import requests\n",
    "import json\n",
    "\n",
    "NDVI_circoscrizioni = {}\n",
    "\n",
    "with open('../data/geojson/circoscrizioni.geojson') as f:\n",
    "    circoscrizioni = json.load(f)\n",
    "\n",
    "url = \"http://api.agromonitoring.com/agro/1.0/ndvi/history\"\n",
    "\n",
    "for feature in circoscrizioni['features']:\n",
    "    current_coords = feature['geometry']['coordinates']\n",
    "    gp = GeoPolygon(current_coords)\n",
    "\n",
    "    the_new_polygon = mgr.create_polygon(gp, 'new_polygon')\n",
    "\n",
    "    params = {\n",
    "        \"start\": \"1689552000\",  # Start time (Unix timestamp)\n",
    "        \"end\": \"1698192000\",    # End time (Unix timestamp)\n",
    "        \"polyid\": the_new_polygon.id,  # ID of the new polygon\n",
    "        \"appid\": \"de95041357fb3e1d49e788dc391d13a6\"  # Your API key\n",
    "    }\n",
    "\n",
    "    # Send a GET request to the API\n",
    "    response = requests.get(url, params=params)\n",
    "\n",
    "    # Parse the response as JSON\n",
    "    data = response.json()\n",
    "\n",
    "    # we want to add to NDVI_circoscrizioni the NDVI values for each circoscrizione. We want to save name of circoscrizione and the NDVI values (dt, data.median)\n",
    "    NDVI_circoscrizioni[feature['properties']['nome']] = [(item['dt'], item['data']['median']) for item in data]\n",
    "\n",
    "    # We have to delete the polygon because we have a limit on the area to use\n",
    "    mgr.delete_polygon(the_new_polygon)\n",
    "    \n",
    "    print(feature['properties']['nome'])"
   ]
  },
  {
   "cell_type": "code",
   "execution_count": 13,
   "metadata": {},
   "outputs": [
    {
     "data": {
      "text/plain": [
       "{}"
      ]
     },
     "execution_count": 13,
     "metadata": {},
     "output_type": "execute_result"
    }
   ],
   "source": [
    "NDVI_circoscrizioni"
   ]
  },
  {
   "cell_type": "code",
   "execution_count": null,
   "metadata": {},
   "outputs": [],
   "source": [
    "\"\"\" mine_coordinates = [[77.3384, 28.6902], [74.5921, 28.7081], [72.0131, 24.6037], [86.5405, 25.0426], [82.7497, 22.3285]] #sample coordinates only\n",
    "mine_area = ee.Geometry.MultiPoint(mine_coordinates).buffer(5000) #circular region of 5 kms radius around the point\n",
    "\n",
    "def getNDVI(image):\n",
    "    return image.normalizedDifference(['B8', 'B4'])\n",
    "\n",
    "image_left = ee.ImageCollection('COPERNICUS/S2_SR').filterDate('2020-11-01', '2020-11-30').median().clip(mine_area)\n",
    "\n",
    "ndvi_left = getNDVI(image_left) #input and output are images\n",
    "ndviParams = {'min': 0,\n",
    "               'max': 0.5,\n",
    "               'palette': ['#d73027', '#f46d43', '#fdae61', '#fee08b', '#ffffbf', '#d9ef8b', '#a6d96a', '#66bd63', '#1a9850']}\n",
    "\n",
    "mine_map = gm.Map(center = [24.922695, 77.531718], zoom = 6, lite_mode = True)\n",
    "mine_map.addLayer(mine_area, {'color': 'red'})\n",
    "mine_map.addLayer(ndvi_left, ndviParams, 'NDVI')\n",
    "mine_map.addLayerControl()\n",
    "mine_map\n",
    "\n",
    "mineMeansFeatures = ndvi_left.reduceRegions(\n",
    "    collection = mine_area,\n",
    "    reducer = ee.Reducer.mean(),\n",
    "    scale = 30,\n",
    ")\n",
    "\n",
    "ee.batch.Export.table.toDrive(collection = mineMeansFeatures, description = 'mineNDVI', fileFormat = 'CSV').start() \"\"\""
   ]
  },
  {
   "cell_type": "code",
   "execution_count": 1,
   "metadata": {},
   "outputs": [
    {
     "name": "stderr",
     "output_type": "stream",
     "text": [
      "/Users/luca/opt/anaconda3/envs/geo_env/lib/python3.10/site-packages/libpysal/cg/alpha_shapes.py:39: NumbaDeprecationWarning: The 'nopython' keyword argument was not supplied to the 'numba.jit' decorator. The implicit default value for this argument is currently False, but it will be changed to True in Numba 0.59.0. See https://numba.readthedocs.io/en/stable/reference/deprecation.html#deprecation-of-object-mode-fall-back-behaviour-when-using-jit for details.\n",
      "  def nb_dist(x, y):\n",
      "/Users/luca/opt/anaconda3/envs/geo_env/lib/python3.10/site-packages/libpysal/cg/alpha_shapes.py:165: NumbaDeprecationWarning: The 'nopython' keyword argument was not supplied to the 'numba.jit' decorator. The implicit default value for this argument is currently False, but it will be changed to True in Numba 0.59.0. See https://numba.readthedocs.io/en/stable/reference/deprecation.html#deprecation-of-object-mode-fall-back-behaviour-when-using-jit for details.\n",
      "  def get_faces(triangle):\n",
      "/Users/luca/opt/anaconda3/envs/geo_env/lib/python3.10/site-packages/libpysal/cg/alpha_shapes.py:199: NumbaDeprecationWarning: The 'nopython' keyword argument was not supplied to the 'numba.jit' decorator. The implicit default value for this argument is currently False, but it will be changed to True in Numba 0.59.0. See https://numba.readthedocs.io/en/stable/reference/deprecation.html#deprecation-of-object-mode-fall-back-behaviour-when-using-jit for details.\n",
      "  def build_faces(faces, triangles_is, num_triangles, num_faces_single):\n",
      "/Users/luca/opt/anaconda3/envs/geo_env/lib/python3.10/site-packages/libpysal/cg/alpha_shapes.py:261: NumbaDeprecationWarning: The 'nopython' keyword argument was not supplied to the 'numba.jit' decorator. The implicit default value for this argument is currently False, but it will be changed to True in Numba 0.59.0. See https://numba.readthedocs.io/en/stable/reference/deprecation.html#deprecation-of-object-mode-fall-back-behaviour-when-using-jit for details.\n",
      "  def nb_mask_faces(mask, faces):\n"
     ]
    },
    {
     "data": {
      "text/plain": [
       "array(['Common fig', 'Tamarisk spp', 'Plum spp', 'Black locust',\n",
       "       'Common plum', 'English walnut', 'European black elderberry',\n",
       "       'Japanese persimmon', 'Tree of heaven', 'European turkey oak',\n",
       "       'European filbert', 'English oak', 'Elm spp', 'White mulberry',\n",
       "       'Black poplar', 'Populus canescens', 'Ash spp', 'European ash',\n",
       "       'White willow', 'Sweet cherry', 'European hackberry',\n",
       "       'Flowering ash', 'Hedge maple', 'European hornbeam',\n",
       "       'Narrow-leafed ash', 'Hawthorn spp', 'Blackthorn',\n",
       "       'European medlar', 'Common pear', 'Apple spp', 'Black mulberry',\n",
       "       'Japanese flowering cherry', 'Japanese privet',\n",
       "       'Littleleaf linden', 'Basswood spp', 'Norway maple',\n",
       "       'Necklacepod spp', 'Arbol de judea', 'Silver maple', 'Boxelder',\n",
       "       'Silver linden', 'Norway spruce', 'Horse chestnut', 'Sycamore spp',\n",
       "       'White poplar', 'English yew', 'Deodar cedar', 'Privet spp',\n",
       "       'London planetree', 'Oriental planetree', 'Robinia spp',\n",
       "       'Austrian pine', 'Cottonwood spp', 'Eastern white pine',\n",
       "       'Southern magnolia', 'Northern white cedar', 'Italian stone pine',\n",
       "       'Nordmann fir', \"Maule's quince\", 'Oleander', 'Aloe yucca',\n",
       "       'Black walnut', 'Honeylocust', 'Hop hornbeam', 'Oneseed hawthorn',\n",
       "       'Cypress spp', 'Blue atlas cedar', 'Rose-of-sharon', 'Holly oak',\n",
       "       'Atlas cedar', 'Italian cypress', 'Goldenrain tree',\n",
       "       'Hackberry spp', 'Bigleaf linden', 'Osage orange', 'Maritime pine',\n",
       "       'Freeman maple', 'Chinaberry', 'Ginkgo', 'Sterculia spp',\n",
       "       'Sweetgum', 'Baldcypress', 'Chinese privet', 'Downy oak',\n",
       "       'Northern red oak', 'Southern catalpa', 'Sugar maple',\n",
       "       'Libocedrus spp', 'Bay laurel', 'Whitebeam', 'Paper mulberry',\n",
       "       'Cedar of lebanon', 'Scots pine', 'Kentucky Coffee tree',\n",
       "       'Sycamore maple', 'European aspen', 'Coast redwood', 'Loquat tree',\n",
       "       'American elm', 'Common crapemyrtle', 'Harlequin glorybower',\n",
       "       'Olive', 'Chinese Plum Yew', 'Red horsechestnut', 'Cherry laurel',\n",
       "       'Bloodtwig dogwood', 'Smoke tree', 'Saucer magnolia',\n",
       "       'Red Cedar spp', 'European beech', 'European silver fir',\n",
       "       'Eastern cottonwood', 'Arizona cypress', 'Laurustinus',\n",
       "       'California privet', 'Fraser photinia', 'European buckthorn',\n",
       "       'Italian alder', 'Mediterranean Medlar', 'Cherry plum',\n",
       "       'Basket willow', 'Pomegranate', 'Durmast oak', 'Apricot',\n",
       "       'Common apple', 'Cedar spp', 'Pine spp', 'Port orford cedar',\n",
       "       'Persian silk tree', 'Willow spp', 'Glossy privet',\n",
       "       'European white birch', 'Golden Chain Tree spp', 'Windmill palm',\n",
       "       'European alder', 'Royal paulownia', 'Mulberry spp',\n",
       "       'Mediterranean fan palm', 'Russian olive', 'Peach', 'Grey alder',\n",
       "       'Strawberry tree', 'Crimean linden', 'Montpelier Maple',\n",
       "       'Turkish hazelnut', 'Common privet', 'Ugni spp', 'Pecan',\n",
       "       'European bird cherry', 'Chestnut-leaved oak', 'Tulip tree',\n",
       "       'Japanese maple', 'Pin oak', 'Purple blow maple', 'Quince',\n",
       "       'Oak spp', 'Date Plum', 'Willow-leaved Pear', 'Higan cherry',\n",
       "       'Devilwood spp', 'Sour Cherry', 'Sargent cherry',\n",
       "       'Common chokecherry', 'Callery pear', 'Pterocarya spp',\n",
       "       'Zelkova spp', 'Spanish fir', 'Hungarian Oak', 'White ash',\n",
       "       'Black cherry', 'Yew spp', 'Common jujube', 'Mahaleb Cherry',\n",
       "       'Elaeagnus willow', 'Crack willow', 'Red maple',\n",
       "       \"Pere David's Maple\", 'Paperbark maple', 'Wild Service Tree',\n",
       "       'Bastard service-tree', 'Swedish Whitebeam', 'Juneberry',\n",
       "       'Dawn Redwood spp', 'Purple wisteria', 'Showy forsythia',\n",
       "       'Italian Maple', 'Babylon weeping willow', 'Sweet chestnut',\n",
       "       'Western red cedar', 'Bhutan pine', 'European mountain ash',\n",
       "       'Chinese redbud', 'Maple spp', 'English holly', 'Blue spruce',\n",
       "       'Fullmoon maple', 'Common lilac', 'Photinia', 'Firethorn spp',\n",
       "       'European crabapple', 'Service tree', 'Chaste tree',\n",
       "       'Cedar-of-Goa', 'Pear spp', 'Monterey cypress', 'Bignonia spp',\n",
       "       'Japanese zelkova', 'Paulownia spp', 'Chastetree spp',\n",
       "       'Cornelian cherry', 'Cladrastis spp', 'Actinidia spp',\n",
       "       'Silver wattle', 'Kobushi Magnolia', 'Serviceberry spp',\n",
       "       'Washingtonia spp', 'Japanese pittosporum', 'Pomegranate spp',\n",
       "       'Fan Palm spp', 'Staghorn sumac', 'Gage plum', 'Juniper spp',\n",
       "       'Viburnum spp', 'French plantain', 'Persian ironwood',\n",
       "       'Common box', 'Japanese allspice', 'Italian Buckthorn',\n",
       "       'Pride-of-rochester spp', 'Mountain laurel', 'Elaeagnus spp',\n",
       "       'European cranberry bush', 'American basswood', 'Sweetshrub spp',\n",
       "       'Swiss mountain pine', 'Carolina poplar', None], dtype=object)"
      ]
     },
     "execution_count": 1,
     "metadata": {},
     "output_type": "execute_result"
    }
   ],
   "source": [
    "import pandas as pd\n",
    "import pysal as ps\n",
    "import statsmodels.api as sm\n",
    "import geopandas as gpd\n",
    "import libpysal as lp\n",
    "from spreg import ML_Lag\n",
    "from spreg import OLS\n",
    "import numpy as np\n",
    "from sklearn.metrics import mean_squared_error as mse\n",
    "\n",
    "# Load the data \n",
    "#data = pd.read_csv('data_trees_modified.csv')\n",
    "data = gpd.read_file('../data/geojson/geo_data_trees.geojson')\n",
    "\n",
    "# get the unique value of the Name column\n",
    "data['Name'].unique()"
   ]
  },
  {
   "cell_type": "code",
   "execution_count": 2,
   "metadata": {},
   "outputs": [
    {
     "data": {
      "text/plain": [
       "237"
      ]
     },
     "execution_count": 2,
     "metadata": {},
     "output_type": "execute_result"
    }
   ],
   "source": [
    "len(data['Name'].unique())"
   ]
  }
 ],
 "metadata": {
  "kernelspec": {
   "display_name": "geo_env",
   "language": "python",
   "name": "python3"
  },
  "language_info": {
   "codemirror_mode": {
    "name": "ipython",
    "version": 3
   },
   "file_extension": ".py",
   "mimetype": "text/x-python",
   "name": "python",
   "nbconvert_exporter": "python",
   "pygments_lexer": "ipython3",
   "version": "3.10.5"
  }
 },
 "nbformat": 4,
 "nbformat_minor": 2
}
