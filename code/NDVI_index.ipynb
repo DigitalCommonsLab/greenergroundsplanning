{
 "cells": [
  {
   "cell_type": "markdown",
   "id": "a596ba1a-8cc3-4cfe-a518-31f0a71f0b52",
   "metadata": {},
   "source": [
    "## Import Google earth engine API and Authenticate"
   ]
  },
  {
   "cell_type": "code",
   "execution_count": 9,
   "id": "72151a25-a0ac-4a06-8811-ff9856cc194a",
   "metadata": {},
   "outputs": [
    {
     "data": {
      "text/html": [
       "<p>To authorize access needed by Earth Engine, open the following\n",
       "        URL in a web browser and follow the instructions:</p>\n",
       "        <p><a href=https://code.earthengine.google.com/client-auth?scopes=https%3A//www.googleapis.com/auth/earthengine%20https%3A//www.googleapis.com/auth/devstorage.full_control&request_id=9mchm8M62Ern7h0xAiTg51mMjdx174nnsUl6CRQz9sE&tc=mAj1qx1GjwcCKodHmRjthCxb3vH4n-WnO2BnfszpSaQ&cc=0WIaSPMtxrL4zLmYHziOnpLI1SJEADmuEjqGH2IkXlg>https://code.earthengine.google.com/client-auth?scopes=https%3A//www.googleapis.com/auth/earthengine%20https%3A//www.googleapis.com/auth/devstorage.full_control&request_id=9mchm8M62Ern7h0xAiTg51mMjdx174nnsUl6CRQz9sE&tc=mAj1qx1GjwcCKodHmRjthCxb3vH4n-WnO2BnfszpSaQ&cc=0WIaSPMtxrL4zLmYHziOnpLI1SJEADmuEjqGH2IkXlg</a></p>\n",
       "        <p>The authorization workflow will generate a code, which you should paste in the box below.</p>\n",
       "        "
      ],
      "text/plain": [
       "<IPython.core.display.HTML object>"
      ]
     },
     "metadata": {},
     "output_type": "display_data"
    },
    {
     "name": "stdout",
     "output_type": "stream",
     "text": [
      "\n",
      "Successfully saved authorization token.\n"
     ]
    },
    {
     "name": "stderr",
     "output_type": "stream",
     "text": [
      "*** Earth Engine *** Share your feedback by taking our Annual Developer Satisfaction Survey: https://google.qualtrics.com/jfe/form/SV_doiqkQG3NJ1t8IS?source=API\n"
     ]
    }
   ],
   "source": [
    "# import Google earth engine module\n",
    "import ee\n",
    "\n",
    "#Authenticate the Google earth engine with google account\n",
    "# First firt setup only, no need to run this after first run\n",
    "\n",
    "#'4/1AfJohXlW8i8f10hHcz7lAX9RUDx8WIFcqzXcErwbwQzaV6mqI5QackCrfGU' --> something like this, print the token on the menu above\n",
    "ee.Authenticate()\n",
    "\n",
    "# for normal/regular use for authorization\n",
    "# this is required regularly\n",
    "ee.Initialize()"
   ]
  },
  {
   "cell_type": "code",
   "execution_count": 55,
   "id": "b2029acd-c0fd-4a61-b669-5246097e006e",
   "metadata": {},
   "outputs": [],
   "source": [
    "#Pandas modules to interact data\n",
    "import numpy as np\n",
    "import pandas as pd\n",
    "import geopandas as gpd\n",
    "import json\n",
    "from pyowm.utils.geo import Polygon as GeoPolygon\n",
    "\n",
    "import warnings\n",
    "warnings.filterwarnings('ignore')\n",
    "\n",
    "with open('../data/geojson/circoscrizioni.geojson') as f:\n",
    "    circoscrizioni = json.load(f)"
   ]
  },
  {
   "cell_type": "code",
   "execution_count": 56,
   "metadata": {},
   "outputs": [],
   "source": [
    "def addDate(image):\n",
    "    img_date = ee.Date(image.date())\n",
    "    img_date = ee.Number.parse(img_date.format('YYYYMMdd'))\n",
    "    return image.addBands(ee.Image(img_date).rename('date').toInt())"
   ]
  },
  {
   "cell_type": "code",
   "execution_count": 58,
   "id": "68dbd175-0d92-4f15-b68f-7c60d5e149fc",
   "metadata": {},
   "outputs": [],
   "source": [
    "# Longer the duration, Longer it will take for Processing and downloading of Images\n",
    "StartDate = '2023-01-01'\n",
    "EndDate = '2023-11-01'\n",
    "\n",
    "NDVI_circoscrizioni = {}\n",
    "\n",
    "for feature in circoscrizioni['features']:\n",
    "    current_coords = feature['geometry']['coordinates']\n",
    "    pol = ee.Geometry.Polygon(current_coords)\n",
    "\n",
    "    ens = [\n",
    "        ee.Feature(pol, {'name': 'nepal-crop-poly', 'id':1})\n",
    "    ]\n",
    "\n",
    "    col =  ee.FeatureCollection(ens)\n",
    "\n",
    "    def extractMinMaxMean(image):\n",
    "        return image.reduceRegions(**{\n",
    "        'collection':col,\n",
    "        'reducer':ee.Reducer.minMax().combine(ee.Reducer.mean(), '', True), \n",
    "    })\n",
    "\n",
    "    # add satellite time series: MODIS NDVI 250m 16 day -------------\n",
    "    # terra sensor\n",
    "    collectionModNDVI_terra = ee.ImageCollection('MODIS/006/MOD13Q1').filterDate(StartDate,EndDate) \\\n",
    "        .filterBounds(pol)\\\n",
    "        .select('NDVI')\n",
    "\n",
    "    # Aqua sensor\n",
    "    collectionModNDVI_aqua = ee.ImageCollection('MODIS/061/MYD13Q1').filterDate(StartDate,EndDate) \\\n",
    "        .filterBounds(pol)\\\n",
    "        .select('NDVI');\n",
    "\n",
    "    collectionModNDVI = collectionModNDVI_terra.merge(collectionModNDVI_aqua)\n",
    "    # THis will provide us 250 m of NDVI datasets from MODIS on 8 day interval\n",
    "\n",
    "    ModNDVI = collectionModNDVI.filterBounds(pol).map(addDate).map(extractMinMaxMean).flatten()\n",
    "\n",
    "    column_df = ['NDVI_mean', 'NDVI_min', 'NDVI_max', 'date_min', 'id', 'name']\n",
    "    \n",
    "    nested_list = ModNDVI.reduceColumns(ee.Reducer.toList(len(column_df)), column_df).values().get(0)\n",
    "    data = nested_list.getInfo()\n",
    "\n",
    "    # dont forget we need to call the callback method \"getInfo\" to retrieve the data\n",
    "    df = pd.DataFrame(data, columns=column_df)\n",
    "\n",
    "    df['date']= pd.to_datetime(df['date_min'], format='%Y%m%d')\n",
    "    df_new = df.sort_values(by=['date'])\n",
    "\n",
    "    # put inside NDVI_circoscrizioni dictionary the name of the circoscrizione and the mean of the NDVI_mean column\n",
    "    NDVI_circoscrizioni[feature['properties']['nome']] = df_new['NDVI_mean'].mean()\n"
   ]
  },
  {
   "cell_type": "code",
   "execution_count": 60,
   "metadata": {},
   "outputs": [],
   "source": [
    "# save the dictionary as a json file\n",
    "with open('../data/NDVI_circoscrizioni.json', 'w') as fp:\n",
    "    json.dump(NDVI_circoscrizioni, fp)"
   ]
  },
  {
   "cell_type": "markdown",
   "metadata": {},
   "source": [
    "# Totorial: https://github.com/krishnakafle/Blog_kaflekrishna/blob/main/GEE/min-max-mean-graph-polygon-ndvi/min-max-mean-visualizer.ipynb"
   ]
  },
  {
   "cell_type": "markdown",
   "id": "6fa576fa-1c29-4d9c-97a7-f78e7c18ed1d",
   "metadata": {},
   "source": [
    "## Define starting and ending year of study (Both year Inclusive)"
   ]
  },
  {
   "cell_type": "code",
   "execution_count": 1,
   "id": "969a8747-0f06-429f-a466-29e5cd501574",
   "metadata": {},
   "outputs": [],
   "source": [
    "# Longer the duration, Longer it will take for Processing and downloading of Images\n",
    "StartDate = '2023-01-01'\n",
    "EndDate = '2023-11-01'"
   ]
  },
  {
   "cell_type": "markdown",
   "id": "9a35a207-6267-41d1-8220-883dbca5178e",
   "metadata": {},
   "source": [
    "## Define area of interest"
   ]
  },
  {
   "cell_type": "code",
   "execution_count": null,
   "id": "e1d989a6-791d-4e77-b5c0-3fc30509c13c",
   "metadata": {},
   "outputs": [],
   "source": [
    "pol = ee.Geometry.Polygon(\n",
    "    [[[81.03752257234235,28.560898024907527],\n",
    "      [81.04466797715803,28.560898024907527],\n",
    "      [81.04466797715803,28.56510070523194],\n",
    "      [81.03752257234235,28.56510070523194],\n",
    "      [81.03752257234235,28.560898024907527]\n",
    "    ]])"
   ]
  },
  {
   "cell_type": "code",
   "execution_count": null,
   "id": "db4227c9-422c-4703-87eb-a7f2c5711959",
   "metadata": {},
   "outputs": [
    {
     "name": "stdout",
     "output_type": "stream",
     "text": [
      "{'type': 'FeatureCollection', 'columns': {'id': 'Integer', 'name': 'String', 'system:index': 'String'}, 'features': [{'type': 'Feature', 'geometry': {'type': 'Polygon', 'coordinates': [[[81.03752257234235, 28.560898024907527], [81.04466797715803, 28.560898024907527], [81.04466797715803, 28.56510070523194], [81.03752257234235, 28.56510070523194], [81.03752257234235, 28.560898024907527]]]}, 'id': '0', 'properties': {'id': 1, 'name': 'nepal-crop-poly'}}]}\n"
     ]
    }
   ],
   "source": [
    "ens = [\n",
    "    ee.Feature(pol, {'name': 'nepal-crop-poly', 'id':1})\n",
    "]\n",
    "\n",
    "col =  ee.FeatureCollection(ens)\n",
    "print(col.getInfo())"
   ]
  },
  {
   "cell_type": "code",
   "execution_count": null,
   "id": "1fae0aaa-1cd1-4d2c-b5cd-38e63f67e222",
   "metadata": {},
   "outputs": [],
   "source": [
    "def addDate(image):\n",
    "    img_date = ee.Date(image.date())\n",
    "    img_date = ee.Number.parse(img_date.format('YYYYMMdd'))\n",
    "    return image.addBands(ee.Image(img_date).rename('date').toInt())"
   ]
  },
  {
   "cell_type": "code",
   "execution_count": null,
   "id": "e83f6974-8c9a-4ac6-b175-e97efab2295e",
   "metadata": {},
   "outputs": [],
   "source": [
    "# add satellite time series: MODIS NDVI 250m 16 day -------------\n",
    "# terra sensor\n",
    "collectionModNDVI_terra = ee.ImageCollection('MODIS/006/MOD13Q1').filterDate(StartDate,EndDate) \\\n",
    "    .filterBounds(pol)\\\n",
    "    .select('NDVI')\n",
    "\n",
    "# Aqua sensor\n",
    "collectionModNDVI_aqua = ee.ImageCollection('MODIS/061/MYD13Q1').filterDate(StartDate,EndDate) \\\n",
    "    .filterBounds(pol)\\\n",
    "    .select('NDVI');\n",
    "\n",
    "collectionModNDVI = collectionModNDVI_terra.merge(collectionModNDVI_aqua)\n",
    "# THis will provide us 250 m of NDVI datasets from MODIS on 8 day interval"
   ]
  },
  {
   "cell_type": "code",
   "execution_count": null,
   "id": "32c241e1-ef44-45cd-bbe6-7b2fc5bf561f",
   "metadata": {},
   "outputs": [],
   "source": [
    "def extractMinMaxMean(image):\n",
    "    return image.reduceRegions(**{\n",
    "    'collection':col,\n",
    "    'reducer':ee.Reducer.minMax().combine(ee.Reducer.mean(), '', True), \n",
    "  })"
   ]
  },
  {
   "cell_type": "code",
   "execution_count": null,
   "id": "c2547311-6c3a-4690-83f6-b77cbdf31bea",
   "metadata": {},
   "outputs": [],
   "source": [
    "ModNDVI = collectionModNDVI.filterBounds(pol).map(addDate).map(extractMinMaxMean).flatten()"
   ]
  },
  {
   "cell_type": "code",
   "execution_count": null,
   "id": "38f9d511-4d92-4a25-b393-a4c0f08d0f14",
   "metadata": {},
   "outputs": [
    {
     "data": {
      "text/plain": [
       "{'type': 'Feature',\n",
       " 'geometry': {'type': 'Polygon',\n",
       "  'coordinates': [[[81.03752257234235, 28.560898024907527],\n",
       "    [81.04466797715803, 28.560898024907527],\n",
       "    [81.04466797715803, 28.56510070523194],\n",
       "    [81.03752257234235, 28.56510070523194],\n",
       "    [81.03752257234235, 28.560898024907527]]]},\n",
       " 'id': '1_2023_01_01_0',\n",
       " 'properties': {'NDVI_max': 7516,\n",
       "  'NDVI_mean': 5989.6186440677975,\n",
       "  'NDVI_min': 4776,\n",
       "  'date_max': 20230101,\n",
       "  'date_mean': 20230101,\n",
       "  'date_min': 20230101,\n",
       "  'id': 1,\n",
       "  'name': 'nepal-crop-poly'}}"
      ]
     },
     "execution_count": 48,
     "metadata": {},
     "output_type": "execute_result"
    }
   ],
   "source": [
    "sample_result = ModNDVI.first().getInfo()\n",
    "sample_result"
   ]
  },
  {
   "cell_type": "code",
   "execution_count": null,
   "id": "b702c5ee-0145-4d07-99ad-d35758972005",
   "metadata": {},
   "outputs": [],
   "source": [
    "# extract the properties column from feature collection\n",
    "# column order may not be as our sample data order\n",
    "column_df = ['NDVI_mean', 'NDVI_min', 'NDVI_max', 'date_min', 'id', 'name']"
   ]
  },
  {
   "cell_type": "code",
   "execution_count": null,
   "id": "5fab0764-871d-49e4-80d2-908d48f72269",
   "metadata": {
    "scrolled": true,
    "tags": []
   },
   "outputs": [
    {
     "data": {
      "text/plain": [
       "[[5989.6186440677975, 4776, 7516, 20230101, 1, 'nepal-crop-poly'],\n",
       " [6393.663624511082, 5851, 7210, 20230117, 1, 'nepal-crop-poly'],\n",
       " [7758.35332464146, 7499, 7895, 20230202, 1, 'nepal-crop-poly'],\n",
       " [5087.623207301173, 4456, 5986, 20230109, 1, 'nepal-crop-poly'],\n",
       " [7439.797913950457, 7134, 7748, 20230125, 1, 'nepal-crop-poly'],\n",
       " [7278.266623207302, 6862, 7752, 20230210, 1, 'nepal-crop-poly'],\n",
       " [6741.7874837027375, 6524, 7110, 20230226, 1, 'nepal-crop-poly'],\n",
       " [6186.42372881356, 6118, 6358, 20230314, 1, 'nepal-crop-poly'],\n",
       " [3075.433507170796, 2865, 3519, 20230330, 1, 'nepal-crop-poly'],\n",
       " [2388.8943937418517, 2259, 2826, 20230415, 1, 'nepal-crop-poly'],\n",
       " [2110.1610169491523, 2002, 2400, 20230501, 1, 'nepal-crop-poly'],\n",
       " [1944.0013037809647, 1777, 2469, 20230517, 1, 'nepal-crop-poly'],\n",
       " [1669.2105606258149, 1555, 2291, 20230602, 1, 'nepal-crop-poly'],\n",
       " [2400.857235984355, 2010, 3191, 20230618, 1, 'nepal-crop-poly'],\n",
       " [6280.444589308996, 6025, 6650, 20230704, 1, 'nepal-crop-poly'],\n",
       " [7593.034550195567, 4350, 8019, 20230720, 1, 'nepal-crop-poly'],\n",
       " [8819.273142112124, 8364, 9043, 20230805, 1, 'nepal-crop-poly'],\n",
       " [8972.435462842242, 8863, 8999, 20230821, 1, 'nepal-crop-poly'],\n",
       " [8140.659713168188, 8076, 8325, 20230906, 1, 'nepal-crop-poly'],\n",
       " [6984.395045632333, 6656, 7264, 20230922, 1, 'nepal-crop-poly'],\n",
       " [4677.729465449805, 3792, 5108, 20231008, 1, 'nepal-crop-poly']]"
      ]
     },
     "execution_count": 51,
     "metadata": {},
     "output_type": "execute_result"
    }
   ],
   "source": [
    "nested_list = ModNDVI.reduceColumns(ee.Reducer.toList(len(column_df)), column_df).values().get(0)\n",
    "data = nested_list.getInfo()\n",
    "data"
   ]
  },
  {
   "cell_type": "code",
   "execution_count": null,
   "id": "6745ebb6-6ca6-40f8-acba-e6c27ec49e16",
   "metadata": {},
   "outputs": [],
   "source": [
    "# dont forget we need to call the callback method \"getInfo\" to retrieve the data\n",
    "df = pd.DataFrame(data, columns=column_df)\n",
    "# we obtain the data frame as per our demand\n",
    "# df"
   ]
  },
  {
   "cell_type": "code",
   "execution_count": null,
   "id": "ff6c4a27-3aa4-469c-ac99-edb718453692",
   "metadata": {},
   "outputs": [
    {
     "data": {
      "text/html": [
       "<div>\n",
       "<style scoped>\n",
       "    .dataframe tbody tr th:only-of-type {\n",
       "        vertical-align: middle;\n",
       "    }\n",
       "\n",
       "    .dataframe tbody tr th {\n",
       "        vertical-align: top;\n",
       "    }\n",
       "\n",
       "    .dataframe thead th {\n",
       "        text-align: right;\n",
       "    }\n",
       "</style>\n",
       "<table border=\"1\" class=\"dataframe\">\n",
       "  <thead>\n",
       "    <tr style=\"text-align: right;\">\n",
       "      <th></th>\n",
       "      <th>NDVI_mean</th>\n",
       "      <th>NDVI_min</th>\n",
       "      <th>NDVI_max</th>\n",
       "      <th>date_min</th>\n",
       "      <th>id</th>\n",
       "      <th>name</th>\n",
       "      <th>date</th>\n",
       "    </tr>\n",
       "  </thead>\n",
       "  <tbody>\n",
       "    <tr>\n",
       "      <th>0</th>\n",
       "      <td>5989.618644</td>\n",
       "      <td>4776</td>\n",
       "      <td>7516</td>\n",
       "      <td>20230101</td>\n",
       "      <td>1</td>\n",
       "      <td>nepal-crop-poly</td>\n",
       "      <td>2023-01-01</td>\n",
       "    </tr>\n",
       "    <tr>\n",
       "      <th>3</th>\n",
       "      <td>5087.623207</td>\n",
       "      <td>4456</td>\n",
       "      <td>5986</td>\n",
       "      <td>20230109</td>\n",
       "      <td>1</td>\n",
       "      <td>nepal-crop-poly</td>\n",
       "      <td>2023-01-09</td>\n",
       "    </tr>\n",
       "    <tr>\n",
       "      <th>1</th>\n",
       "      <td>6393.663625</td>\n",
       "      <td>5851</td>\n",
       "      <td>7210</td>\n",
       "      <td>20230117</td>\n",
       "      <td>1</td>\n",
       "      <td>nepal-crop-poly</td>\n",
       "      <td>2023-01-17</td>\n",
       "    </tr>\n",
       "    <tr>\n",
       "      <th>4</th>\n",
       "      <td>7439.797914</td>\n",
       "      <td>7134</td>\n",
       "      <td>7748</td>\n",
       "      <td>20230125</td>\n",
       "      <td>1</td>\n",
       "      <td>nepal-crop-poly</td>\n",
       "      <td>2023-01-25</td>\n",
       "    </tr>\n",
       "    <tr>\n",
       "      <th>2</th>\n",
       "      <td>7758.353325</td>\n",
       "      <td>7499</td>\n",
       "      <td>7895</td>\n",
       "      <td>20230202</td>\n",
       "      <td>1</td>\n",
       "      <td>nepal-crop-poly</td>\n",
       "      <td>2023-02-02</td>\n",
       "    </tr>\n",
       "    <tr>\n",
       "      <th>5</th>\n",
       "      <td>7278.266623</td>\n",
       "      <td>6862</td>\n",
       "      <td>7752</td>\n",
       "      <td>20230210</td>\n",
       "      <td>1</td>\n",
       "      <td>nepal-crop-poly</td>\n",
       "      <td>2023-02-10</td>\n",
       "    </tr>\n",
       "    <tr>\n",
       "      <th>6</th>\n",
       "      <td>6741.787484</td>\n",
       "      <td>6524</td>\n",
       "      <td>7110</td>\n",
       "      <td>20230226</td>\n",
       "      <td>1</td>\n",
       "      <td>nepal-crop-poly</td>\n",
       "      <td>2023-02-26</td>\n",
       "    </tr>\n",
       "    <tr>\n",
       "      <th>7</th>\n",
       "      <td>6186.423729</td>\n",
       "      <td>6118</td>\n",
       "      <td>6358</td>\n",
       "      <td>20230314</td>\n",
       "      <td>1</td>\n",
       "      <td>nepal-crop-poly</td>\n",
       "      <td>2023-03-14</td>\n",
       "    </tr>\n",
       "    <tr>\n",
       "      <th>8</th>\n",
       "      <td>3075.433507</td>\n",
       "      <td>2865</td>\n",
       "      <td>3519</td>\n",
       "      <td>20230330</td>\n",
       "      <td>1</td>\n",
       "      <td>nepal-crop-poly</td>\n",
       "      <td>2023-03-30</td>\n",
       "    </tr>\n",
       "    <tr>\n",
       "      <th>9</th>\n",
       "      <td>2388.894394</td>\n",
       "      <td>2259</td>\n",
       "      <td>2826</td>\n",
       "      <td>20230415</td>\n",
       "      <td>1</td>\n",
       "      <td>nepal-crop-poly</td>\n",
       "      <td>2023-04-15</td>\n",
       "    </tr>\n",
       "    <tr>\n",
       "      <th>10</th>\n",
       "      <td>2110.161017</td>\n",
       "      <td>2002</td>\n",
       "      <td>2400</td>\n",
       "      <td>20230501</td>\n",
       "      <td>1</td>\n",
       "      <td>nepal-crop-poly</td>\n",
       "      <td>2023-05-01</td>\n",
       "    </tr>\n",
       "    <tr>\n",
       "      <th>11</th>\n",
       "      <td>1944.001304</td>\n",
       "      <td>1777</td>\n",
       "      <td>2469</td>\n",
       "      <td>20230517</td>\n",
       "      <td>1</td>\n",
       "      <td>nepal-crop-poly</td>\n",
       "      <td>2023-05-17</td>\n",
       "    </tr>\n",
       "    <tr>\n",
       "      <th>12</th>\n",
       "      <td>1669.210561</td>\n",
       "      <td>1555</td>\n",
       "      <td>2291</td>\n",
       "      <td>20230602</td>\n",
       "      <td>1</td>\n",
       "      <td>nepal-crop-poly</td>\n",
       "      <td>2023-06-02</td>\n",
       "    </tr>\n",
       "    <tr>\n",
       "      <th>13</th>\n",
       "      <td>2400.857236</td>\n",
       "      <td>2010</td>\n",
       "      <td>3191</td>\n",
       "      <td>20230618</td>\n",
       "      <td>1</td>\n",
       "      <td>nepal-crop-poly</td>\n",
       "      <td>2023-06-18</td>\n",
       "    </tr>\n",
       "    <tr>\n",
       "      <th>14</th>\n",
       "      <td>6280.444589</td>\n",
       "      <td>6025</td>\n",
       "      <td>6650</td>\n",
       "      <td>20230704</td>\n",
       "      <td>1</td>\n",
       "      <td>nepal-crop-poly</td>\n",
       "      <td>2023-07-04</td>\n",
       "    </tr>\n",
       "    <tr>\n",
       "      <th>15</th>\n",
       "      <td>7593.034550</td>\n",
       "      <td>4350</td>\n",
       "      <td>8019</td>\n",
       "      <td>20230720</td>\n",
       "      <td>1</td>\n",
       "      <td>nepal-crop-poly</td>\n",
       "      <td>2023-07-20</td>\n",
       "    </tr>\n",
       "    <tr>\n",
       "      <th>16</th>\n",
       "      <td>8819.273142</td>\n",
       "      <td>8364</td>\n",
       "      <td>9043</td>\n",
       "      <td>20230805</td>\n",
       "      <td>1</td>\n",
       "      <td>nepal-crop-poly</td>\n",
       "      <td>2023-08-05</td>\n",
       "    </tr>\n",
       "    <tr>\n",
       "      <th>17</th>\n",
       "      <td>8972.435463</td>\n",
       "      <td>8863</td>\n",
       "      <td>8999</td>\n",
       "      <td>20230821</td>\n",
       "      <td>1</td>\n",
       "      <td>nepal-crop-poly</td>\n",
       "      <td>2023-08-21</td>\n",
       "    </tr>\n",
       "    <tr>\n",
       "      <th>18</th>\n",
       "      <td>8140.659713</td>\n",
       "      <td>8076</td>\n",
       "      <td>8325</td>\n",
       "      <td>20230906</td>\n",
       "      <td>1</td>\n",
       "      <td>nepal-crop-poly</td>\n",
       "      <td>2023-09-06</td>\n",
       "    </tr>\n",
       "    <tr>\n",
       "      <th>19</th>\n",
       "      <td>6984.395046</td>\n",
       "      <td>6656</td>\n",
       "      <td>7264</td>\n",
       "      <td>20230922</td>\n",
       "      <td>1</td>\n",
       "      <td>nepal-crop-poly</td>\n",
       "      <td>2023-09-22</td>\n",
       "    </tr>\n",
       "    <tr>\n",
       "      <th>20</th>\n",
       "      <td>4677.729465</td>\n",
       "      <td>3792</td>\n",
       "      <td>5108</td>\n",
       "      <td>20231008</td>\n",
       "      <td>1</td>\n",
       "      <td>nepal-crop-poly</td>\n",
       "      <td>2023-10-08</td>\n",
       "    </tr>\n",
       "  </tbody>\n",
       "</table>\n",
       "</div>"
      ],
      "text/plain": [
       "      NDVI_mean  NDVI_min  NDVI_max  date_min  id             name       date\n",
       "0   5989.618644      4776      7516  20230101   1  nepal-crop-poly 2023-01-01\n",
       "3   5087.623207      4456      5986  20230109   1  nepal-crop-poly 2023-01-09\n",
       "1   6393.663625      5851      7210  20230117   1  nepal-crop-poly 2023-01-17\n",
       "4   7439.797914      7134      7748  20230125   1  nepal-crop-poly 2023-01-25\n",
       "2   7758.353325      7499      7895  20230202   1  nepal-crop-poly 2023-02-02\n",
       "5   7278.266623      6862      7752  20230210   1  nepal-crop-poly 2023-02-10\n",
       "6   6741.787484      6524      7110  20230226   1  nepal-crop-poly 2023-02-26\n",
       "7   6186.423729      6118      6358  20230314   1  nepal-crop-poly 2023-03-14\n",
       "8   3075.433507      2865      3519  20230330   1  nepal-crop-poly 2023-03-30\n",
       "9   2388.894394      2259      2826  20230415   1  nepal-crop-poly 2023-04-15\n",
       "10  2110.161017      2002      2400  20230501   1  nepal-crop-poly 2023-05-01\n",
       "11  1944.001304      1777      2469  20230517   1  nepal-crop-poly 2023-05-17\n",
       "12  1669.210561      1555      2291  20230602   1  nepal-crop-poly 2023-06-02\n",
       "13  2400.857236      2010      3191  20230618   1  nepal-crop-poly 2023-06-18\n",
       "14  6280.444589      6025      6650  20230704   1  nepal-crop-poly 2023-07-04\n",
       "15  7593.034550      4350      8019  20230720   1  nepal-crop-poly 2023-07-20\n",
       "16  8819.273142      8364      9043  20230805   1  nepal-crop-poly 2023-08-05\n",
       "17  8972.435463      8863      8999  20230821   1  nepal-crop-poly 2023-08-21\n",
       "18  8140.659713      8076      8325  20230906   1  nepal-crop-poly 2023-09-06\n",
       "19  6984.395046      6656      7264  20230922   1  nepal-crop-poly 2023-09-22\n",
       "20  4677.729465      3792      5108  20231008   1  nepal-crop-poly 2023-10-08"
      ]
     },
     "execution_count": 53,
     "metadata": {},
     "output_type": "execute_result"
    }
   ],
   "source": [
    "df['date']= pd.to_datetime(df['date_min'], format='%Y%m%d')\n",
    "df\n",
    "df_new = df.sort_values(by=['date'])\n",
    "df_new\n"
   ]
  },
  {
   "cell_type": "code",
   "execution_count": null,
   "id": "884dd1ea-d579-431c-a311-f02bb48300f9",
   "metadata": {},
   "outputs": [],
   "source": [
    "from scipy.signal import savgol_filter"
   ]
  },
  {
   "cell_type": "code",
   "execution_count": null,
   "id": "a92686ed-965f-4027-9b58-7501a8886709",
   "metadata": {},
   "outputs": [],
   "source": [
    "import plotly.graph_objects as go"
   ]
  },
  {
   "cell_type": "code",
   "execution_count": null,
   "id": "79df9b2f-3ea4-400b-a005-1bd833ae325c",
   "metadata": {},
   "outputs": [],
   "source": [
    "date = df_new['date'].tolist()\n",
    "min = savgol_filter(df_new['NDVI_min'].tolist(), 9,2)\n",
    "mean = savgol_filter(df_new['NDVI_mean'].tolist(), 9,2)\n",
    "max = savgol_filter(df_new['NDVI_max'].tolist(),9,2)"
   ]
  },
  {
   "cell_type": "code",
   "execution_count": null,
   "id": "9491e21b-4641-420f-99e5-183a8679d628",
   "metadata": {},
   "outputs": [],
   "source": [
    "# reference taken from following link\n",
    "# https://stackoverflow.com/a/61494764\n",
    "\n",
    "fig = go.Figure()\n",
    "# Create and style traces\n",
    "fig.add_trace(go.Scatter(x=date, y=min, name='Minimum NDVI',\n",
    "                         line=dict(color='firebrick', width=4)))\n",
    "fig.add_trace(go.Scatter(x=date, y=mean, name = 'Mean NDVI',\n",
    "                         line=dict(color='royalblue', width=4)))\n",
    "fig.add_trace(go.Scatter(x=date, y=max, name='Max NDVI',\n",
    "                         line=dict(color='firebrick', width=4) # dash options include 'dash', 'dot', and 'dashdot'\n",
    "))\n",
    "# Edit the layout\n",
    "fig.update_layout(title='Average High and Low Temperatures in New York',\n",
    "                   xaxis_title='Month',\n",
    "                   yaxis_title='Temperature (degrees F)')\n",
    "\n",
    "\n",
    "fig.show()"
   ]
  },
  {
   "cell_type": "code",
   "execution_count": null,
   "id": "51feb32f-8b4c-4e34-a8b5-2b267efb4f71",
   "metadata": {},
   "outputs": [],
   "source": []
  }
 ],
 "metadata": {
  "kernelspec": {
   "display_name": "Python 3",
   "language": "python",
   "name": "python3"
  },
  "language_info": {
   "codemirror_mode": {
    "name": "ipython",
    "version": 3
   },
   "file_extension": ".py",
   "mimetype": "text/x-python",
   "name": "python",
   "nbconvert_exporter": "python",
   "pygments_lexer": "ipython3",
   "version": "3.10.5"
  }
 },
 "nbformat": 4,
 "nbformat_minor": 5
}
