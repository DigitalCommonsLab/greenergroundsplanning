{
 "cells": [
  {
   "cell_type": "markdown",
   "metadata": {},
   "source": []
  },
  {
   "cell_type": "code",
   "execution_count": 53,
   "metadata": {},
   "outputs": [],
   "source": [
    "import numpy as np\n",
    "import matplotlib.pyplot as plt\n",
    "import seaborn as sns\n",
    "from sklearn.linear_model import LinearRegression, HuberRegressor\n",
    "from sklearn.ensemble import RandomForestClassifier, RandomForestRegressor\n",
    "from sklearn.svm import SVR, SVC\n",
    "from sklearn.model_selection import train_test_split\n",
    "from sklearn.metrics import (\n",
    "    mean_squared_error, r2_score, mean_absolute_error\n",
    ")\n",
    "import geopandas as gpd\n",
    "import libpysal as lp\n",
    "from spreg import OLS\n",
    "from sklearn.tree import DecisionTreeRegressor\n",
    "from sklearn.model_selection import GridSearchCV\n",
    "import geopy.distance\n",
    "import json\n",
    "\n",
    "def mean_absolute_percentage_error(y_true, y_pred):\n",
    "    return np.mean(np.abs((y_true - y_pred) / y_true)) * 100"
   ]
  },
  {
   "cell_type": "code",
   "execution_count": 54,
   "metadata": {},
   "outputs": [],
   "source": [
    "# Load the data \n",
    "#data = pd.read_csv('data_trees_modified.csv')\n",
    "trees = gpd.read_file('../data/geojson/geo_data_trees.geojson')\n",
    "\n",
    "# take just the first 1000 rows\n",
    "#trees = trees.iloc[:1000]\n",
    "# remove the last row of the data (summary)\n",
    "trees = trees.drop([len(trees)-1])"
   ]
  },
  {
   "cell_type": "code",
   "execution_count": 55,
   "metadata": {},
   "outputs": [],
   "source": [
    "trees['Total Annual Benefits (eur/yr)'] = trees['Total Annual Benefits (eur/yr)'].astype(float)\n",
    "#data['Carbon Storage (kg)'] = data['Carbon Storage (kg)'].astype(float)\n",
    "trees['DBH (cm)'] = trees['DBH (cm)'].astype(float)\n",
    "# create a new column with the index of the name of the tree (so all the trees with the same name will have the same index)\n",
    "trees['Name_id'] = trees['Name'].astype('category').cat.codes\n",
    "trees['Height (m)'] = trees['Height (m)'].astype(float)"
   ]
  },
  {
   "cell_type": "code",
   "execution_count": 56,
   "metadata": {},
   "outputs": [],
   "source": [
    "# # Select the dependent variable and independent variables\n",
    "# y = trees['Total Annual Benefits (eur/yr)'] # dependent\n",
    "# #X = data[['DBH (cm)', 'Name_id', 'Latitude', 'Longitude']] # independent\n",
    "# X = trees[['Name_id', 'DBH (cm)', 'Height (m)']] # independent\n",
    "\n",
    "# # Create a spatial weights matrix\n",
    "# w = lp.weights.DistanceBand.from_dataframe(trees, threshold=10, binary=True)\n",
    "\n",
    "# model = OLS(y.values.reshape(-1, 1), X.values, w=w, spat_diag=True)\n",
    "# print(model.summary)"
   ]
  },
  {
   "cell_type": "markdown",
   "metadata": {},
   "source": [
    "Latitude and Longitude are not relevant (even if we use them inside I-Tree Eco)"
   ]
  },
  {
   "cell_type": "code",
   "execution_count": 57,
   "metadata": {},
   "outputs": [
    {
     "name": "stdout",
     "output_type": "stream",
     "text": [
      "42.477860495627944\n",
      "0.6955191785526973\n"
     ]
    }
   ],
   "source": [
    "# split the data into training and validation sets\n",
    "# we are going to use the 'DBH (cm)', 'Name_id', 'Height (m)' columns as the features\n",
    "# and the 'Total Annual Benefits (eur/yr)' column as the target\n",
    "x_train, x_validation, y_train, y_validation = train_test_split(\n",
    "    trees[['Name_id', 'DBH (cm)', 'Height (m)']],\n",
    "    trees['Total Annual Benefits (eur/yr)'],\n",
    "    test_size=0.25,\n",
    ")\n",
    "\n",
    "regression = LinearRegression()\n",
    "regression.fit(\n",
    "    x_train,\n",
    "    y_train,\n",
    ")\n",
    "\n",
    "print(mean_absolute_percentage_error(y_train, regression.predict(x_train)))\n",
    "print(r2_score(y_train, regression.predict(x_train)))"
   ]
  },
  {
   "cell_type": "code",
   "execution_count": 58,
   "metadata": {},
   "outputs": [
    {
     "name": "stdout",
     "output_type": "stream",
     "text": [
      "1.194470385200143\n",
      "0.6925102810162806\n"
     ]
    },
    {
     "name": "stderr",
     "output_type": "stream",
     "text": [
      "/Users/luca/opt/anaconda3/envs/geo_env/lib/python3.10/site-packages/seaborn/distributions.py:2619: FutureWarning: `distplot` is a deprecated function and will be removed in a future version. Please adapt your code to use either `displot` (a figure-level function with similar flexibility) or `histplot` (an axes-level function for histograms).\n",
      "  warnings.warn(msg, FutureWarning)\n"
     ]
    },
    {
     "data": {
      "text/plain": [
       "<matplotlib.legend.Legend at 0x1956bc4f0>"
      ]
     },
     "execution_count": 58,
     "metadata": {},
     "output_type": "execute_result"
    },
    {
     "data": {
      "image/png": "[encoded data removed]",
      "text/plain": [
       "<Figure size 640x480 with 1 Axes>"
      ]
     },
     "metadata": {},
     "output_type": "display_data"
    }
   ],
   "source": [
    "def get_reg_Linear(trees_df):\n",
    "    x_train, x_validation, y_train, y_validation = train_test_split(\n",
    "        trees_df[['Name_id', 'DBH (cm)', 'Height (m)']],\n",
    "        trees_df['Total Annual Benefits (eur/yr)'],\n",
    "        test_size=0.2,\n",
    "    )\n",
    "\n",
    "    reg = LinearRegression()\n",
    "    reg.fit(\n",
    "        x_train,\n",
    "        y_train,\n",
    "    )\n",
    "    mean_abs_err = mean_absolute_error(y_train, reg.predict(x_train))\n",
    "    print(mean_abs_err)\n",
    "    \n",
    "    print(r2_score(y_validation, reg.predict(x_validation)))\n",
    "\n",
    "    return reg, x_train\n",
    "\n",
    "reg_o3, x_train = get_reg_Linear(trees)\n",
    "\n",
    "a1, a2, a3, b = reg_o3.coef_[0], reg_o3.coef_[1], reg_o3.coef_[2], reg_o3.intercept_\n",
    "\n",
    "fn = a1 * trees['Name_id'] + a2 * trees['DBH (cm)'] + a3 * trees['Height (m)'] + b\n",
    "\n",
    "sns.distplot(reg_o3.predict(x_train), kde=False, bins=50, color='r', label='predicted')\n",
    "sns.distplot(trees['Total Annual Benefits (eur/yr)'], kde=False, bins=50, color='g', label='real')\n",
    "plt.legend()\n"
   ]
  },
  {
   "cell_type": "code",
   "execution_count": 59,
   "metadata": {},
   "outputs": [
    {
     "name": "stdout",
     "output_type": "stream",
     "text": [
      "7.200852032207291e-15\n",
      "0.9982492875923077\n"
     ]
    },
    {
     "name": "stderr",
     "output_type": "stream",
     "text": [
      "/Users/luca/opt/anaconda3/envs/geo_env/lib/python3.10/site-packages/seaborn/distributions.py:2619: FutureWarning: `distplot` is a deprecated function and will be removed in a future version. Please adapt your code to use either `displot` (a figure-level function with similar flexibility) or `histplot` (an axes-level function for histograms).\n",
      "  warnings.warn(msg, FutureWarning)\n"
     ]
    },
    {
     "data": {
      "image/png": "[encoded data removed]",
      "text/plain": [
       "<Figure size 640x480 with 1 Axes>"
      ]
     },
     "metadata": {},
     "output_type": "display_data"
    }
   ],
   "source": [
    "def get_reg_DecisionTree(trees_df):\n",
    "    x_train, x_validation, y_train, y_validation = train_test_split(\n",
    "        trees_df[['Name_id', 'DBH (cm)', 'Height (m)']],\n",
    "        trees_df['Total Annual Benefits (eur/yr)'],\n",
    "        test_size=0.2,\n",
    "    )\n",
    "\n",
    "    reg = DecisionTreeRegressor()\n",
    "    reg.fit(\n",
    "        x_train,\n",
    "        y_train,\n",
    "    )\n",
    "    mean_abs_err = mean_absolute_error(y_train, reg.predict(x_train))\n",
    "    print(mean_abs_err)\n",
    "    \n",
    "    print(r2_score(y_validation, reg.predict(x_validation)))\n",
    "\n",
    "    sns.distplot(reg.predict(x_train), kde=False, bins=50, color='r', label='predicted')\n",
    "    sns.distplot(trees['Total Annual Benefits (eur/yr)'], kde=False, bins=50, color='g', label='real')\n",
    "    plt.legend()\n",
    "\n",
    "    return reg, x_train\n",
    "\n",
    "reg_o3, x_train = get_reg_DecisionTree(trees)"
   ]
  },
  {
   "cell_type": "markdown",
   "metadata": {},
   "source": [
    "The decision tree regression model may be a good fit for the trees Dataframe brcause it is able to capture nonlinear relationships, feature interactions, and important variables, while being robust to outliers."
   ]
  },
  {
   "cell_type": "code",
   "execution_count": 60,
   "metadata": {},
   "outputs": [
    {
     "name": "stdout",
     "output_type": "stream",
     "text": [
      "0.004624268958519781\n",
      "0.9976661568582155\n"
     ]
    },
    {
     "name": "stderr",
     "output_type": "stream",
     "text": [
      "/Users/luca/opt/anaconda3/envs/geo_env/lib/python3.10/site-packages/seaborn/distributions.py:2619: FutureWarning: `distplot` is a deprecated function and will be removed in a future version. Please adapt your code to use either `displot` (a figure-level function with similar flexibility) or `histplot` (an axes-level function for histograms).\n",
      "  warnings.warn(msg, FutureWarning)\n"
     ]
    },
    {
     "data": {
      "image/png": "[encoded data removed]",
      "text/plain": [
       "<Figure size 640x480 with 1 Axes>"
      ]
     },
     "metadata": {},
     "output_type": "display_data"
    }
   ],
   "source": [
    "def get_reg_RandomForest(trees_df):\n",
    "    x_train, x_validation, y_train, y_validation = train_test_split(\n",
    "        trees_df[['Name_id', 'DBH (cm)', 'Height (m)']],\n",
    "        trees_df['Total Annual Benefits (eur/yr)'],\n",
    "        test_size=0.2,\n",
    "    )\n",
    "\n",
    "    reg = RandomForestRegressor()\n",
    "    reg.fit(\n",
    "        x_train,\n",
    "        y_train,\n",
    "    )\n",
    "    mean_abs_err = mean_absolute_error(y_train, reg.predict(x_train))\n",
    "    print(mean_abs_err)\n",
    "    \n",
    "    print(r2_score(y_validation, reg.predict(x_validation)))\n",
    "\n",
    "    sns.distplot(reg.predict(x_train), kde=False, bins=50, color='r', label='predicted')\n",
    "    sns.distplot(trees['Total Annual Benefits (eur/yr)'], kde=False, bins=50, color='g', label='real')\n",
    "    plt.legend()\n",
    "\n",
    "    return reg, x_train\n",
    "\n",
    "reg_o3, x_train = get_reg_RandomForest(trees)"
   ]
  },
  {
   "cell_type": "markdown",
   "metadata": {},
   "source": [
    "# Considerations\n",
    "\n",
    "Maybe we can think that Spatial Regression is not good in our case because \"trees\" are non influenced by their neighbors. For example we can imagine that the fact that a olm is surrounded by trees of other species does not influence its Total Annual Benefit, even if the other trees are of the same species, have the same DBH, etc.\n",
    "\n",
    "Maybe Linear regression and other regressions are good because there is very little difference between total annual benefit of trees of the same species, same DBH, etc. and the difference is not influenced by the other trees."
   ]
  },
  {
   "cell_type": "markdown",
   "metadata": {},
   "source": [
    "# Best tree model"
   ]
  },
  {
   "cell_type": "code",
   "execution_count": 61,
   "metadata": {},
   "outputs": [],
   "source": [
    "# Load the data \n",
    "trees = gpd.read_file('../data/geojson/geo_data_trees.geojson')\n",
    "\n",
    "# ACTIVATE IF WANT TO WORK WITH A SAMPLE OF THE DATA\n",
    "# take just the first 1000 rows\n",
    "#trees = trees.iloc[:1000]\n",
    "# remove the last row of the data (summary)\n",
    "trees = trees.drop([len(trees)-1])\n",
    "\n",
    "trees['Name_id'] = trees['Name'].astype('category').cat.codes"
   ]
  },
  {
   "cell_type": "code",
   "execution_count": 62,
   "metadata": {},
   "outputs": [
    {
     "name": "stdout",
     "output_type": "stream",
     "text": [
      "Suggested tree: Sycamore maple\n"
     ]
    }
   ],
   "source": [
    "# Define a function to suggest the best tree to plant at a given location\n",
    "def suggest_tree(trees, latitude, longitude):\n",
    "    # Find the trees in a distance of 3 meters\n",
    "    trees['Distance'] = trees.apply(\n",
    "        lambda row: geopy.distance.distance((latitude, longitude), (row['Latitude'], row['Longitude'])).meters,\n",
    "        axis=1\n",
    "    )\n",
    "    #trees = trees[trees['Distance'] <= 3]\n",
    "    # Select the trees with the highest benefits\n",
    "    trees = trees.sort_values(by=['Total Annual Benefits (eur/yr)'], ascending=False)\n",
    "    \n",
    "    if (len(trees[trees['Distance'] <= 3]) > 0):\n",
    "        \n",
    "        # if there is a Oak as first suggestion, take the first tree that is not an Oak\n",
    "        if(trees[trees['Distance'] <= 3].iloc[0]['Name'] == 'Oak'):\n",
    "            trees = trees[trees['Name'] != 'Olm']\n",
    "\n",
    "        # Return the name of the tree with the highest benefits\n",
    "        return trees.iloc[0]['Name']\n",
    "    else:\n",
    "        return trees.iloc[0]['Name']\n",
    "\n",
    "# Test the function\n",
    "latitude = 44.4949\n",
    "longitude = 11.3426\n",
    "suggested_tree = suggest_tree(trees, latitude, longitude)\n",
    "print('Suggested tree:', suggested_tree)"
   ]
  },
  {
   "cell_type": "markdown",
   "metadata": {},
   "source": [
    "# Madrid file suggestions:\n",
    "It advises against planting trees too close to buildings or in areas with insufficient sidewalk width for pedestrians to pass by safely.\n",
    "It also recommends avoiding species with characteristics that could be problematic, such as excessive leaf drop or thorns"
   ]
  },
  {
   "cell_type": "code",
   "execution_count": 63,
   "metadata": {},
   "outputs": [
    {
     "name": "stdout",
     "output_type": "stream",
     "text": [
      "total_benefits: [6330.040000000001, 7203.71, 8145.93, 7026.6900000000005, 8144.810000000001, 475.41, 1160.24, 5304.4400000000005, 5987.72, 8707.73, 116.58999999999999, 6916.08, 4307.46, 615.7500000000001, 5087.99, 2802.31, 6846.389999999999, 190.58999999999997, 3131.9700000000003, 6328.83, 153.58999999999995, 4362.120000000001, 1624.27, 5037.11, 1497.19, 405.30999999999995, 1651.52, 4830.07, 17521.41, 5599.27, 9240.17, 288.19, 1320.47, 1346.06, 104.71999999999998, 3288.44, 5120.03, 4019.67, 304.07, 646.5999999999999, 7025.710000000001, 4898.96, 1631.81, 5001.92, 434.83, 9767.170000000002, 352.85, 3178.55, 9478.900000000001, 798.0600000000001, 11663.77, 6270.32, 2012.3000000000002, 4349.42, 0.0, 2101.99, 2283.38, 2189.83, 1971.03, 295.2499999999999, 2302.8599999999997, 0.0, 206.42, 800.0000000000001, 1248.1799999999998, 3820.0899999999997, 535.9, 1271.42, 4860.7300000000005, 2161.7400000000002, 1726.75, 3270.86, 2269.38, 406.1, 4341.0, 4629.44, 43.290000000000006, 3385.4200000000005, 1286.24, 4073.65, 7789.1, 3918.51, 2304.1600000000003, 3004.3499999999995, 3203.2700000000004, 5821.76, 2076.1900000000005, 1968.19, 1694.6999999999998, 4284.02]\n",
      "total_benefits_proportion: [{'name': 'TRIUMVIRATO-PIETRA', 'total_benefits': 6330.040000000001, 'proportion': 575.4581818181819}, {'name': 'CASTELDEBOLE', 'total_benefits': 7203.71, 'proportion': 654.8827272727273}, {'name': 'BATTINDARNO', 'total_benefits': 8145.93, 'proportion': 740.539090909091}, {'name': 'SAN SAVINO', 'total_benefits': 7026.6900000000005, 'proportion': 585.5575}, {'name': 'CROCE COPERTA', 'total_benefits': 8144.810000000001, 'proportion': 678.7341666666667}, {'name': 'LUNGO RENO', 'total_benefits': 475.41, 'proportion': 43.21909090909091}, {'name': 'OSPEDALE BELLARIA', 'total_benefits': 1160.24, 'proportion': 72.515}, {'name': 'MEZZOFANTI', 'total_benefits': 5304.4400000000005, 'proportion': 353.62933333333336}, {'name': 'PESCAROLA', 'total_benefits': 5987.72, 'proportion': 498.9766666666667}, {'name': 'BEVERARA', 'total_benefits': 8707.73, 'proportion': 725.6441666666666}, {'name': 'MALPIGHI-1', 'total_benefits': 116.58999999999999, 'proportion': 8.968461538461538}, {'name': 'STADIO-MELONCELLO', 'total_benefits': 6916.08, 'proportion': 532.0061538461539}, {'name': 'CASERME ROSSE-MANIFATTURA', 'total_benefits': 4307.46, 'proportion': 358.955}, {'name': 'CNR', 'total_benefits': 615.7500000000001, 'proportion': 51.31250000000001}, {'name': 'ARCOVEGGIO', 'total_benefits': 5087.99, 'proportion': 423.99916666666667}, {'name': 'VIA FERRARESE', 'total_benefits': 2802.31, 'proportion': 233.52583333333334}, {'name': \"PIAZZA DELL'UNITA'\", 'total_benefits': 6846.389999999999, 'proportion': 570.5324999999999}, {'name': 'BARGELLINO', 'total_benefits': 190.58999999999997, 'proportion': 17.326363636363634}, {'name': 'EMILIA PONENTE', 'total_benefits': 3131.9700000000003, 'proportion': 284.7245454545455}, {'name': 'ROVERI', 'total_benefits': 6328.83, 'proportion': 452.0592857142857}, {'name': \"OSPEDALE SANT'ORSOLA\", 'total_benefits': 153.58999999999995, 'proportion': 10.970714285714282}, {'name': 'MENGOLI', 'total_benefits': 4362.120000000001, 'proportion': 311.58000000000004}, {'name': 'GUELFA', 'total_benefits': 1624.27, 'proportion': 116.01928571428572}, {'name': 'CROCE DEL BIACCO', 'total_benefits': 5037.11, 'proportion': 359.7935714285714}, {'name': 'PRATI DI CAPRARA-OSPEDALE MAGGIORE', 'total_benefits': 1497.19, 'proportion': 115.16846153846154}, {'name': 'SCALO RAVONE', 'total_benefits': 405.30999999999995, 'proportion': 31.177692307692304}, {'name': 'VIA VITTORIO VENETO', 'total_benefits': 1651.52, 'proportion': 127.03999999999999}, {'name': 'AGUCCHI', 'total_benefits': 4830.07, 'proportion': 439.0972727272727}, {'name': 'PILASTRO', 'total_benefits': 17521.41, 'proportion': 1251.5292857142856}, {'name': 'VIA DEL LAVORO', 'total_benefits': 5599.27, 'proportion': 399.9478571428572}, {'name': 'FOSSOLO', 'total_benefits': 9240.17, 'proportion': 577.510625}, {'name': 'LUNGO SAVENA', 'total_benefits': 288.19, 'proportion': 18.011875}, {'name': 'PONTEVECCHIO', 'total_benefits': 1320.47, 'proportion': 82.529375}, {'name': 'CADRIANO-CALAMOSCO', 'total_benefits': 1346.06, 'proportion': 96.14714285714285}, {'name': 'GALVANI-1', 'total_benefits': 104.71999999999998, 'proportion': 6.981333333333333}, {'name': 'GALVANI-2', 'total_benefits': 3288.44, 'proportion': 219.22933333333333}, {'name': 'DUCATI-VILLAGGIO INA', 'total_benefits': 5120.03, 'proportion': 465.4572727272727}, {'name': 'BORGO CENTRO', 'total_benefits': 4019.67, 'proportion': 365.42454545454547}, {'name': 'MULINO DEL GOMITO', 'total_benefits': 304.07, 'proportion': 25.339166666666667}, {'name': 'OSSERVANZA', 'total_benefits': 646.5999999999999, 'proportion': 43.10666666666666}, {'name': 'VILLAGGIO DELLA BARCA', 'total_benefits': 7025.710000000001, 'proportion': 638.7009090909091}, {'name': 'SAN MICHELE IN BOSCO', 'total_benefits': 4898.96, 'proportion': 326.5973333333333}, {'name': 'PADERNO', 'total_benefits': 1631.81, 'proportion': 108.78733333333334}, {'name': 'SAVENA ABBANDONATO', 'total_benefits': 5001.92, 'proportion': 416.82666666666665}, {'name': 'AEROPORTO', 'total_benefits': 434.83, 'proportion': 39.53}, {'name': 'GIARDINI MARGHERITA', 'total_benefits': 9767.170000000002, 'proportion': 651.1446666666668}, {'name': 'LAZZARETTO', 'total_benefits': 352.85, 'proportion': 29.40416666666667}, {'name': 'MONTE DONATO', 'total_benefits': 3178.55, 'proportion': 198.659375}, {'name': 'CANALE DI RENO', 'total_benefits': 9478.900000000001, 'proportion': 861.718181818182}, {'name': 'LAVINO DI MEZZO', 'total_benefits': 798.0600000000001, 'proportion': 72.5509090909091}, {'name': 'VIA ARNO', 'total_benefits': 11663.77, 'proportion': 728.985625}, {'name': 'CIRENAICA', 'total_benefits': 6270.32, 'proportion': 447.88}, {'name': 'LA DOZZA', 'total_benefits': 2012.3000000000002, 'proportion': 167.6916666666667}, {'name': 'SAN GIUSEPPE', 'total_benefits': 4349.42, 'proportion': 334.57076923076926}, {'name': 'VIA DEL GENIO', 'total_benefits': 0.0, 'proportion': 0.0}, {'name': 'SAN LUCA', 'total_benefits': 2101.99, 'proportion': 161.69153846153844}, {'name': 'VELODROMO', 'total_benefits': 2283.38, 'proportion': 175.6446153846154}, {'name': 'MICHELINO', 'total_benefits': 2189.83, 'proportion': 156.41642857142855}, {'name': 'VIA TOSCANA', 'total_benefits': 1971.03, 'proportion': 123.189375}, {'name': 'PONTE SAVENA-LA BASTIA', 'total_benefits': 295.2499999999999, 'proportion': 18.453124999999993}, {'name': 'VIA MONDO', 'total_benefits': 2302.8599999999997, 'proportion': 164.48999999999998}, {'name': 'SCALO MERCI SAN DONATO', 'total_benefits': 0.0, 'proportion': 0.0}, {'name': 'IRNERIO-1', 'total_benefits': 206.42, 'proportion': 13.761333333333333}, {'name': 'LAGHETTI DEL ROSARIO', 'total_benefits': 800.0000000000001, 'proportion': 66.66666666666667}, {'name': 'RIGOSA', 'total_benefits': 1248.1799999999998, 'proportion': 113.47090909090907}, {'name': 'MARCONI-2', 'total_benefits': 3820.0899999999997, 'proportion': 293.8530769230769}, {'name': 'LA BIRRA', 'total_benefits': 535.9, 'proportion': 48.71818181818182}, {'name': 'SIEPELUNGA', 'total_benefits': 1271.42, 'proportion': 84.76133333333334}, {'name': 'DAGNINI', 'total_benefits': 4860.7300000000005, 'proportion': 324.0486666666667}, {'name': 'MALPIGHI-2', 'total_benefits': 2161.7400000000002, 'proportion': 166.28769230769234}, {'name': 'CHIESANUOVA', 'total_benefits': 1726.75, 'proportion': 115.11666666666666}, {'name': 'XXI APRILE', 'total_benefits': 3270.86, 'proportion': 251.60461538461539}, {'name': 'EX MERCATO ORTOFRUTTICOLO', 'total_benefits': 2269.38, 'proportion': 189.115}, {'name': 'VIA DEL VIVAIO', 'total_benefits': 406.1, 'proportion': 36.91818181818182}, {'name': 'SCANDELLARA', 'total_benefits': 4341.0, 'proportion': 310.07142857142856}, {'name': 'VIA LARGA', 'total_benefits': 4629.44, 'proportion': 330.6742857142857}, {'name': 'MARCONI-1', 'total_benefits': 43.290000000000006, 'proportion': 3.3300000000000005}, {'name': 'RAVONE', 'total_benefits': 3385.4200000000005, 'proportion': 260.4169230769231}, {'name': 'STRADELLI GUELFI', 'total_benefits': 1286.24, 'proportion': 91.87428571428572}, {'name': 'ZANARDI', 'total_benefits': 4073.65, 'proportion': 313.35769230769233}, {'name': 'CORELLI', 'total_benefits': 7789.1, 'proportion': 486.81875}, {'name': 'SAN DONNINO', 'total_benefits': 3918.51, 'proportion': 279.8935714285714}, {'name': 'CAAB', 'total_benefits': 2304.1600000000003, 'proportion': 164.58285714285716}, {'name': 'DUE MADONNE', 'total_benefits': 3004.3499999999995, 'proportion': 187.77187499999997}, {'name': 'FIERA', 'total_benefits': 3203.2700000000004, 'proportion': 228.80500000000004}, {'name': 'IRNERIO-2', 'total_benefits': 5821.76, 'proportion': 388.11733333333336}, {'name': 'LA NOCE', 'total_benefits': 2076.1900000000005, 'proportion': 173.01583333333338}, {'name': 'TIRO A SEGNO', 'total_benefits': 1968.19, 'proportion': 164.01583333333335}, {'name': 'BITONE', 'total_benefits': 1694.6999999999998, 'proportion': 105.91874999999999}, {'name': 'CAVEDONE', 'total_benefits': 4284.02, 'proportion': 267.75125}]\n"
     ]
    }
   ],
   "source": [
    "# now we want to find the places, that have the highest need for trees\n",
    "\n",
    "# Load the data of the circoscrizioni\n",
    "circoscrizioni = gpd.read_file('../data/geojson/circoscrizioni.geojson')\n",
    "\n",
    "# find the trees within each circoscrizione\n",
    "trees_within_circoscrizioni = []\n",
    "for circoscrizione in circoscrizioni['nome']:\n",
    "    area = circoscrizioni[circoscrizioni['nome'] == circoscrizione]\n",
    "    trees_within_circoscrizioni.append(\n",
    "        trees[trees.geometry.within(area.iloc[0].geometry)]\n",
    "    )\n",
    "\n",
    "# calculate the total benefits for each circoscrizione\n",
    "total_benefits = []\n",
    "for trees_within_circoscrizione in trees_within_circoscrizioni:\n",
    "    total_benefits.append(\n",
    "        trees_within_circoscrizione['Total Annual Benefits (eur/yr)'].astype(float).sum()\n",
    "    )\n",
    "\n",
    "print('total_benefits:', total_benefits)\n",
    "\n",
    "# calculate the proportion of the total benefits for each circoscrizione, based on the area\n",
    "total_benefits_proportion = []\n",
    "for i in range(len(total_benefits)):\n",
    "    total_benefits_proportion.append(\n",
    "        {\n",
    "            'name': circoscrizioni.iloc[i]['nome'],\n",
    "            'total_benefits': total_benefits[i],\n",
    "            # the proportion is the total benefits divided by the area of the circoscrizione\n",
    "            'proportion': float(total_benefits[i]) / float(circoscrizioni.iloc[i]['area'])\n",
    "        }   \n",
    "    )\n",
    "print('total_benefits_proportion:', total_benefits_proportion)"
   ]
  },
  {
   "cell_type": "code",
   "execution_count": 64,
   "metadata": {},
   "outputs": [
    {
     "name": "stdout",
     "output_type": "stream",
     "text": [
      "results 6299\n"
     ]
    }
   ],
   "source": [
    "# GET STREETS FROM OPENSTREETMAP\n",
    "\n",
    "import overpy\n",
    "\n",
    "# Define the bounding box (replace with coordinates for your city)\n",
    "bbox = ( 44.455494, 11.280470,44.553484 , 11.422880)  # (min lat, min lon, max lat, max lon)\n",
    "\n",
    "# Initialize the Overpass API\n",
    "api = overpy.Overpass()\n",
    "\n",
    "# Query for streets within the bounding box\n",
    "query = f\"\"\"\n",
    "way[\"highway\"~\"motorway|primary|secondary|tertiary|residential\"]\n",
    "({bbox[0]},{bbox[1]},{bbox[2]},{bbox[3]});\n",
    "(._;>;);\n",
    "out body;\n",
    "\"\"\"\n",
    "\n",
    "result = api.query(query)\n",
    "\n",
    "print('results', len(result.ways))"
   ]
  },
  {
   "cell_type": "code",
   "execution_count": 65,
   "metadata": {},
   "outputs": [
    {
     "name": "stderr",
     "output_type": "stream",
     "text": [
      "/var/folders/j8/fjrnp8w15sbf5q2fdgnpb0br0000gn/T/ipykernel_10784/119976543.py:21: RuntimeWarning: invalid value encountered in double_scalars\n",
      "  total_benefits_proportion_parks = total_benefits_park / park_area\n"
     ]
    },
    {
     "data": {
      "text/plain": [
       "{'id': 'way/235823928',\n",
       " 'name': 'Parco Villa Aldini',\n",
       " 'proportion': 737016.9379012489}"
      ]
     },
     "execution_count": 65,
     "metadata": {},
     "output_type": "execute_result"
    }
   ],
   "source": [
    "# Load the data of the parks in Bologna, from OpenStreetMap\n",
    "parks = gpd.read_file('../data/geojson/parks_in_bologna.geojson')\n",
    "\n",
    "# Let's find the trees that are placed in a park in Bologna\n",
    "trees_in_parks = gpd.sjoin(trees, parks, predicate='within')\n",
    "\n",
    "#plot the trees in parks\n",
    "#trees_in_parks.explore()\n",
    "total_benefits_parks = []\n",
    "\n",
    "# Create a GeoDataFrame for parks once\n",
    "parks_gdf = gpd.GeoDataFrame(parks[['id', 'geometry']], crs=trees.crs)\n",
    "\n",
    "for park_id, park_geometry in parks_gdf[['id', 'geometry']].values:\n",
    "    # Find the trees within the park\n",
    "    trees_in_park = trees[trees.geometry.within(park_geometry)]\n",
    "    # Calculate the total benefits of the trees within the park\n",
    "    total_benefits_park = trees_in_park['Total Annual Benefits (eur/yr)'].astype(float).sum()\n",
    "    # Calculate the proportion of the total benefits\n",
    "    park_area = park_geometry.area\n",
    "    total_benefits_proportion_parks = total_benefits_park / park_area\n",
    "    # Append the name of the park and the total benefits proportion to the list\n",
    "    total_benefits_parks.append({\n",
    "        'id': park_id,\n",
    "        'name': parks[parks['id'] == park_id]['name'].values[0],\n",
    "        'proportion': total_benefits_proportion_parks\n",
    "    })\n",
    "\n",
    "# drop the ones with proportion 0\n",
    "total_benefits_parks = [park for park in total_benefits_parks if park['proportion'] > 0]\n",
    "\n",
    "# Find the park with the lowest proportion\n",
    "park_with_lowest_proportion = min(total_benefits_parks, key=lambda x: x['proportion'])\n",
    "park_with_lowest_proportion"
   ]
  },
  {
   "cell_type": "code",
   "execution_count": 66,
   "metadata": {},
   "outputs": [],
   "source": [
    "# Load the data of the schools in Bologna, from OpenStreetMap\n",
    "schools = gpd.read_file('../data/geojson/schools_in_bologna.geojson')\n",
    "\n",
    "# Create a GeoDataFrame for parks once\n",
    "schools_gdf = gpd.GeoDataFrame(schools[['id', 'geometry']], crs=trees.crs)"
   ]
  },
  {
   "cell_type": "code",
   "execution_count": 67,
   "metadata": {},
   "outputs": [],
   "source": [
    "# Load the data of the parking lots in Bologna, from OpenStreetMap\n",
    "parking_lots = gpd.read_file('../data/geojson/parking_lots_in_bologna.geojson')\n",
    "\n",
    "# Create a GeoDataFrame for parks once\n",
    "parking_lots_gdf = gpd.GeoDataFrame(parking_lots[['id', 'geometry']], crs=trees.crs)"
   ]
  },
  {
   "cell_type": "code",
   "execution_count": 68,
   "metadata": {},
   "outputs": [
    {
     "name": "stdout",
     "output_type": "stream",
     "text": [
      "('VIA DEL GENIO', 6357.26751656043)\n",
      "('MARCONI-1', 1764.7354242058705)\n"
     ]
    }
   ],
   "source": [
    "# Read the json file NDVI_circoscrizioni.json\n",
    "\n",
    "with open('../data/NDVI_circoscrizioni.json') as f:\n",
    "    NDVI_circoscrizioni = json.load(f)\n",
    "\n",
    "# print the max NDVI, it is saved like this: 'TRIUMVIRATO-PIETRA': 4405.094891509561,\n",
    "max_ndvi = max(NDVI_circoscrizioni.items(), key=lambda x: x[1])\n",
    "min_ndvi = min(NDVI_circoscrizioni.items(), key=lambda x: x[1])\n",
    "print(max_ndvi)\n",
    "print(min_ndvi)"
   ]
  },
  {
   "cell_type": "code",
   "execution_count": 69,
   "metadata": {},
   "outputs": [],
   "source": [
    "from shapely.geometry import LineString\n",
    "\n",
    "def suggest_tree_circoscrizione(circoscrizione_gdf, trees):\n",
    "    # Find the circoscrizione in the circoscrizioni GeoDataFrame\n",
    "    circoscrizioni_current = circoscrizioni[circoscrizioni['nome'] == circoscrizione_gdf['name']]\n",
    "    if(circoscrizioni_current.iloc[0]['nome'] == 'MARCONI-1'):\n",
    "        print('MARCONI-1')\n",
    "\n",
    "    trees_within_circoscrizione = gpd.sjoin(trees, circoscrizioni_current, predicate='within')\n",
    "\n",
    "\n",
    "    if len(trees_within_circoscrizione) == 0:\n",
    "        if(circoscrizioni_current.iloc[0]['nome'] == 'MARCONI-1'):\n",
    "            print('trees_within_circoscrizione', len(trees_within_circoscrizione))\n",
    "        schools_within_circoscrizione = gpd.sjoin(schools, circoscrizioni_current, predicate='within')\n",
    "        if len(schools_within_circoscrizione) > 0:\n",
    "            # Select a random school and place the tree near it\n",
    "            random_school = schools_within_circoscrizione.sample()\n",
    "            suggested_position = {\n",
    "                'x': random_school.iloc[0].geometry.centroid.x - 0.00005,\n",
    "                'y': random_school.iloc[0].geometry.centroid.y\n",
    "            }\n",
    "            return trees.sort_values(by=['Total Annual Benefits (eur/yr)'], ascending=False).iloc[0]['Name'], suggested_position\n",
    "        else:\n",
    "            parking_lots_within_circoscrizione = gpd.sjoin(parking_lots, circoscrizioni_current, predicate='within')\n",
    "            if len(parking_lots_within_circoscrizione) > 0:\n",
    "                # Select a random parking lot and place the tree near it (random_parking_lot.iloc[0].geometry is a Polygon)\n",
    "                random_parking_lot = parking_lots_within_circoscrizione.sample()\n",
    "                suggested_position = {\n",
    "                    'x': random_parking_lot.iloc[0].geometry.centroid.x - 0.00005,\n",
    "                    'y': random_parking_lot.iloc[0].geometry.centroid.y\n",
    "                }\n",
    "                return trees.sort_values(by=['Total Annual Benefits (eur/yr)'], ascending=False).iloc[0]['Name'], suggested_position\n",
    "            else:\n",
    "                suggested_position = {\n",
    "                    'x': circoscrizioni_current.total_bounds[0] + (circoscrizioni_current.total_bounds[2] - circoscrizioni_current.total_bounds[0]) * np.random.random(),\n",
    "                    'y': circoscrizioni_current.total_bounds[1] + (circoscrizioni_current.total_bounds[3] - circoscrizioni_current.total_bounds[1]) * np.random.random()\n",
    "                }\n",
    "                return trees.sort_values(by=['Total Annual Benefits (eur/yr)'], ascending=False).iloc[0]['Name'], suggested_position\n",
    "        \n",
    "    else: \n",
    "        if(circoscrizioni_current.iloc[0]['nome'] == 'MARCONI-1'):\n",
    "            print('More', len(trees_within_circoscrizione))\n",
    "        # check if there are some parks in the circoscrizione\n",
    "        parks_within_circoscrizione = gpd.sjoin(parks_gdf, circoscrizioni_current, predicate='within')\n",
    "        # if there are some parks in the circoscrizione and their total benefits proportion is lower that the average, we wanto to plant a tree in the park with the lowest proportion\n",
    "        if len(parks_within_circoscrizione) > 0:\n",
    "            print ('parks_within_circoscrizione', parks_within_circoscrizione['id'])\n",
    "            # Calculate the average of the total benefits proportion\n",
    "            total_benefits_proportion_average = sum([park['proportion'] for park in total_benefits_parks]) / len(total_benefits_parks)\n",
    "            # Find the parks with a total benefits proportion lower than the average\n",
    "            parks_with_low_proportion = [park for park in total_benefits_parks if park['proportion'] < total_benefits_proportion_average and park['id'] in parks_within_circoscrizione['id'].tolist()]\n",
    "            #parks_with_low_proportion = [park for park in total_benefits_parks if park['proportion'] < total_benefits_proportion_average]\n",
    "            # Find the park with the lowest proportion\n",
    "            print ('parks_with_low_proportion', len(parks_with_low_proportion))\n",
    "            if(len(parks_with_low_proportion) != 0) :\n",
    "\n",
    "                park_with_lowest_proportion = min(parks_with_low_proportion, key=lambda x: x['proportion'])\n",
    "                \n",
    "                # Find the geometry of the park with the lowest proportion\n",
    "                park_with_lowest_proportion_geometry = parks_gdf[parks_gdf['id'] == parks[parks['name'] == park_with_lowest_proportion['name']]['id'].values[0]].iloc[0].geometry\n",
    "                # Find the trees within the park with the lowest proportion\n",
    "                trees_within_park_with_lowest_proportion = trees[trees.geometry.within(park_with_lowest_proportion_geometry)]\n",
    "                #trees_within_park_with_lowest_proportion = trees_within_circoscrizione[trees_within_circoscrizione.geometry.within(park_with_lowest_proportion_geometry)]\n",
    "                # Find the tree with the highest benefits within the park with the lowest proportion\n",
    "                suggested_tree = trees_within_park_with_lowest_proportion.sort_values(by=['Total Annual Benefits (eur/yr)'], ascending=False).iloc[0]['Name']\n",
    "                # Suggest a position near the tree with the highest benefits within the park with the lowest proportion\n",
    "                suggested_position = {\n",
    "                    'x': trees_within_park_with_lowest_proportion.sort_values(by=['Total Annual Benefits (eur/yr)'],\n",
    "                                                                                ascending=False).iloc[0].geometry.x - 0.00005,\n",
    "                    'y': trees_within_park_with_lowest_proportion.sort_values(by=['Total Annual Benefits (eur/yr)'],\n",
    "                                                                                ascending=False).iloc[0].geometry.y\n",
    "                }\n",
    "                return suggested_tree, suggested_position\n",
    "        schools_within_circoscrizione = gpd.sjoin(schools, circoscrizioni_current, predicate='within')\n",
    "        if len(schools_within_circoscrizione) > 0:\n",
    "            if(circoscrizioni_current.iloc[0]['nome'] == 'MARCONI-1'):\n",
    "                print('More_2', len(schools_within_circoscrizione))\n",
    "            # Select a random school and place the tree near it\n",
    "            random_school = schools_within_circoscrizione.sample()\n",
    "            suggested_position = {\n",
    "                'x': random_school.iloc[0].geometry.centroid.x - 0.00005,\n",
    "                'y': random_school.iloc[0].geometry.centroid.y\n",
    "            }\n",
    "            return trees.sort_values(by=['Total Annual Benefits (eur/yr)'], ascending=False).iloc[0]['Name'], suggested_position\n",
    "        else:\n",
    "            parking_lots_within_circoscrizione = gpd.sjoin(parking_lots, circoscrizioni_current, predicate='within')\n",
    "            if len(parking_lots_within_circoscrizione) > 0:\n",
    "                if(circoscrizioni_current.iloc[0]['nome'] == 'MARCONI-1'):\n",
    "                    print('More_3', len(parking_lots_within_circoscrizione))\n",
    "                # Select a random parking lot and place the tree near it (random_parking_lot.iloc[0].geometry is a Polygon)\n",
    "                random_parking_lot = parking_lots_within_circoscrizione.sample()\n",
    "                suggested_position = {\n",
    "                    'x': random_parking_lot.iloc[0].geometry.centroid.x - 0.00005,\n",
    "                    'y': random_parking_lot.iloc[0].geometry.centroid.y\n",
    "                }\n",
    "                return trees.sort_values(by=['Total Annual Benefits (eur/yr)'], ascending=False).iloc[0]['Name'], suggested_position\n",
    "            else:\n",
    "                # Find the tree with the highest benefits\n",
    "                suggested_tree = trees_within_circoscrizione.sort_values(by=['Total Annual Benefits (eur/yr)'], ascending=False).iloc[0]['Name']\n",
    "\n",
    "                # take a random tree in the circoscrizione\n",
    "                random_tree = trees_within_circoscrizione.sample()\n",
    "\n",
    "                # Suggest a position near the random tree, the geometry is a Point, put the new tree 5 m ovest of the random tree\n",
    "                suggested_position = {\n",
    "                    'x': random_tree.iloc[0].geometry.x - 0.00005,\n",
    "                    'y': random_tree.iloc[0].geometry.y\n",
    "                }\n",
    "                \n",
    "                return suggested_tree, suggested_position\n",
    "\n",
    "    if 0 == 0:\n",
    "        # Find a suitable location along the streets\n",
    "        bbox = circoscrizioni_current.total_bounds\n",
    "        query = f\"\"\"\n",
    "        way[\"highway\"~\"motorway|primary|secondary|tertiary|residential\"]\n",
    "        ({bbox[1]},{bbox[0]},{bbox[3]},{bbox[2]});\n",
    "        (._;>;);\n",
    "        out body;\n",
    "        \"\"\"\n",
    "        result = api.query(query)\n",
    "\n",
    "        # Convert the ways to LineString geometries\n",
    "        street_geometries = [LineString([(float(node.lon), float(node.lat)) for node in way.nodes]) for way in result.ways]\n",
    "\n",
    "        print('street_geometries', street_geometries)\n",
    "\n",
    "        # Find streets within the circoscrizione\n",
    "        #trees_within_circoscrizione = gpd.sjoin(trees, circoscrizioni_current, predicate='within')\n",
    "        # Change the CRS of the street geometries to the same as the circoscrizione\n",
    "        street_geometries = gpd.GeoDataFrame(geometry=street_geometries)\n",
    "        street_geometries.crs = 'EPSG:4326'\n",
    "        street_geometries = street_geometries.to_crs(circoscrizioni_current.crs)\n",
    "        streets_within_circoscrizione = gpd.sjoin(street_geometries, circoscrizioni_current, predicate='within')\n",
    "\n",
    "        # Rename or drop 'index_left' and 'index_right' columns if they exist\n",
    "        if 'index_left' in trees_within_circoscrizione.columns:\n",
    "            trees_within_circoscrizione = trees_within_circoscrizione.rename(columns={'index_left': 'index_left_old'})\n",
    "        if 'index_right' in trees_within_circoscrizione.columns:\n",
    "            trees_within_circoscrizione = trees_within_circoscrizione.rename(columns={'index_right': 'index_right_old'})\n",
    "\n",
    "        # Find streets with existing trees\n",
    "        streets_with_trees = []\n",
    "        for street in streets_within_circoscrizione.geometry:\n",
    "            # change the crs of the street to the same as the trees\n",
    "            street = gpd.GeoDataFrame(geometry=[street])\n",
    "            street.crs = circoscrizioni_current.crs\n",
    "            # Find the trees near the street\n",
    "            \n",
    "            trees_within_street = gpd.sjoin(trees_within_circoscrizione, street, predicate='within')\n",
    "            if len(trees_within_street) > 0:\n",
    "                streets_with_trees.append(street)\n",
    "\n",
    "        if len(streets_with_trees) > 0:\n",
    "            # Suggest a position near an existing tree along a street\n",
    "            suggested_position = streets_with_trees.iloc[0].interpolate(0.1, normalized=True)\n",
    "\n",
    "            return suggested_tree, suggested_position\n",
    "        else:\n",
    "            # If there are no streets with trees, return only the suggested tree\n",
    "            return suggested_tree, None\n"
   ]
  },
  {
   "cell_type": "code",
   "execution_count": 82,
   "metadata": {},
   "outputs": [],
   "source": [
    "# give some random cost to each unique species\n",
    "unique_species = trees['Name'].unique()\n",
    "costs = {}\n",
    "for species in unique_species:\n",
    "    costs[species] = np.random.randint(1, 100)"
   ]
  },
  {
   "cell_type": "code",
   "execution_count": 71,
   "metadata": {},
   "outputs": [
    {
     "name": "stderr",
     "output_type": "stream",
     "text": [
      "/var/folders/j8/fjrnp8w15sbf5q2fdgnpb0br0000gn/T/ipykernel_10784/468719916.py:29: UserWarning: The buffer_dist argument as been deprecated and will be removed in a future release. Buffer your results directly, if desired.\n",
      "  boundaries = ox.geocode_to_gdf(query, buffer_dist=5000)\n",
      "/Users/luca/opt/anaconda3/envs/geo_env/lib/python3.10/site-packages/libpysal/weights/weights.py:172: UserWarning: The weights matrix is not fully connected: \n",
      " There are 277 disconnected components.\n",
      "  warnings.warn(message)\n"
     ]
    }
   ],
   "source": [
    "import geopandas as gpd\n",
    "#import pysal\n",
    "import libpysal as lp\n",
    "from spreg import OLS\n",
    "import numpy as np\n",
    "from pysal.model import spreg\n",
    "from pysal.lib import weights\n",
    "from scipy import stats\n",
    "import pandas as pd\n",
    "import geopandas as gpd\n",
    "import seaborn as sns\n",
    "import osmnx as ox\n",
    "sns.set(style=\"whitegrid\")\n",
    "\n",
    "# WE ARE WORKING WITH A SAMPLE OF THE DATA\n",
    "# Load your tree dataset with coordinates and ecological benefits\n",
    "data = gpd.read_file('../data/geojson/geo_data_trees.geojson')\n",
    "# take a random sample of the dataset (5000 rows)\n",
    "#trees = trees.sample(n=5000)\n",
    "\n",
    "data = data.drop([len(data)-1])\n",
    "\n",
    "# Read OSM data - get administrative boundaries\n",
    "\n",
    "# define the place query\n",
    "query = {'city': 'Bologna'}\n",
    "\n",
    "# get the boundaries of the place (add additional buffer around the query)\n",
    "boundaries = ox.geocode_to_gdf(query, buffer_dist=5000)\n",
    "\n",
    "# Filter data geographically\n",
    "trees_filtered = gpd.sjoin(data, boundaries[[\"geometry\"]])\n",
    "trees_filtered = trees_filtered.reset_index(drop=True)\n",
    "trees_filtered['Total Annual Benefits (eur/yr)'] = trees_filtered['Total Annual Benefits (eur/yr)'].str.replace(',', '.').astype(float)\n",
    "trees_filtered[\"Total Annual Benefits (eur/yr)\"] = trees_filtered[\"Total Annual Benefits (eur/yr)\"].astype(float)\n",
    "#trees_filtered['Carbon Storage (kg)'] = trees_filtered['Carbon Storage (kg)'].astype(float)\n",
    "trees_filtered['DBH (cm)'] = trees_filtered['DBH (cm)'].astype(float)\n",
    "trees_filtered[\"Height (m)\"] = trees_filtered[\"Height (m)\"].astype(float)\n",
    "trees_filtered['Name_id'] = trees_filtered['Name'].astype('category').cat.codes\n",
    "explanatory_vars = ['DBH (cm)', 'Name_id', 'Latitude', 'Longitude', 'Height (m)']\n",
    "trees_filtered[\"log_benefit\"] = np.log(trees_filtered[\"Total Annual Benefits (eur/yr)\"] + 0.000001)\n",
    "w = weights.KNN.from_dataframe(trees_filtered, k=8)\n",
    "w.transform = 'R'\n",
    "\n",
    "# Create weigts\n",
    "w_benefit = weights.KNN.from_dataframe(trees_filtered, k=8)\n",
    "\n",
    "# Assign spatial lag based on the pool values\n",
    "lagged = trees_filtered.assign(w_benefit=weights.spatial_lag.lag_spatial(w_benefit, trees_filtered['Total Annual Benefits (eur/yr)'].values))\n",
    "# Add pool to the explanatory variables\n",
    "extended_vars = explanatory_vars + [\"w_benefit\"]\n",
    "\n",
    "m2 = spreg.OLS(lagged[['Total Annual Benefits (eur/yr)']].values, lagged[extended_vars].values, \n",
    "               name_y = 'Total Annual Benefits (eur/yr)', name_x = extended_vars)"
   ]
  },
  {
   "cell_type": "code",
   "execution_count": 74,
   "metadata": {},
   "outputs": [],
   "source": [
    "import geopandas as gpd\n",
    "import numpy as np\n",
    "import libpysal as lp\n",
    "from spreg import OLS\n",
    "\n",
    "def total_annual_benefits_prediction (new_data):\n",
    "    # Convert to DataFrame\n",
    "    new_data_df = pd.DataFrame(new_data)\n",
    "\n",
    "    # Merge new data with the existing dataset for spatial weights calculation\n",
    "    combined_data = trees_filtered.append(new_data_df, ignore_index=True)\n",
    "\n",
    "    # Recalculate weights with the new point\n",
    "    coords = combined_data[['Longitude', 'Latitude']]\n",
    "    w_combined = lp.weights.KNN.from_array(coords.values, k=8)\n",
    "    w_combined.transform = 'R'\n",
    "    combined_data['w_benefit'] = lp.weights.spatial_lag.lag_spatial(w_combined, combined_data['Total Annual Benefits (eur/yr)'])\n",
    "\n",
    "    # Extract the spatial lag value for the new data point\n",
    "    new_point_lag = combined_data['w_benefit'].iloc[-1]\n",
    "\n",
    "    # Prepare the input data for prediction, including the spatial lag\n",
    "    new_data_input = new_data_df.assign(w_benefit=new_point_lag)\n",
    "    X_new = new_data_input[extended_vars].values\n",
    "\n",
    "    # Add intercept term to input data for prediction\n",
    "    X_new_with_intercept = np.hstack((np.ones((X_new.shape[0], 1)), X_new))\n",
    "\n",
    "    # Use the coefficients from the model to predict\n",
    "    coefficients = m2.betas\n",
    "    predicted_benefit = np.dot(X_new_with_intercept, coefficients)\n",
    "\n",
    "    # Print the predicted 'Total Annual Benefits (eur/yr)'\n",
    "    print(\"Predicted Total Annual Benefits (eur/yr):\", predicted_benefit[0])\n",
    "    return predicted_benefit[0]"
   ]
  },
  {
   "cell_type": "code",
   "execution_count": 84,
   "metadata": {},
   "outputs": [
    {
     "name": "stdout",
     "output_type": "stream",
     "text": [
      "suggested_tree Sycamore maple\n",
      "suggested_position {'x': 11.33910160166018, 'y': 44.49401052644469}\n",
      "new_data {'DBH (cm)': [35.8045223880597], 'Name_id': [0.0], 'Latitude': [44.49401052644469], 'Longitude': [11.33910160166018], 'Height (m)': [8.273134328358209]}\n"
     ]
    },
    {
     "name": "stderr",
     "output_type": "stream",
     "text": [
      "/var/folders/j8/fjrnp8w15sbf5q2fdgnpb0br0000gn/T/ipykernel_10784/3720113574.py:13: FutureWarning: The frame.append method is deprecated and will be removed from pandas in a future version. Use pandas.concat instead.\n",
      "  combined_data = trees_filtered.append(new_data_df, ignore_index=True)\n",
      "/Users/luca/opt/anaconda3/envs/geo_env/lib/python3.10/site-packages/libpysal/weights/weights.py:172: UserWarning: The weights matrix is not fully connected: \n",
      " There are 277 disconnected components.\n",
      "  warnings.warn(message)\n"
     ]
    },
    {
     "name": "stdout",
     "output_type": "stream",
     "text": [
      "Predicted Total Annual Benefits (eur/yr): [2.41344557]\n",
      "used_budget 32\n",
      "MARCONI-1\n"
     ]
    },
    {
     "name": "stderr",
     "output_type": "stream",
     "text": [
      "/Users/luca/opt/anaconda3/envs/geo_env/lib/python3.10/site-packages/sklearn/base.py:465: UserWarning: X does not have valid feature names, but RandomForestRegressor was fitted with feature names\n",
      "  warnings.warn(\n"
     ]
    },
    {
     "name": "stdout",
     "output_type": "stream",
     "text": [
      "More 10\n",
      "parks_within_circoscrizione 393    way/1187628486\n",
      "Name: id, dtype: object\n",
      "parks_with_low_proportion 0\n",
      "More_2 1\n",
      "suggested_tree Sycamore maple\n",
      "suggested_position {'x': 11.338694048168044, 'y': 44.496914384494914}\n",
      "new_data {'DBH (cm)': [35.8045223880597], 'Name_id': [0.0], 'Latitude': [44.496914384494914], 'Longitude': [11.338694048168044], 'Height (m)': [8.273134328358209]}\n"
     ]
    },
    {
     "name": "stderr",
     "output_type": "stream",
     "text": [
      "/var/folders/j8/fjrnp8w15sbf5q2fdgnpb0br0000gn/T/ipykernel_10784/3720113574.py:13: FutureWarning: The frame.append method is deprecated and will be removed from pandas in a future version. Use pandas.concat instead.\n",
      "  combined_data = trees_filtered.append(new_data_df, ignore_index=True)\n",
      "/Users/luca/opt/anaconda3/envs/geo_env/lib/python3.10/site-packages/libpysal/weights/weights.py:172: UserWarning: The weights matrix is not fully connected: \n",
      " There are 277 disconnected components.\n",
      "  warnings.warn(message)\n"
     ]
    },
    {
     "name": "stdout",
     "output_type": "stream",
     "text": [
      "Predicted Total Annual Benefits (eur/yr): [2.54189364]\n",
      "used_budget 64\n"
     ]
    },
    {
     "name": "stderr",
     "output_type": "stream",
     "text": [
      "/Users/luca/opt/anaconda3/envs/geo_env/lib/python3.10/site-packages/sklearn/base.py:465: UserWarning: X does not have valid feature names, but RandomForestRegressor was fitted with feature names\n",
      "  warnings.warn(\n"
     ]
    },
    {
     "name": "stdout",
     "output_type": "stream",
     "text": [
      "suggested_tree Sycamore maple\n",
      "suggested_position {'x': 11.365305750000001, 'y': 44.49020335}\n",
      "new_data {'DBH (cm)': [35.8045223880597], 'Name_id': [0.0], 'Latitude': [44.49020335], 'Longitude': [11.365305750000001], 'Height (m)': [8.273134328358209]}\n"
     ]
    },
    {
     "name": "stderr",
     "output_type": "stream",
     "text": [
      "/var/folders/j8/fjrnp8w15sbf5q2fdgnpb0br0000gn/T/ipykernel_10784/3720113574.py:13: FutureWarning: The frame.append method is deprecated and will be removed from pandas in a future version. Use pandas.concat instead.\n",
      "  combined_data = trees_filtered.append(new_data_df, ignore_index=True)\n",
      "/Users/luca/opt/anaconda3/envs/geo_env/lib/python3.10/site-packages/libpysal/weights/weights.py:172: UserWarning: The weights matrix is not fully connected: \n",
      " There are 277 disconnected components.\n",
      "  warnings.warn(message)\n"
     ]
    },
    {
     "name": "stdout",
     "output_type": "stream",
     "text": [
      "Predicted Total Annual Benefits (eur/yr): [2.43092791]\n",
      "used_budget 96\n"
     ]
    },
    {
     "name": "stderr",
     "output_type": "stream",
     "text": [
      "/Users/luca/opt/anaconda3/envs/geo_env/lib/python3.10/site-packages/sklearn/base.py:465: UserWarning: X does not have valid feature names, but RandomForestRegressor was fitted with feature names\n",
      "  warnings.warn(\n"
     ]
    },
    {
     "name": "stdout",
     "output_type": "stream",
     "text": [
      "suggested_tree Sycamore spp\n",
      "suggested_position {'x': 11.3448859172092, 'y': 44.4940125230839}\n",
      "new_data {'DBH (cm)': [39.36666217948718], 'Name_id': [0.0], 'Latitude': [44.4940125230839], 'Longitude': [11.3448859172092], 'Height (m)': [13.75849358974359]}\n"
     ]
    },
    {
     "name": "stderr",
     "output_type": "stream",
     "text": [
      "/var/folders/j8/fjrnp8w15sbf5q2fdgnpb0br0000gn/T/ipykernel_10784/3720113574.py:13: FutureWarning: The frame.append method is deprecated and will be removed from pandas in a future version. Use pandas.concat instead.\n",
      "  combined_data = trees_filtered.append(new_data_df, ignore_index=True)\n",
      "/Users/luca/opt/anaconda3/envs/geo_env/lib/python3.10/site-packages/libpysal/weights/weights.py:172: UserWarning: The weights matrix is not fully connected: \n",
      " There are 277 disconnected components.\n",
      "  warnings.warn(message)\n"
     ]
    },
    {
     "name": "stdout",
     "output_type": "stream",
     "text": [
      "Predicted Total Annual Benefits (eur/yr): [3.33206615]\n",
      "used_budget 160\n"
     ]
    },
    {
     "name": "stderr",
     "output_type": "stream",
     "text": [
      "/Users/luca/opt/anaconda3/envs/geo_env/lib/python3.10/site-packages/sklearn/base.py:465: UserWarning: X does not have valid feature names, but RandomForestRegressor was fitted with feature names\n",
      "  warnings.warn(\n"
     ]
    },
    {
     "name": "stdout",
     "output_type": "stream",
     "text": [
      "suggested_tree Sycamore maple\n",
      "suggested_position {'x': 11.34031308151786, 'y': 44.49422114500346}\n",
      "new_data {'DBH (cm)': [35.8045223880597], 'Name_id': [0.0], 'Latitude': [44.49422114500346], 'Longitude': [11.34031308151786], 'Height (m)': [8.273134328358209]}\n"
     ]
    },
    {
     "name": "stderr",
     "output_type": "stream",
     "text": [
      "/var/folders/j8/fjrnp8w15sbf5q2fdgnpb0br0000gn/T/ipykernel_10784/3720113574.py:13: FutureWarning: The frame.append method is deprecated and will be removed from pandas in a future version. Use pandas.concat instead.\n",
      "  combined_data = trees_filtered.append(new_data_df, ignore_index=True)\n",
      "/Users/luca/opt/anaconda3/envs/geo_env/lib/python3.10/site-packages/libpysal/weights/weights.py:172: UserWarning: The weights matrix is not fully connected: \n",
      " There are 277 disconnected components.\n",
      "  warnings.warn(message)\n"
     ]
    },
    {
     "name": "stdout",
     "output_type": "stream",
     "text": [
      "Predicted Total Annual Benefits (eur/yr): [2.68677198]\n",
      "used_budget 192\n",
      "MARCONI-1\n"
     ]
    },
    {
     "name": "stderr",
     "output_type": "stream",
     "text": [
      "/Users/luca/opt/anaconda3/envs/geo_env/lib/python3.10/site-packages/sklearn/base.py:465: UserWarning: X does not have valid feature names, but RandomForestRegressor was fitted with feature names\n",
      "  warnings.warn(\n"
     ]
    },
    {
     "name": "stdout",
     "output_type": "stream",
     "text": [
      "More 10\n",
      "parks_within_circoscrizione 393    way/1187628486\n",
      "Name: id, dtype: object\n",
      "parks_with_low_proportion 0\n",
      "More_2 1\n",
      "suggested_tree Sycamore maple\n",
      "suggested_position {'x': 11.338694048168044, 'y': 44.496914384494914}\n",
      "new_data {'DBH (cm)': [35.8045223880597], 'Name_id': [0.0], 'Latitude': [44.496914384494914], 'Longitude': [11.338694048168044], 'Height (m)': [8.273134328358209]}\n"
     ]
    },
    {
     "name": "stderr",
     "output_type": "stream",
     "text": [
      "/var/folders/j8/fjrnp8w15sbf5q2fdgnpb0br0000gn/T/ipykernel_10784/3720113574.py:13: FutureWarning: The frame.append method is deprecated and will be removed from pandas in a future version. Use pandas.concat instead.\n",
      "  combined_data = trees_filtered.append(new_data_df, ignore_index=True)\n",
      "/Users/luca/opt/anaconda3/envs/geo_env/lib/python3.10/site-packages/libpysal/weights/weights.py:172: UserWarning: The weights matrix is not fully connected: \n",
      " There are 277 disconnected components.\n",
      "  warnings.warn(message)\n"
     ]
    },
    {
     "name": "stdout",
     "output_type": "stream",
     "text": [
      "Predicted Total Annual Benefits (eur/yr): [2.54189364]\n",
      "used_budget 224\n"
     ]
    },
    {
     "name": "stderr",
     "output_type": "stream",
     "text": [
      "/Users/luca/opt/anaconda3/envs/geo_env/lib/python3.10/site-packages/sklearn/base.py:465: UserWarning: X does not have valid feature names, but RandomForestRegressor was fitted with feature names\n",
      "  warnings.warn(\n"
     ]
    },
    {
     "name": "stdout",
     "output_type": "stream",
     "text": [
      "suggested_tree Sycamore maple\n",
      "suggested_position {'x': 11.359575642952986, 'y': 44.49136507305282}\n",
      "new_data {'DBH (cm)': [35.8045223880597], 'Name_id': [0.0], 'Latitude': [44.49136507305282], 'Longitude': [11.359575642952986], 'Height (m)': [8.273134328358209]}\n"
     ]
    },
    {
     "name": "stderr",
     "output_type": "stream",
     "text": [
      "/var/folders/j8/fjrnp8w15sbf5q2fdgnpb0br0000gn/T/ipykernel_10784/3720113574.py:13: FutureWarning: The frame.append method is deprecated and will be removed from pandas in a future version. Use pandas.concat instead.\n",
      "  combined_data = trees_filtered.append(new_data_df, ignore_index=True)\n",
      "/Users/luca/opt/anaconda3/envs/geo_env/lib/python3.10/site-packages/libpysal/weights/weights.py:172: UserWarning: The weights matrix is not fully connected: \n",
      " There are 277 disconnected components.\n",
      "  warnings.warn(message)\n"
     ]
    },
    {
     "name": "stdout",
     "output_type": "stream",
     "text": [
      "Predicted Total Annual Benefits (eur/yr): [2.50400507]\n",
      "used_budget 256\n"
     ]
    },
    {
     "name": "stderr",
     "output_type": "stream",
     "text": [
      "/Users/luca/opt/anaconda3/envs/geo_env/lib/python3.10/site-packages/sklearn/base.py:465: UserWarning: X does not have valid feature names, but RandomForestRegressor was fitted with feature names\n",
      "  warnings.warn(\n"
     ]
    },
    {
     "name": "stdout",
     "output_type": "stream",
     "text": [
      "suggested_tree Sycamore maple\n",
      "suggested_position {'x': 11.34031308151786, 'y': 44.49422114500346}\n",
      "new_data {'DBH (cm)': [35.8045223880597], 'Name_id': [0.0], 'Latitude': [44.49422114500346], 'Longitude': [11.34031308151786], 'Height (m)': [8.273134328358209]}\n"
     ]
    },
    {
     "name": "stderr",
     "output_type": "stream",
     "text": [
      "/var/folders/j8/fjrnp8w15sbf5q2fdgnpb0br0000gn/T/ipykernel_10784/3720113574.py:13: FutureWarning: The frame.append method is deprecated and will be removed from pandas in a future version. Use pandas.concat instead.\n",
      "  combined_data = trees_filtered.append(new_data_df, ignore_index=True)\n",
      "/Users/luca/opt/anaconda3/envs/geo_env/lib/python3.10/site-packages/libpysal/weights/weights.py:172: UserWarning: The weights matrix is not fully connected: \n",
      " There are 277 disconnected components.\n",
      "  warnings.warn(message)\n"
     ]
    },
    {
     "name": "stdout",
     "output_type": "stream",
     "text": [
      "Predicted Total Annual Benefits (eur/yr): [2.68677198]\n",
      "used_budget 288\n"
     ]
    },
    {
     "name": "stderr",
     "output_type": "stream",
     "text": [
      "/Users/luca/opt/anaconda3/envs/geo_env/lib/python3.10/site-packages/sklearn/base.py:465: UserWarning: X does not have valid feature names, but RandomForestRegressor was fitted with feature names\n",
      "  warnings.warn(\n"
     ]
    },
    {
     "name": "stdout",
     "output_type": "stream",
     "text": [
      "suggested_tree Sycamore spp\n",
      "suggested_position {'x': 11.3451630995412, 'y': 44.4919106184123}\n",
      "new_data {'DBH (cm)': [39.36666217948718], 'Name_id': [0.0], 'Latitude': [44.4919106184123], 'Longitude': [11.3451630995412], 'Height (m)': [13.75849358974359]}\n"
     ]
    },
    {
     "name": "stderr",
     "output_type": "stream",
     "text": [
      "/var/folders/j8/fjrnp8w15sbf5q2fdgnpb0br0000gn/T/ipykernel_10784/3720113574.py:13: FutureWarning: The frame.append method is deprecated and will be removed from pandas in a future version. Use pandas.concat instead.\n",
      "  combined_data = trees_filtered.append(new_data_df, ignore_index=True)\n",
      "/Users/luca/opt/anaconda3/envs/geo_env/lib/python3.10/site-packages/libpysal/weights/weights.py:172: UserWarning: The weights matrix is not fully connected: \n",
      " There are 277 disconnected components.\n",
      "  warnings.warn(message)\n"
     ]
    },
    {
     "name": "stdout",
     "output_type": "stream",
     "text": [
      "Predicted Total Annual Benefits (eur/yr): [3.45008258]\n",
      "used_budget 352\n",
      "MARCONI-1\n"
     ]
    },
    {
     "name": "stderr",
     "output_type": "stream",
     "text": [
      "/Users/luca/opt/anaconda3/envs/geo_env/lib/python3.10/site-packages/sklearn/base.py:465: UserWarning: X does not have valid feature names, but RandomForestRegressor was fitted with feature names\n",
      "  warnings.warn(\n"
     ]
    },
    {
     "name": "stdout",
     "output_type": "stream",
     "text": [
      "More 10\n",
      "parks_within_circoscrizione 393    way/1187628486\n",
      "Name: id, dtype: object\n",
      "parks_with_low_proportion 0\n",
      "More_2 1\n",
      "suggested_tree Sycamore maple\n",
      "suggested_position {'x': 11.338694048168044, 'y': 44.496914384494914}\n",
      "new_data {'DBH (cm)': [35.8045223880597], 'Name_id': [0.0], 'Latitude': [44.496914384494914], 'Longitude': [11.338694048168044], 'Height (m)': [8.273134328358209]}\n"
     ]
    },
    {
     "name": "stderr",
     "output_type": "stream",
     "text": [
      "/var/folders/j8/fjrnp8w15sbf5q2fdgnpb0br0000gn/T/ipykernel_10784/3720113574.py:13: FutureWarning: The frame.append method is deprecated and will be removed from pandas in a future version. Use pandas.concat instead.\n",
      "  combined_data = trees_filtered.append(new_data_df, ignore_index=True)\n",
      "/Users/luca/opt/anaconda3/envs/geo_env/lib/python3.10/site-packages/libpysal/weights/weights.py:172: UserWarning: The weights matrix is not fully connected: \n",
      " There are 277 disconnected components.\n",
      "  warnings.warn(message)\n"
     ]
    },
    {
     "name": "stdout",
     "output_type": "stream",
     "text": [
      "Predicted Total Annual Benefits (eur/yr): [2.54189364]\n",
      "used_budget 384\n"
     ]
    },
    {
     "name": "stderr",
     "output_type": "stream",
     "text": [
      "/Users/luca/opt/anaconda3/envs/geo_env/lib/python3.10/site-packages/sklearn/base.py:465: UserWarning: X does not have valid feature names, but RandomForestRegressor was fitted with feature names\n",
      "  warnings.warn(\n"
     ]
    },
    {
     "name": "stdout",
     "output_type": "stream",
     "text": [
      "suggested_tree Sycamore maple\n",
      "suggested_position {'x': 11.365305750000001, 'y': 44.49020335}\n",
      "new_data {'DBH (cm)': [35.8045223880597], 'Name_id': [0.0], 'Latitude': [44.49020335], 'Longitude': [11.365305750000001], 'Height (m)': [8.273134328358209]}\n"
     ]
    },
    {
     "name": "stderr",
     "output_type": "stream",
     "text": [
      "/var/folders/j8/fjrnp8w15sbf5q2fdgnpb0br0000gn/T/ipykernel_10784/3720113574.py:13: FutureWarning: The frame.append method is deprecated and will be removed from pandas in a future version. Use pandas.concat instead.\n",
      "  combined_data = trees_filtered.append(new_data_df, ignore_index=True)\n",
      "/Users/luca/opt/anaconda3/envs/geo_env/lib/python3.10/site-packages/libpysal/weights/weights.py:172: UserWarning: The weights matrix is not fully connected: \n",
      " There are 277 disconnected components.\n",
      "  warnings.warn(message)\n"
     ]
    },
    {
     "name": "stdout",
     "output_type": "stream",
     "text": [
      "Predicted Total Annual Benefits (eur/yr): [2.43092791]\n",
      "used_budget 416\n"
     ]
    },
    {
     "name": "stderr",
     "output_type": "stream",
     "text": [
      "/Users/luca/opt/anaconda3/envs/geo_env/lib/python3.10/site-packages/sklearn/base.py:465: UserWarning: X does not have valid feature names, but RandomForestRegressor was fitted with feature names\n",
      "  warnings.warn(\n"
     ]
    },
    {
     "name": "stdout",
     "output_type": "stream",
     "text": [
      "suggested_tree Sycamore maple\n",
      "suggested_position {'x': 11.34072153042267, 'y': 44.493513432527855}\n",
      "new_data {'DBH (cm)': [35.8045223880597], 'Name_id': [0.0], 'Latitude': [44.493513432527855], 'Longitude': [11.34072153042267], 'Height (m)': [8.273134328358209]}\n"
     ]
    },
    {
     "name": "stderr",
     "output_type": "stream",
     "text": [
      "/var/folders/j8/fjrnp8w15sbf5q2fdgnpb0br0000gn/T/ipykernel_10784/3720113574.py:13: FutureWarning: The frame.append method is deprecated and will be removed from pandas in a future version. Use pandas.concat instead.\n",
      "  combined_data = trees_filtered.append(new_data_df, ignore_index=True)\n",
      "/Users/luca/opt/anaconda3/envs/geo_env/lib/python3.10/site-packages/libpysal/weights/weights.py:172: UserWarning: The weights matrix is not fully connected: \n",
      " There are 277 disconnected components.\n",
      "  warnings.warn(message)\n"
     ]
    },
    {
     "name": "stdout",
     "output_type": "stream",
     "text": [
      "Predicted Total Annual Benefits (eur/yr): [2.41171473]\n",
      "used_budget 448\n"
     ]
    },
    {
     "name": "stderr",
     "output_type": "stream",
     "text": [
      "/Users/luca/opt/anaconda3/envs/geo_env/lib/python3.10/site-packages/sklearn/base.py:465: UserWarning: X does not have valid feature names, but RandomForestRegressor was fitted with feature names\n",
      "  warnings.warn(\n"
     ]
    },
    {
     "name": "stdout",
     "output_type": "stream",
     "text": [
      "suggested_tree Sycamore spp\n",
      "suggested_position {'x': 11.3485355950126, 'y': 44.4919341406908}\n",
      "new_data {'DBH (cm)': [39.36666217948718], 'Name_id': [0.0], 'Latitude': [44.4919341406908], 'Longitude': [11.3485355950126], 'Height (m)': [13.75849358974359]}\n"
     ]
    },
    {
     "name": "stderr",
     "output_type": "stream",
     "text": [
      "/var/folders/j8/fjrnp8w15sbf5q2fdgnpb0br0000gn/T/ipykernel_10784/3720113574.py:13: FutureWarning: The frame.append method is deprecated and will be removed from pandas in a future version. Use pandas.concat instead.\n",
      "  combined_data = trees_filtered.append(new_data_df, ignore_index=True)\n",
      "/Users/luca/opt/anaconda3/envs/geo_env/lib/python3.10/site-packages/libpysal/weights/weights.py:172: UserWarning: The weights matrix is not fully connected: \n",
      " There are 277 disconnected components.\n",
      "  warnings.warn(message)\n"
     ]
    },
    {
     "name": "stdout",
     "output_type": "stream",
     "text": [
      "Predicted Total Annual Benefits (eur/yr): [3.41099895]\n",
      "used_budget 512\n",
      "MARCONI-1\n"
     ]
    },
    {
     "name": "stderr",
     "output_type": "stream",
     "text": [
      "/Users/luca/opt/anaconda3/envs/geo_env/lib/python3.10/site-packages/sklearn/base.py:465: UserWarning: X does not have valid feature names, but RandomForestRegressor was fitted with feature names\n",
      "  warnings.warn(\n"
     ]
    },
    {
     "name": "stdout",
     "output_type": "stream",
     "text": [
      "More 10\n",
      "parks_within_circoscrizione 393    way/1187628486\n",
      "Name: id, dtype: object\n",
      "parks_with_low_proportion 0\n",
      "More_2 1\n",
      "suggested_tree Sycamore maple\n",
      "suggested_position {'x': 11.338694048168044, 'y': 44.496914384494914}\n",
      "new_data {'DBH (cm)': [35.8045223880597], 'Name_id': [0.0], 'Latitude': [44.496914384494914], 'Longitude': [11.338694048168044], 'Height (m)': [8.273134328358209]}\n"
     ]
    },
    {
     "name": "stderr",
     "output_type": "stream",
     "text": [
      "/var/folders/j8/fjrnp8w15sbf5q2fdgnpb0br0000gn/T/ipykernel_10784/3720113574.py:13: FutureWarning: The frame.append method is deprecated and will be removed from pandas in a future version. Use pandas.concat instead.\n",
      "  combined_data = trees_filtered.append(new_data_df, ignore_index=True)\n",
      "/Users/luca/opt/anaconda3/envs/geo_env/lib/python3.10/site-packages/libpysal/weights/weights.py:172: UserWarning: The weights matrix is not fully connected: \n",
      " There are 277 disconnected components.\n",
      "  warnings.warn(message)\n"
     ]
    },
    {
     "name": "stdout",
     "output_type": "stream",
     "text": [
      "Predicted Total Annual Benefits (eur/yr): [2.54189364]\n",
      "used_budget 544\n"
     ]
    },
    {
     "name": "stderr",
     "output_type": "stream",
     "text": [
      "/Users/luca/opt/anaconda3/envs/geo_env/lib/python3.10/site-packages/sklearn/base.py:465: UserWarning: X does not have valid feature names, but RandomForestRegressor was fitted with feature names\n",
      "  warnings.warn(\n"
     ]
    },
    {
     "name": "stdout",
     "output_type": "stream",
     "text": [
      "suggested_tree Sycamore maple\n",
      "suggested_position {'x': 11.359575642952986, 'y': 44.49136507305282}\n",
      "new_data {'DBH (cm)': [35.8045223880597], 'Name_id': [0.0], 'Latitude': [44.49136507305282], 'Longitude': [11.359575642952986], 'Height (m)': [8.273134328358209]}\n"
     ]
    },
    {
     "name": "stderr",
     "output_type": "stream",
     "text": [
      "/var/folders/j8/fjrnp8w15sbf5q2fdgnpb0br0000gn/T/ipykernel_10784/3720113574.py:13: FutureWarning: The frame.append method is deprecated and will be removed from pandas in a future version. Use pandas.concat instead.\n",
      "  combined_data = trees_filtered.append(new_data_df, ignore_index=True)\n",
      "/Users/luca/opt/anaconda3/envs/geo_env/lib/python3.10/site-packages/libpysal/weights/weights.py:172: UserWarning: The weights matrix is not fully connected: \n",
      " There are 277 disconnected components.\n",
      "  warnings.warn(message)\n"
     ]
    },
    {
     "name": "stdout",
     "output_type": "stream",
     "text": [
      "Predicted Total Annual Benefits (eur/yr): [2.50400507]\n",
      "used_budget 576\n"
     ]
    },
    {
     "name": "stderr",
     "output_type": "stream",
     "text": [
      "/Users/luca/opt/anaconda3/envs/geo_env/lib/python3.10/site-packages/sklearn/base.py:465: UserWarning: X does not have valid feature names, but RandomForestRegressor was fitted with feature names\n",
      "  warnings.warn(\n"
     ]
    },
    {
     "name": "stdout",
     "output_type": "stream",
     "text": [
      "suggested_tree Sycamore maple\n",
      "suggested_position {'x': 11.34031308151786, 'y': 44.49422114500346}\n",
      "new_data {'DBH (cm)': [35.8045223880597], 'Name_id': [0.0], 'Latitude': [44.49422114500346], 'Longitude': [11.34031308151786], 'Height (m)': [8.273134328358209]}\n"
     ]
    },
    {
     "name": "stderr",
     "output_type": "stream",
     "text": [
      "/var/folders/j8/fjrnp8w15sbf5q2fdgnpb0br0000gn/T/ipykernel_10784/3720113574.py:13: FutureWarning: The frame.append method is deprecated and will be removed from pandas in a future version. Use pandas.concat instead.\n",
      "  combined_data = trees_filtered.append(new_data_df, ignore_index=True)\n",
      "/Users/luca/opt/anaconda3/envs/geo_env/lib/python3.10/site-packages/libpysal/weights/weights.py:172: UserWarning: The weights matrix is not fully connected: \n",
      " There are 277 disconnected components.\n",
      "  warnings.warn(message)\n"
     ]
    },
    {
     "name": "stdout",
     "output_type": "stream",
     "text": [
      "Predicted Total Annual Benefits (eur/yr): [2.68677198]\n",
      "used_budget 608\n"
     ]
    },
    {
     "name": "stderr",
     "output_type": "stream",
     "text": [
      "/Users/luca/opt/anaconda3/envs/geo_env/lib/python3.10/site-packages/sklearn/base.py:465: UserWarning: X does not have valid feature names, but RandomForestRegressor was fitted with feature names\n",
      "  warnings.warn(\n"
     ]
    },
    {
     "name": "stdout",
     "output_type": "stream",
     "text": [
      "suggested_tree Sycamore spp\n",
      "suggested_position {'x': 11.3454840437852, 'y': 44.4918192116694}\n",
      "new_data {'DBH (cm)': [39.36666217948718], 'Name_id': [0.0], 'Latitude': [44.4918192116694], 'Longitude': [11.3454840437852], 'Height (m)': [13.75849358974359]}\n"
     ]
    },
    {
     "name": "stderr",
     "output_type": "stream",
     "text": [
      "/var/folders/j8/fjrnp8w15sbf5q2fdgnpb0br0000gn/T/ipykernel_10784/3720113574.py:13: FutureWarning: The frame.append method is deprecated and will be removed from pandas in a future version. Use pandas.concat instead.\n",
      "  combined_data = trees_filtered.append(new_data_df, ignore_index=True)\n",
      "/Users/luca/opt/anaconda3/envs/geo_env/lib/python3.10/site-packages/libpysal/weights/weights.py:172: UserWarning: The weights matrix is not fully connected: \n",
      " There are 277 disconnected components.\n",
      "  warnings.warn(message)\n"
     ]
    },
    {
     "name": "stdout",
     "output_type": "stream",
     "text": [
      "Predicted Total Annual Benefits (eur/yr): [3.44975643]\n",
      "used_budget 672\n"
     ]
    },
    {
     "name": "stderr",
     "output_type": "stream",
     "text": [
      "/Users/luca/opt/anaconda3/envs/geo_env/lib/python3.10/site-packages/sklearn/base.py:465: UserWarning: X does not have valid feature names, but RandomForestRegressor was fitted with feature names\n",
      "  warnings.warn(\n"
     ]
    },
    {
     "name": "stdout",
     "output_type": "stream",
     "text": [
      "suggested_tree Sycamore maple\n",
      "suggested_position {'x': 11.349497036410424, 'y': 44.49352885003733}\n",
      "new_data {'DBH (cm)': [35.8045223880597], 'Name_id': [0.0], 'Latitude': [44.49352885003733], 'Longitude': [11.349497036410424], 'Height (m)': [8.273134328358209]}\n"
     ]
    },
    {
     "name": "stderr",
     "output_type": "stream",
     "text": [
      "/var/folders/j8/fjrnp8w15sbf5q2fdgnpb0br0000gn/T/ipykernel_10784/3720113574.py:13: FutureWarning: The frame.append method is deprecated and will be removed from pandas in a future version. Use pandas.concat instead.\n",
      "  combined_data = trees_filtered.append(new_data_df, ignore_index=True)\n",
      "/Users/luca/opt/anaconda3/envs/geo_env/lib/python3.10/site-packages/libpysal/weights/weights.py:172: UserWarning: The weights matrix is not fully connected: \n",
      " There are 276 disconnected components.\n",
      "  warnings.warn(message)\n"
     ]
    },
    {
     "name": "stdout",
     "output_type": "stream",
     "text": [
      "Predicted Total Annual Benefits (eur/yr): [2.54890099]\n",
      "used_budget 704\n",
      "MARCONI-1\n"
     ]
    },
    {
     "name": "stderr",
     "output_type": "stream",
     "text": [
      "/Users/luca/opt/anaconda3/envs/geo_env/lib/python3.10/site-packages/sklearn/base.py:465: UserWarning: X does not have valid feature names, but RandomForestRegressor was fitted with feature names\n",
      "  warnings.warn(\n"
     ]
    },
    {
     "name": "stdout",
     "output_type": "stream",
     "text": [
      "More 10\n",
      "parks_within_circoscrizione 393    way/1187628486\n",
      "Name: id, dtype: object\n",
      "parks_with_low_proportion 0\n",
      "More_2 1\n",
      "suggested_tree Sycamore maple\n",
      "suggested_position {'x': 11.338694048168044, 'y': 44.496914384494914}\n",
      "new_data {'DBH (cm)': [35.8045223880597], 'Name_id': [0.0], 'Latitude': [44.496914384494914], 'Longitude': [11.338694048168044], 'Height (m)': [8.273134328358209]}\n"
     ]
    },
    {
     "name": "stderr",
     "output_type": "stream",
     "text": [
      "/var/folders/j8/fjrnp8w15sbf5q2fdgnpb0br0000gn/T/ipykernel_10784/3720113574.py:13: FutureWarning: The frame.append method is deprecated and will be removed from pandas in a future version. Use pandas.concat instead.\n",
      "  combined_data = trees_filtered.append(new_data_df, ignore_index=True)\n",
      "/Users/luca/opt/anaconda3/envs/geo_env/lib/python3.10/site-packages/libpysal/weights/weights.py:172: UserWarning: The weights matrix is not fully connected: \n",
      " There are 277 disconnected components.\n",
      "  warnings.warn(message)\n"
     ]
    },
    {
     "name": "stdout",
     "output_type": "stream",
     "text": [
      "Predicted Total Annual Benefits (eur/yr): [2.54189364]\n",
      "used_budget 736\n"
     ]
    },
    {
     "name": "stderr",
     "output_type": "stream",
     "text": [
      "/Users/luca/opt/anaconda3/envs/geo_env/lib/python3.10/site-packages/sklearn/base.py:465: UserWarning: X does not have valid feature names, but RandomForestRegressor was fitted with feature names\n",
      "  warnings.warn(\n"
     ]
    },
    {
     "name": "stdout",
     "output_type": "stream",
     "text": [
      "suggested_tree Sycamore maple\n",
      "suggested_position {'x': 11.365570200000006, 'y': 44.49001275}\n",
      "new_data {'DBH (cm)': [35.8045223880597], 'Name_id': [0.0], 'Latitude': [44.49001275], 'Longitude': [11.365570200000006], 'Height (m)': [8.273134328358209]}\n"
     ]
    },
    {
     "name": "stderr",
     "output_type": "stream",
     "text": [
      "/var/folders/j8/fjrnp8w15sbf5q2fdgnpb0br0000gn/T/ipykernel_10784/3720113574.py:13: FutureWarning: The frame.append method is deprecated and will be removed from pandas in a future version. Use pandas.concat instead.\n",
      "  combined_data = trees_filtered.append(new_data_df, ignore_index=True)\n",
      "/Users/luca/opt/anaconda3/envs/geo_env/lib/python3.10/site-packages/libpysal/weights/weights.py:172: UserWarning: The weights matrix is not fully connected: \n",
      " There are 277 disconnected components.\n",
      "  warnings.warn(message)\n"
     ]
    },
    {
     "name": "stdout",
     "output_type": "stream",
     "text": [
      "Predicted Total Annual Benefits (eur/yr): [2.44827333]\n",
      "used_budget 768\n"
     ]
    },
    {
     "name": "stderr",
     "output_type": "stream",
     "text": [
      "/Users/luca/opt/anaconda3/envs/geo_env/lib/python3.10/site-packages/sklearn/base.py:465: UserWarning: X does not have valid feature names, but RandomForestRegressor was fitted with feature names\n",
      "  warnings.warn(\n"
     ]
    },
    {
     "name": "stdout",
     "output_type": "stream",
     "text": [
      "suggested_tree Sycamore maple\n",
      "suggested_position {'x': 11.34072153042267, 'y': 44.493513432527855}\n",
      "new_data {'DBH (cm)': [35.8045223880597], 'Name_id': [0.0], 'Latitude': [44.493513432527855], 'Longitude': [11.34072153042267], 'Height (m)': [8.273134328358209]}\n"
     ]
    },
    {
     "name": "stderr",
     "output_type": "stream",
     "text": [
      "/var/folders/j8/fjrnp8w15sbf5q2fdgnpb0br0000gn/T/ipykernel_10784/3720113574.py:13: FutureWarning: The frame.append method is deprecated and will be removed from pandas in a future version. Use pandas.concat instead.\n",
      "  combined_data = trees_filtered.append(new_data_df, ignore_index=True)\n",
      "/Users/luca/opt/anaconda3/envs/geo_env/lib/python3.10/site-packages/libpysal/weights/weights.py:172: UserWarning: The weights matrix is not fully connected: \n",
      " There are 277 disconnected components.\n",
      "  warnings.warn(message)\n"
     ]
    },
    {
     "name": "stdout",
     "output_type": "stream",
     "text": [
      "Predicted Total Annual Benefits (eur/yr): [2.41171473]\n",
      "used_budget 800\n"
     ]
    },
    {
     "name": "stderr",
     "output_type": "stream",
     "text": [
      "/Users/luca/opt/anaconda3/envs/geo_env/lib/python3.10/site-packages/sklearn/base.py:465: UserWarning: X does not have valid feature names, but RandomForestRegressor was fitted with feature names\n",
      "  warnings.warn(\n"
     ]
    },
    {
     "name": "stdout",
     "output_type": "stream",
     "text": [
      "suggested_tree Sycamore maple\n",
      "suggested_position {'x': 11.349323298476532, 'y': 44.49333297977563}\n",
      "new_data {'DBH (cm)': [35.8045223880597], 'Name_id': [0.0], 'Latitude': [44.49333297977563], 'Longitude': [11.349323298476532], 'Height (m)': [8.273134328358209]}\n"
     ]
    },
    {
     "name": "stderr",
     "output_type": "stream",
     "text": [
      "/var/folders/j8/fjrnp8w15sbf5q2fdgnpb0br0000gn/T/ipykernel_10784/3720113574.py:13: FutureWarning: The frame.append method is deprecated and will be removed from pandas in a future version. Use pandas.concat instead.\n",
      "  combined_data = trees_filtered.append(new_data_df, ignore_index=True)\n",
      "/Users/luca/opt/anaconda3/envs/geo_env/lib/python3.10/site-packages/libpysal/weights/weights.py:172: UserWarning: The weights matrix is not fully connected: \n",
      " There are 277 disconnected components.\n",
      "  warnings.warn(message)\n"
     ]
    },
    {
     "name": "stdout",
     "output_type": "stream",
     "text": [
      "Predicted Total Annual Benefits (eur/yr): [2.5005512]\n",
      "used_budget 832\n"
     ]
    },
    {
     "name": "stderr",
     "output_type": "stream",
     "text": [
      "/Users/luca/opt/anaconda3/envs/geo_env/lib/python3.10/site-packages/sklearn/base.py:465: UserWarning: X does not have valid feature names, but RandomForestRegressor was fitted with feature names\n",
      "  warnings.warn(\n"
     ]
    },
    {
     "name": "stdout",
     "output_type": "stream",
     "text": [
      "suggested_tree Sycamore maple\n",
      "suggested_position {'x': 11.365570200000006, 'y': 44.49001275}\n",
      "new_data {'DBH (cm)': [35.8045223880597], 'Name_id': [0.0], 'Latitude': [44.49001275], 'Longitude': [11.365570200000006], 'Height (m)': [8.273134328358209]}\n"
     ]
    },
    {
     "name": "stderr",
     "output_type": "stream",
     "text": [
      "/var/folders/j8/fjrnp8w15sbf5q2fdgnpb0br0000gn/T/ipykernel_10784/3720113574.py:13: FutureWarning: The frame.append method is deprecated and will be removed from pandas in a future version. Use pandas.concat instead.\n",
      "  combined_data = trees_filtered.append(new_data_df, ignore_index=True)\n",
      "/Users/luca/opt/anaconda3/envs/geo_env/lib/python3.10/site-packages/libpysal/weights/weights.py:172: UserWarning: The weights matrix is not fully connected: \n",
      " There are 277 disconnected components.\n",
      "  warnings.warn(message)\n"
     ]
    },
    {
     "name": "stdout",
     "output_type": "stream",
     "text": [
      "Predicted Total Annual Benefits (eur/yr): [2.44827333]\n",
      "used_budget 864\n",
      "MARCONI-1\n"
     ]
    },
    {
     "name": "stderr",
     "output_type": "stream",
     "text": [
      "/Users/luca/opt/anaconda3/envs/geo_env/lib/python3.10/site-packages/sklearn/base.py:465: UserWarning: X does not have valid feature names, but RandomForestRegressor was fitted with feature names\n",
      "  warnings.warn(\n"
     ]
    },
    {
     "name": "stdout",
     "output_type": "stream",
     "text": [
      "More 10\n",
      "parks_within_circoscrizione 393    way/1187628486\n",
      "Name: id, dtype: object\n",
      "parks_with_low_proportion 0\n",
      "More_2 1\n",
      "suggested_tree Sycamore maple\n",
      "suggested_position {'x': 11.338694048168044, 'y': 44.496914384494914}\n",
      "new_data {'DBH (cm)': [35.8045223880597], 'Name_id': [0.0], 'Latitude': [44.496914384494914], 'Longitude': [11.338694048168044], 'Height (m)': [8.273134328358209]}\n"
     ]
    },
    {
     "name": "stderr",
     "output_type": "stream",
     "text": [
      "/var/folders/j8/fjrnp8w15sbf5q2fdgnpb0br0000gn/T/ipykernel_10784/3720113574.py:13: FutureWarning: The frame.append method is deprecated and will be removed from pandas in a future version. Use pandas.concat instead.\n",
      "  combined_data = trees_filtered.append(new_data_df, ignore_index=True)\n",
      "/Users/luca/opt/anaconda3/envs/geo_env/lib/python3.10/site-packages/libpysal/weights/weights.py:172: UserWarning: The weights matrix is not fully connected: \n",
      " There are 277 disconnected components.\n",
      "  warnings.warn(message)\n"
     ]
    },
    {
     "name": "stdout",
     "output_type": "stream",
     "text": [
      "Predicted Total Annual Benefits (eur/yr): [2.54189364]\n",
      "used_budget 896\n"
     ]
    },
    {
     "name": "stderr",
     "output_type": "stream",
     "text": [
      "/Users/luca/opt/anaconda3/envs/geo_env/lib/python3.10/site-packages/sklearn/base.py:465: UserWarning: X does not have valid feature names, but RandomForestRegressor was fitted with feature names\n",
      "  warnings.warn(\n"
     ]
    },
    {
     "name": "stdout",
     "output_type": "stream",
     "text": [
      "suggested_tree Sycamore spp\n",
      "suggested_position {'x': 11.3448859172092, 'y': 44.4940125230839}\n",
      "new_data {'DBH (cm)': [39.36666217948718], 'Name_id': [0.0], 'Latitude': [44.4940125230839], 'Longitude': [11.3448859172092], 'Height (m)': [13.75849358974359]}\n"
     ]
    },
    {
     "name": "stderr",
     "output_type": "stream",
     "text": [
      "/var/folders/j8/fjrnp8w15sbf5q2fdgnpb0br0000gn/T/ipykernel_10784/3720113574.py:13: FutureWarning: The frame.append method is deprecated and will be removed from pandas in a future version. Use pandas.concat instead.\n",
      "  combined_data = trees_filtered.append(new_data_df, ignore_index=True)\n",
      "/Users/luca/opt/anaconda3/envs/geo_env/lib/python3.10/site-packages/libpysal/weights/weights.py:172: UserWarning: The weights matrix is not fully connected: \n",
      " There are 277 disconnected components.\n",
      "  warnings.warn(message)\n"
     ]
    },
    {
     "name": "stdout",
     "output_type": "stream",
     "text": [
      "Predicted Total Annual Benefits (eur/yr): [3.33206615]\n",
      "used_budget 960\n"
     ]
    },
    {
     "name": "stderr",
     "output_type": "stream",
     "text": [
      "/Users/luca/opt/anaconda3/envs/geo_env/lib/python3.10/site-packages/sklearn/base.py:465: UserWarning: X does not have valid feature names, but RandomForestRegressor was fitted with feature names\n",
      "  warnings.warn(\n"
     ]
    },
    {
     "name": "stdout",
     "output_type": "stream",
     "text": [
      "suggested_tree Sycamore maple\n",
      "suggested_position {'x': 11.349323298476532, 'y': 44.49333297977563}\n",
      "new_data {'DBH (cm)': [35.8045223880597], 'Name_id': [0.0], 'Latitude': [44.49333297977563], 'Longitude': [11.349323298476532], 'Height (m)': [8.273134328358209]}\n"
     ]
    },
    {
     "name": "stderr",
     "output_type": "stream",
     "text": [
      "/var/folders/j8/fjrnp8w15sbf5q2fdgnpb0br0000gn/T/ipykernel_10784/3720113574.py:13: FutureWarning: The frame.append method is deprecated and will be removed from pandas in a future version. Use pandas.concat instead.\n",
      "  combined_data = trees_filtered.append(new_data_df, ignore_index=True)\n",
      "/Users/luca/opt/anaconda3/envs/geo_env/lib/python3.10/site-packages/libpysal/weights/weights.py:172: UserWarning: The weights matrix is not fully connected: \n",
      " There are 277 disconnected components.\n",
      "  warnings.warn(message)\n"
     ]
    },
    {
     "name": "stdout",
     "output_type": "stream",
     "text": [
      "Predicted Total Annual Benefits (eur/yr): [2.5005512]\n",
      "used_budget 992\n"
     ]
    },
    {
     "name": "stderr",
     "output_type": "stream",
     "text": [
      "/Users/luca/opt/anaconda3/envs/geo_env/lib/python3.10/site-packages/sklearn/base.py:465: UserWarning: X does not have valid feature names, but RandomForestRegressor was fitted with feature names\n",
      "  warnings.warn(\n"
     ]
    },
    {
     "name": "stdout",
     "output_type": "stream",
     "text": [
      "suggested_tree Sycamore maple\n",
      "suggested_position {'x': 11.33910160166018, 'y': 44.49401052644469}\n",
      "total_new_benefit 69.83993912269086\n"
     ]
    }
   ],
   "source": [
    "budget = 1000\n",
    "\n",
    "used_budget = 0\n",
    "# let's choose where to place the 100 trees, based on the proportion of the total benefits, we want to place the tree where the proportion is the lowest\n",
    "trees_to_place = []\n",
    "total_new_benefit = 0\n",
    "while (used_budget < budget):\n",
    "    # take the 30 circoscrizioni with the lowest NDVI index\n",
    "    circoscrizioni_with_lowest_ndvi = sorted(NDVI_circoscrizioni.items(), key=lambda x: x[1])[:30]\n",
    "    #print('circoscrizioni_with_lowest_ndvi', circoscrizioni_with_lowest_ndvi)\n",
    "    circoscrizioni_with_lowest_ndvi_names = [circoscrizione[0] for circoscrizione in circoscrizioni_with_lowest_ndvi]\n",
    "\n",
    "    # find the circoscrizione with the lowest proportion from the circoscrizioni_with_lowest_ndvi\n",
    "    filtered_total_benefits_proportion = [item for item in total_benefits_proportion if item['name'] in circoscrizioni_with_lowest_ndvi_names]\n",
    "    circoscrizione_with_lowest_proportion = min(filtered_total_benefits_proportion, key=lambda x:x['proportion'])\n",
    "    #print(circoscrizione_with_lowest_proportion['name'])\n",
    "\n",
    "    # find the best tree to place in that circoscrizione, find the tree that creates the highest benefits in that circoscrizione\n",
    "    suggested_tree, suggested_position = suggest_tree_circoscrizione(circoscrizione_with_lowest_proportion, trees)\n",
    "\n",
    "    print('suggested_tree', suggested_tree)\n",
    "    print('suggested_position', suggested_position)\n",
    "\n",
    "    if(costs[suggested_tree] > budget - used_budget):\n",
    "        break\n",
    "\n",
    "    # calculate the new proportion of the circoscrizione, update the total_benefits_proportion, add the mean value of benefit for the suggested tree to the total benefits\n",
    "    old_benefit = total_benefits_proportion[total_benefits_proportion.index(circoscrizione_with_lowest_proportion)]['total_benefits'].astype(float)\n",
    "    # we want to predict the benefits of the tree, based on the avarage DBH and Height of the tree from the regression model we trained\n",
    "    # New tree data\n",
    "    new_data = {'DBH (cm)': [trees[trees['Name'] == suggested_tree]['DBH (cm)'].astype(float).mean()], \n",
    "                # find the name_id of the tree that is called as the suggested_tree (return just one value)\n",
    "                'Name_id': [trees[trees['Name'] == suggested_tree]['Name_id'].astype('category').cat.codes.mean()],\n",
    "                'Latitude': [suggested_position['y']],\n",
    "                'Longitude': [suggested_position['x']],\n",
    "                'Height (m)': [trees[trees['Name'] == suggested_tree]['Height (m)'].astype(float).mean()]}\n",
    "    # Predict the total annual benefits\n",
    "    predicted_benefit = total_annual_benefits_prediction(new_data)\n",
    "    # convert the predicted_benefit to float\n",
    "    new_tree_benefit = float(predicted_benefit)\n",
    "    total_new_benefit = total_new_benefit + new_tree_benefit\n",
    "    new_benefit = old_benefit + reg_o3.predict([[trees[trees['Name'] == suggested_tree]['Name_id'].astype('category').cat.codes.mean(), trees[trees['Name'] == suggested_tree]['DBH (cm)'].astype(float).mean(), trees[trees['Name'] == suggested_tree]['Height (m)'].astype(float).mean()]])\n",
    "    #new_benefit = old_benefit + trees[trees['Name'] == suggested_tree]['Total Annual Benefits (eur/yr)'].astype(float).mean()\n",
    "\n",
    "    # add the tree to the list of the trees to place, we want to add the name of the tree and the circoscrizione\n",
    "    trees_to_place.append({\n",
    "        'tree': suggested_tree,\n",
    "        'circoscrizione': circoscrizione_with_lowest_proportion['name'],\n",
    "        'latitude': suggested_position['y'],\n",
    "        'longitude': suggested_position['x'],\n",
    "        'benefit': new_tree_benefit\n",
    "    })\n",
    "\n",
    "    # update the total_benefits_proportion\n",
    "    total_benefits_proportion[total_benefits_proportion.index(circoscrizione_with_lowest_proportion)]['total_benefits'] = new_benefit\n",
    "    #'proportion': float(total_benefits[i]) / float(circoscrizioni.iloc[i]['area']) new_benefit / circoscrizioni[circoscrizioni['nome'] == circoscrizione_with_lowest_proportion['name']].iloc[0]['area'].astype(float)\n",
    "    total_benefits_proportion[total_benefits_proportion.index(circoscrizione_with_lowest_proportion)]['proportion'] = new_benefit / float(circoscrizioni[circoscrizioni['nome'] == circoscrizione_with_lowest_proportion['name']].iloc[0]['area'])\n",
    "\n",
    "    # update the used budget\n",
    "    used_budget = used_budget + costs[suggested_tree]\n",
    "    print ('used_budget', used_budget)\n",
    "\n",
    "print('total_new_benefit', total_new_benefit)\n"
   ]
  },
  {
   "cell_type": "code",
   "execution_count": 85,
   "metadata": {},
   "outputs": [
    {
     "data": {
      "text/plain": [
       "<AxesSubplot:>"
      ]
     },
     "execution_count": 85,
     "metadata": {},
     "output_type": "execute_result"
    },
    {
     "data": {
      "image/png": "[encoded data removed]",
      "text/plain": [
       "<Figure size 1200x1200 with 1 Axes>"
      ]
     },
     "metadata": {},
     "output_type": "display_data"
    }
   ],
   "source": [
    "geo_data_trees = gpd.GeoDataFrame(\n",
    "    trees_to_place,\n",
    "    crs='EPSG:4326',\n",
    "    geometry=gpd.points_from_xy(\n",
    "        [tree['longitude'] for tree in trees_to_place],\n",
    "        [tree['latitude'] for tree in trees_to_place],\n",
    "    ),\n",
    ")\n",
    "\n",
    "geo_data_trees.to_file(\"predict_trees.geojson\",driver=\"GeoJSON\")\n",
    "\n",
    "geo_data_trees.plot(figsize=(12,12))"
   ]
  },
  {
   "cell_type": "markdown",
   "metadata": {},
   "source": [
    "We understood that the area of the geometry is not m^2, is a different unit. Since the used unit is the same for all the objects, we can still use it to compare the areas of the objects."
   ]
  }
 ],
 "metadata": {
  "kernelspec": {
   "display_name": "geo_env",
   "language": "python",
   "name": "python3"
  },
  "language_info": {
   "codemirror_mode": {
    "name": "ipython",
    "version": 3
   },
   "file_extension": ".py",
   "mimetype": "text/x-python",
   "name": "python",
   "nbconvert_exporter": "python",
   "pygments_lexer": "ipython3",
   "version": "3.10.5"
  }
 },
 "nbformat": 4,
 "nbformat_minor": 2
}
